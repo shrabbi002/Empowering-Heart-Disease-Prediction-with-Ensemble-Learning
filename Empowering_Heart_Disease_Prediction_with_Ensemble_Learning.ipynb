{
  "metadata": {
    "kernelspec": {
      "language": "python",
      "display_name": "Python 3",
      "name": "python3"
    },
    "language_info": {
      "name": "python",
      "version": "3.7.12",
      "mimetype": "text/x-python",
      "codemirror_mode": {
        "name": "ipython",
        "version": 3
      },
      "pygments_lexer": "ipython3",
      "nbconvert_exporter": "python",
      "file_extension": ".py"
    },
    "colab": {
      "provenance": []
    }
  },
  "nbformat_minor": 0,
  "nbformat": 4,
  "cells": [
    {
      "cell_type": "markdown",
      "source": [
        "heart-disease-prediction-with-ensemble-learning.ipynb"
      ],
      "metadata": {
        "id": "kfWeDdawLtuG"
      }
    },
    {
      "cell_type": "code",
      "source": [
        "import numpy as np\n",
        "import pandas as pd\n",
        "import seaborn as sns\n",
        "import matplotlib.pyplot as plt\n",
        "\n",
        "%matplotlib inline\n",
        "# %matplotlib notebook\n",
        "plt.rcParams[\"figure.figsize\"] = (10,6)\n",
        "plt.rcParams['figure.dpi'] = 100\n",
        "sns.set_style(\"whitegrid\")\n",
        "import warnings\n",
        "warnings.filterwarnings(\"ignore\")\n",
        "warnings.warn(\"this will not show\")\n",
        "pd.set_option('display.float_format', lambda x: '%.3f' % x)\n",
        "pd.options.display.max_rows = 100\n",
        "pd.options.display.max_columns = 100"
      ],
      "metadata": {
        "_uuid": "8f2839f25d086af736a60e9eeb907d3b93b6e0e5",
        "_cell_guid": "b1076dfc-b9ad-4769-8c92-a6c4dae69d19",
        "id": "V98NdoUgtzTF",
        "execution": {
          "iopub.status.busy": "2022-07-31T16:42:30.643686Z",
          "iopub.execute_input": "2022-07-31T16:42:30.644089Z",
          "iopub.status.idle": "2022-07-31T16:42:31.529421Z",
          "shell.execute_reply.started": "2022-07-31T16:42:30.643998Z",
          "shell.execute_reply": "2022-07-31T16:42:31.528492Z"
        },
        "trusted": true
      },
      "execution_count": null,
      "outputs": []
    },
    {
      "cell_type": "code",
      "source": [
        "# pip install --upgrade matplotlib"
      ],
      "metadata": {
        "id": "nIV5gzFj_kcB",
        "execution": {
          "iopub.status.busy": "2022-07-31T16:42:31.531216Z",
          "iopub.execute_input": "2022-07-31T16:42:31.531588Z",
          "iopub.status.idle": "2022-07-31T16:42:31.538542Z",
          "shell.execute_reply.started": "2022-07-31T16:42:31.531554Z",
          "shell.execute_reply": "2022-07-31T16:42:31.537660Z"
        },
        "trusted": true
      },
      "execution_count": null,
      "outputs": []
    },
    {
      "cell_type": "markdown",
      "source": [
        "## Loading Dataset"
      ],
      "metadata": {
        "id": "OQxl2-9NLyLt"
      }
    },
    {
      "cell_type": "code",
      "source": [
        "df = pd.read_csv(\"../content/Cleveland Dataset.csv\")\n",
        "df.head()"
      ],
      "metadata": {
        "id": "6FiCrc3ptzTH",
        "outputId": "1456ba03-fb89-4ca2-aab8-3bfc74c756da",
        "execution": {
          "iopub.status.busy": "2022-07-31T16:42:31.541926Z",
          "iopub.execute_input": "2022-07-31T16:42:31.542756Z",
          "iopub.status.idle": "2022-07-31T16:42:31.579464Z",
          "shell.execute_reply.started": "2022-07-31T16:42:31.542718Z",
          "shell.execute_reply": "2022-07-31T16:42:31.578476Z"
        },
        "trusted": true,
        "colab": {
          "base_uri": "https://localhost:8080/",
          "height": 250
        }
      },
      "execution_count": null,
      "outputs": [
        {
          "output_type": "execute_result",
          "data": {
            "text/plain": [
              "   age  sex  cp  trestbps  chol  fbs  restecg  thalach  exang  oldpeak  slope  \\\n",
              "0   63    1   3       145   233    1        0      150      0    2.300      0   \n",
              "1   37    1   2       130   250    0        1      187      0    3.500      0   \n",
              "2   41    0   1       130   204    0        0      172      0    1.400      2   \n",
              "3   56    1   1       120   236    0        1      178      0    0.800      2   \n",
              "4   57    0   0       120   354    0        1      163      1    0.600      2   \n",
              "\n",
              "   ca  thal  target  \n",
              "0   0     1       1  \n",
              "1   0     2       1  \n",
              "2   0     2       1  \n",
              "3   0     2       1  \n",
              "4   0     2       1  "
            ],
            "text/html": [
              "\n",
              "  <div id=\"df-89f6c6a1-5631-45b5-bcc4-ffa35da96e9d\">\n",
              "    <div class=\"colab-df-container\">\n",
              "      <div>\n",
              "<style scoped>\n",
              "    .dataframe tbody tr th:only-of-type {\n",
              "        vertical-align: middle;\n",
              "    }\n",
              "\n",
              "    .dataframe tbody tr th {\n",
              "        vertical-align: top;\n",
              "    }\n",
              "\n",
              "    .dataframe thead th {\n",
              "        text-align: right;\n",
              "    }\n",
              "</style>\n",
              "<table border=\"1\" class=\"dataframe\">\n",
              "  <thead>\n",
              "    <tr style=\"text-align: right;\">\n",
              "      <th></th>\n",
              "      <th>age</th>\n",
              "      <th>sex</th>\n",
              "      <th>cp</th>\n",
              "      <th>trestbps</th>\n",
              "      <th>chol</th>\n",
              "      <th>fbs</th>\n",
              "      <th>restecg</th>\n",
              "      <th>thalach</th>\n",
              "      <th>exang</th>\n",
              "      <th>oldpeak</th>\n",
              "      <th>slope</th>\n",
              "      <th>ca</th>\n",
              "      <th>thal</th>\n",
              "      <th>target</th>\n",
              "    </tr>\n",
              "  </thead>\n",
              "  <tbody>\n",
              "    <tr>\n",
              "      <th>0</th>\n",
              "      <td>63</td>\n",
              "      <td>1</td>\n",
              "      <td>3</td>\n",
              "      <td>145</td>\n",
              "      <td>233</td>\n",
              "      <td>1</td>\n",
              "      <td>0</td>\n",
              "      <td>150</td>\n",
              "      <td>0</td>\n",
              "      <td>2.300</td>\n",
              "      <td>0</td>\n",
              "      <td>0</td>\n",
              "      <td>1</td>\n",
              "      <td>1</td>\n",
              "    </tr>\n",
              "    <tr>\n",
              "      <th>1</th>\n",
              "      <td>37</td>\n",
              "      <td>1</td>\n",
              "      <td>2</td>\n",
              "      <td>130</td>\n",
              "      <td>250</td>\n",
              "      <td>0</td>\n",
              "      <td>1</td>\n",
              "      <td>187</td>\n",
              "      <td>0</td>\n",
              "      <td>3.500</td>\n",
              "      <td>0</td>\n",
              "      <td>0</td>\n",
              "      <td>2</td>\n",
              "      <td>1</td>\n",
              "    </tr>\n",
              "    <tr>\n",
              "      <th>2</th>\n",
              "      <td>41</td>\n",
              "      <td>0</td>\n",
              "      <td>1</td>\n",
              "      <td>130</td>\n",
              "      <td>204</td>\n",
              "      <td>0</td>\n",
              "      <td>0</td>\n",
              "      <td>172</td>\n",
              "      <td>0</td>\n",
              "      <td>1.400</td>\n",
              "      <td>2</td>\n",
              "      <td>0</td>\n",
              "      <td>2</td>\n",
              "      <td>1</td>\n",
              "    </tr>\n",
              "    <tr>\n",
              "      <th>3</th>\n",
              "      <td>56</td>\n",
              "      <td>1</td>\n",
              "      <td>1</td>\n",
              "      <td>120</td>\n",
              "      <td>236</td>\n",
              "      <td>0</td>\n",
              "      <td>1</td>\n",
              "      <td>178</td>\n",
              "      <td>0</td>\n",
              "      <td>0.800</td>\n",
              "      <td>2</td>\n",
              "      <td>0</td>\n",
              "      <td>2</td>\n",
              "      <td>1</td>\n",
              "    </tr>\n",
              "    <tr>\n",
              "      <th>4</th>\n",
              "      <td>57</td>\n",
              "      <td>0</td>\n",
              "      <td>0</td>\n",
              "      <td>120</td>\n",
              "      <td>354</td>\n",
              "      <td>0</td>\n",
              "      <td>1</td>\n",
              "      <td>163</td>\n",
              "      <td>1</td>\n",
              "      <td>0.600</td>\n",
              "      <td>2</td>\n",
              "      <td>0</td>\n",
              "      <td>2</td>\n",
              "      <td>1</td>\n",
              "    </tr>\n",
              "  </tbody>\n",
              "</table>\n",
              "</div>\n",
              "      <button class=\"colab-df-convert\" onclick=\"convertToInteractive('df-89f6c6a1-5631-45b5-bcc4-ffa35da96e9d')\"\n",
              "              title=\"Convert this dataframe to an interactive table.\"\n",
              "              style=\"display:none;\">\n",
              "        \n",
              "  <svg xmlns=\"http://www.w3.org/2000/svg\" height=\"24px\"viewBox=\"0 0 24 24\"\n",
              "       width=\"24px\">\n",
              "    <path d=\"M0 0h24v24H0V0z\" fill=\"none\"/>\n",
              "    <path d=\"M18.56 5.44l.94 2.06.94-2.06 2.06-.94-2.06-.94-.94-2.06-.94 2.06-2.06.94zm-11 1L8.5 8.5l.94-2.06 2.06-.94-2.06-.94L8.5 2.5l-.94 2.06-2.06.94zm10 10l.94 2.06.94-2.06 2.06-.94-2.06-.94-.94-2.06-.94 2.06-2.06.94z\"/><path d=\"M17.41 7.96l-1.37-1.37c-.4-.4-.92-.59-1.43-.59-.52 0-1.04.2-1.43.59L10.3 9.45l-7.72 7.72c-.78.78-.78 2.05 0 2.83L4 21.41c.39.39.9.59 1.41.59.51 0 1.02-.2 1.41-.59l7.78-7.78 2.81-2.81c.8-.78.8-2.07 0-2.86zM5.41 20L4 18.59l7.72-7.72 1.47 1.35L5.41 20z\"/>\n",
              "  </svg>\n",
              "      </button>\n",
              "      \n",
              "  <style>\n",
              "    .colab-df-container {\n",
              "      display:flex;\n",
              "      flex-wrap:wrap;\n",
              "      gap: 12px;\n",
              "    }\n",
              "\n",
              "    .colab-df-convert {\n",
              "      background-color: #E8F0FE;\n",
              "      border: none;\n",
              "      border-radius: 50%;\n",
              "      cursor: pointer;\n",
              "      display: none;\n",
              "      fill: #1967D2;\n",
              "      height: 32px;\n",
              "      padding: 0 0 0 0;\n",
              "      width: 32px;\n",
              "    }\n",
              "\n",
              "    .colab-df-convert:hover {\n",
              "      background-color: #E2EBFA;\n",
              "      box-shadow: 0px 1px 2px rgba(60, 64, 67, 0.3), 0px 1px 3px 1px rgba(60, 64, 67, 0.15);\n",
              "      fill: #174EA6;\n",
              "    }\n",
              "\n",
              "    [theme=dark] .colab-df-convert {\n",
              "      background-color: #3B4455;\n",
              "      fill: #D2E3FC;\n",
              "    }\n",
              "\n",
              "    [theme=dark] .colab-df-convert:hover {\n",
              "      background-color: #434B5C;\n",
              "      box-shadow: 0px 1px 3px 1px rgba(0, 0, 0, 0.15);\n",
              "      filter: drop-shadow(0px 1px 2px rgba(0, 0, 0, 0.3));\n",
              "      fill: #FFFFFF;\n",
              "    }\n",
              "  </style>\n",
              "\n",
              "      <script>\n",
              "        const buttonEl =\n",
              "          document.querySelector('#df-89f6c6a1-5631-45b5-bcc4-ffa35da96e9d button.colab-df-convert');\n",
              "        buttonEl.style.display =\n",
              "          google.colab.kernel.accessAllowed ? 'block' : 'none';\n",
              "\n",
              "        async function convertToInteractive(key) {\n",
              "          const element = document.querySelector('#df-89f6c6a1-5631-45b5-bcc4-ffa35da96e9d');\n",
              "          const dataTable =\n",
              "            await google.colab.kernel.invokeFunction('convertToInteractive',\n",
              "                                                     [key], {});\n",
              "          if (!dataTable) return;\n",
              "\n",
              "          const docLinkHtml = 'Like what you see? Visit the ' +\n",
              "            '<a target=\"_blank\" href=https://colab.research.google.com/notebooks/data_table.ipynb>data table notebook</a>'\n",
              "            + ' to learn more about interactive tables.';\n",
              "          element.innerHTML = '';\n",
              "          dataTable['output_type'] = 'display_data';\n",
              "          await google.colab.output.renderOutput(dataTable, element);\n",
              "          const docLink = document.createElement('div');\n",
              "          docLink.innerHTML = docLinkHtml;\n",
              "          element.appendChild(docLink);\n",
              "        }\n",
              "      </script>\n",
              "    </div>\n",
              "  </div>\n",
              "  "
            ]
          },
          "metadata": {},
          "execution_count": 3
        }
      ]
    },
    {
      "cell_type": "markdown",
      "source": [
        "# Exploratory Data Analysis (EDA)"
      ],
      "metadata": {
        "id": "NZI9bqLMtzTI"
      }
    },
    {
      "cell_type": "code",
      "source": [
        "df.info()"
      ],
      "metadata": {
        "id": "15tfNl7ItzTI",
        "outputId": "a7465784-9b6c-48fc-9015-f0f1b88eefcc",
        "execution": {
          "iopub.status.busy": "2022-07-31T16:42:31.582026Z",
          "iopub.execute_input": "2022-07-31T16:42:31.582912Z",
          "iopub.status.idle": "2022-07-31T16:42:31.604852Z",
          "shell.execute_reply.started": "2022-07-31T16:42:31.582874Z",
          "shell.execute_reply": "2022-07-31T16:42:31.603866Z"
        },
        "trusted": true,
        "colab": {
          "base_uri": "https://localhost:8080/"
        }
      },
      "execution_count": null,
      "outputs": [
        {
          "output_type": "stream",
          "name": "stdout",
          "text": [
            "<class 'pandas.core.frame.DataFrame'>\n",
            "RangeIndex: 303 entries, 0 to 302\n",
            "Data columns (total 14 columns):\n",
            " #   Column    Non-Null Count  Dtype  \n",
            "---  ------    --------------  -----  \n",
            " 0   age       303 non-null    int64  \n",
            " 1   sex       303 non-null    int64  \n",
            " 2   cp        303 non-null    int64  \n",
            " 3   trestbps  303 non-null    int64  \n",
            " 4   chol      303 non-null    int64  \n",
            " 5   fbs       303 non-null    int64  \n",
            " 6   restecg   303 non-null    int64  \n",
            " 7   thalach   303 non-null    int64  \n",
            " 8   exang     303 non-null    int64  \n",
            " 9   oldpeak   303 non-null    float64\n",
            " 10  slope     303 non-null    int64  \n",
            " 11  ca        303 non-null    int64  \n",
            " 12  thal      303 non-null    int64  \n",
            " 13  target    303 non-null    int64  \n",
            "dtypes: float64(1), int64(13)\n",
            "memory usage: 33.3 KB\n"
          ]
        }
      ]
    },
    {
      "cell_type": "markdown",
      "source": [
        "As can be seen from the table above there is no null value; however some values in the dataset have values like \"?\" , so we should convert them to \"Null\"."
      ],
      "metadata": {
        "id": "5x8FLvBCGv8F"
      }
    },
    {
      "cell_type": "code",
      "source": [
        "df.describe().T"
      ],
      "metadata": {
        "id": "nncSIZRBtzTJ",
        "outputId": "24ac5bbd-ed68-4230-c785-b6ee711d3c70",
        "execution": {
          "iopub.status.busy": "2022-07-31T16:42:31.606057Z",
          "iopub.execute_input": "2022-07-31T16:42:31.606475Z",
          "iopub.status.idle": "2022-07-31T16:42:31.635203Z",
          "shell.execute_reply.started": "2022-07-31T16:42:31.606439Z",
          "shell.execute_reply": "2022-07-31T16:42:31.634219Z"
        },
        "trusted": true,
        "colab": {
          "base_uri": "https://localhost:8080/",
          "height": 488
        }
      },
      "execution_count": null,
      "outputs": [
        {
          "output_type": "execute_result",
          "data": {
            "text/plain": [
              "           count    mean    std     min     25%     50%     75%     max\n",
              "age      303.000  54.366  9.082  29.000  47.500  55.000  61.000  77.000\n",
              "sex      303.000   0.683  0.466   0.000   0.000   1.000   1.000   1.000\n",
              "cp       303.000   0.967  1.032   0.000   0.000   1.000   2.000   3.000\n",
              "trestbps 303.000 131.624 17.538  94.000 120.000 130.000 140.000 200.000\n",
              "chol     303.000 246.264 51.831 126.000 211.000 240.000 274.500 564.000\n",
              "fbs      303.000   0.149  0.356   0.000   0.000   0.000   0.000   1.000\n",
              "restecg  303.000   0.528  0.526   0.000   0.000   1.000   1.000   2.000\n",
              "thalach  303.000 149.647 22.905  71.000 133.500 153.000 166.000 202.000\n",
              "exang    303.000   0.327  0.470   0.000   0.000   0.000   1.000   1.000\n",
              "oldpeak  303.000   1.040  1.161   0.000   0.000   0.800   1.600   6.200\n",
              "slope    303.000   1.399  0.616   0.000   1.000   1.000   2.000   2.000\n",
              "ca       303.000   0.729  1.023   0.000   0.000   0.000   1.000   4.000\n",
              "thal     303.000   2.314  0.612   0.000   2.000   2.000   3.000   3.000\n",
              "target   303.000   0.545  0.499   0.000   0.000   1.000   1.000   1.000"
            ],
            "text/html": [
              "\n",
              "  <div id=\"df-8a73fb58-39c2-4f2a-9c62-6bfba89f5412\">\n",
              "    <div class=\"colab-df-container\">\n",
              "      <div>\n",
              "<style scoped>\n",
              "    .dataframe tbody tr th:only-of-type {\n",
              "        vertical-align: middle;\n",
              "    }\n",
              "\n",
              "    .dataframe tbody tr th {\n",
              "        vertical-align: top;\n",
              "    }\n",
              "\n",
              "    .dataframe thead th {\n",
              "        text-align: right;\n",
              "    }\n",
              "</style>\n",
              "<table border=\"1\" class=\"dataframe\">\n",
              "  <thead>\n",
              "    <tr style=\"text-align: right;\">\n",
              "      <th></th>\n",
              "      <th>count</th>\n",
              "      <th>mean</th>\n",
              "      <th>std</th>\n",
              "      <th>min</th>\n",
              "      <th>25%</th>\n",
              "      <th>50%</th>\n",
              "      <th>75%</th>\n",
              "      <th>max</th>\n",
              "    </tr>\n",
              "  </thead>\n",
              "  <tbody>\n",
              "    <tr>\n",
              "      <th>age</th>\n",
              "      <td>303.000</td>\n",
              "      <td>54.366</td>\n",
              "      <td>9.082</td>\n",
              "      <td>29.000</td>\n",
              "      <td>47.500</td>\n",
              "      <td>55.000</td>\n",
              "      <td>61.000</td>\n",
              "      <td>77.000</td>\n",
              "    </tr>\n",
              "    <tr>\n",
              "      <th>sex</th>\n",
              "      <td>303.000</td>\n",
              "      <td>0.683</td>\n",
              "      <td>0.466</td>\n",
              "      <td>0.000</td>\n",
              "      <td>0.000</td>\n",
              "      <td>1.000</td>\n",
              "      <td>1.000</td>\n",
              "      <td>1.000</td>\n",
              "    </tr>\n",
              "    <tr>\n",
              "      <th>cp</th>\n",
              "      <td>303.000</td>\n",
              "      <td>0.967</td>\n",
              "      <td>1.032</td>\n",
              "      <td>0.000</td>\n",
              "      <td>0.000</td>\n",
              "      <td>1.000</td>\n",
              "      <td>2.000</td>\n",
              "      <td>3.000</td>\n",
              "    </tr>\n",
              "    <tr>\n",
              "      <th>trestbps</th>\n",
              "      <td>303.000</td>\n",
              "      <td>131.624</td>\n",
              "      <td>17.538</td>\n",
              "      <td>94.000</td>\n",
              "      <td>120.000</td>\n",
              "      <td>130.000</td>\n",
              "      <td>140.000</td>\n",
              "      <td>200.000</td>\n",
              "    </tr>\n",
              "    <tr>\n",
              "      <th>chol</th>\n",
              "      <td>303.000</td>\n",
              "      <td>246.264</td>\n",
              "      <td>51.831</td>\n",
              "      <td>126.000</td>\n",
              "      <td>211.000</td>\n",
              "      <td>240.000</td>\n",
              "      <td>274.500</td>\n",
              "      <td>564.000</td>\n",
              "    </tr>\n",
              "    <tr>\n",
              "      <th>fbs</th>\n",
              "      <td>303.000</td>\n",
              "      <td>0.149</td>\n",
              "      <td>0.356</td>\n",
              "      <td>0.000</td>\n",
              "      <td>0.000</td>\n",
              "      <td>0.000</td>\n",
              "      <td>0.000</td>\n",
              "      <td>1.000</td>\n",
              "    </tr>\n",
              "    <tr>\n",
              "      <th>restecg</th>\n",
              "      <td>303.000</td>\n",
              "      <td>0.528</td>\n",
              "      <td>0.526</td>\n",
              "      <td>0.000</td>\n",
              "      <td>0.000</td>\n",
              "      <td>1.000</td>\n",
              "      <td>1.000</td>\n",
              "      <td>2.000</td>\n",
              "    </tr>\n",
              "    <tr>\n",
              "      <th>thalach</th>\n",
              "      <td>303.000</td>\n",
              "      <td>149.647</td>\n",
              "      <td>22.905</td>\n",
              "      <td>71.000</td>\n",
              "      <td>133.500</td>\n",
              "      <td>153.000</td>\n",
              "      <td>166.000</td>\n",
              "      <td>202.000</td>\n",
              "    </tr>\n",
              "    <tr>\n",
              "      <th>exang</th>\n",
              "      <td>303.000</td>\n",
              "      <td>0.327</td>\n",
              "      <td>0.470</td>\n",
              "      <td>0.000</td>\n",
              "      <td>0.000</td>\n",
              "      <td>0.000</td>\n",
              "      <td>1.000</td>\n",
              "      <td>1.000</td>\n",
              "    </tr>\n",
              "    <tr>\n",
              "      <th>oldpeak</th>\n",
              "      <td>303.000</td>\n",
              "      <td>1.040</td>\n",
              "      <td>1.161</td>\n",
              "      <td>0.000</td>\n",
              "      <td>0.000</td>\n",
              "      <td>0.800</td>\n",
              "      <td>1.600</td>\n",
              "      <td>6.200</td>\n",
              "    </tr>\n",
              "    <tr>\n",
              "      <th>slope</th>\n",
              "      <td>303.000</td>\n",
              "      <td>1.399</td>\n",
              "      <td>0.616</td>\n",
              "      <td>0.000</td>\n",
              "      <td>1.000</td>\n",
              "      <td>1.000</td>\n",
              "      <td>2.000</td>\n",
              "      <td>2.000</td>\n",
              "    </tr>\n",
              "    <tr>\n",
              "      <th>ca</th>\n",
              "      <td>303.000</td>\n",
              "      <td>0.729</td>\n",
              "      <td>1.023</td>\n",
              "      <td>0.000</td>\n",
              "      <td>0.000</td>\n",
              "      <td>0.000</td>\n",
              "      <td>1.000</td>\n",
              "      <td>4.000</td>\n",
              "    </tr>\n",
              "    <tr>\n",
              "      <th>thal</th>\n",
              "      <td>303.000</td>\n",
              "      <td>2.314</td>\n",
              "      <td>0.612</td>\n",
              "      <td>0.000</td>\n",
              "      <td>2.000</td>\n",
              "      <td>2.000</td>\n",
              "      <td>3.000</td>\n",
              "      <td>3.000</td>\n",
              "    </tr>\n",
              "    <tr>\n",
              "      <th>target</th>\n",
              "      <td>303.000</td>\n",
              "      <td>0.545</td>\n",
              "      <td>0.499</td>\n",
              "      <td>0.000</td>\n",
              "      <td>0.000</td>\n",
              "      <td>1.000</td>\n",
              "      <td>1.000</td>\n",
              "      <td>1.000</td>\n",
              "    </tr>\n",
              "  </tbody>\n",
              "</table>\n",
              "</div>\n",
              "      <button class=\"colab-df-convert\" onclick=\"convertToInteractive('df-8a73fb58-39c2-4f2a-9c62-6bfba89f5412')\"\n",
              "              title=\"Convert this dataframe to an interactive table.\"\n",
              "              style=\"display:none;\">\n",
              "        \n",
              "  <svg xmlns=\"http://www.w3.org/2000/svg\" height=\"24px\"viewBox=\"0 0 24 24\"\n",
              "       width=\"24px\">\n",
              "    <path d=\"M0 0h24v24H0V0z\" fill=\"none\"/>\n",
              "    <path d=\"M18.56 5.44l.94 2.06.94-2.06 2.06-.94-2.06-.94-.94-2.06-.94 2.06-2.06.94zm-11 1L8.5 8.5l.94-2.06 2.06-.94-2.06-.94L8.5 2.5l-.94 2.06-2.06.94zm10 10l.94 2.06.94-2.06 2.06-.94-2.06-.94-.94-2.06-.94 2.06-2.06.94z\"/><path d=\"M17.41 7.96l-1.37-1.37c-.4-.4-.92-.59-1.43-.59-.52 0-1.04.2-1.43.59L10.3 9.45l-7.72 7.72c-.78.78-.78 2.05 0 2.83L4 21.41c.39.39.9.59 1.41.59.51 0 1.02-.2 1.41-.59l7.78-7.78 2.81-2.81c.8-.78.8-2.07 0-2.86zM5.41 20L4 18.59l7.72-7.72 1.47 1.35L5.41 20z\"/>\n",
              "  </svg>\n",
              "      </button>\n",
              "      \n",
              "  <style>\n",
              "    .colab-df-container {\n",
              "      display:flex;\n",
              "      flex-wrap:wrap;\n",
              "      gap: 12px;\n",
              "    }\n",
              "\n",
              "    .colab-df-convert {\n",
              "      background-color: #E8F0FE;\n",
              "      border: none;\n",
              "      border-radius: 50%;\n",
              "      cursor: pointer;\n",
              "      display: none;\n",
              "      fill: #1967D2;\n",
              "      height: 32px;\n",
              "      padding: 0 0 0 0;\n",
              "      width: 32px;\n",
              "    }\n",
              "\n",
              "    .colab-df-convert:hover {\n",
              "      background-color: #E2EBFA;\n",
              "      box-shadow: 0px 1px 2px rgba(60, 64, 67, 0.3), 0px 1px 3px 1px rgba(60, 64, 67, 0.15);\n",
              "      fill: #174EA6;\n",
              "    }\n",
              "\n",
              "    [theme=dark] .colab-df-convert {\n",
              "      background-color: #3B4455;\n",
              "      fill: #D2E3FC;\n",
              "    }\n",
              "\n",
              "    [theme=dark] .colab-df-convert:hover {\n",
              "      background-color: #434B5C;\n",
              "      box-shadow: 0px 1px 3px 1px rgba(0, 0, 0, 0.15);\n",
              "      filter: drop-shadow(0px 1px 2px rgba(0, 0, 0, 0.3));\n",
              "      fill: #FFFFFF;\n",
              "    }\n",
              "  </style>\n",
              "\n",
              "      <script>\n",
              "        const buttonEl =\n",
              "          document.querySelector('#df-8a73fb58-39c2-4f2a-9c62-6bfba89f5412 button.colab-df-convert');\n",
              "        buttonEl.style.display =\n",
              "          google.colab.kernel.accessAllowed ? 'block' : 'none';\n",
              "\n",
              "        async function convertToInteractive(key) {\n",
              "          const element = document.querySelector('#df-8a73fb58-39c2-4f2a-9c62-6bfba89f5412');\n",
              "          const dataTable =\n",
              "            await google.colab.kernel.invokeFunction('convertToInteractive',\n",
              "                                                     [key], {});\n",
              "          if (!dataTable) return;\n",
              "\n",
              "          const docLinkHtml = 'Like what you see? Visit the ' +\n",
              "            '<a target=\"_blank\" href=https://colab.research.google.com/notebooks/data_table.ipynb>data table notebook</a>'\n",
              "            + ' to learn more about interactive tables.';\n",
              "          element.innerHTML = '';\n",
              "          dataTable['output_type'] = 'display_data';\n",
              "          await google.colab.output.renderOutput(dataTable, element);\n",
              "          const docLink = document.createElement('div');\n",
              "          docLink.innerHTML = docLinkHtml;\n",
              "          element.appendChild(docLink);\n",
              "        }\n",
              "      </script>\n",
              "    </div>\n",
              "  </div>\n",
              "  "
            ]
          },
          "metadata": {},
          "execution_count": 5
        }
      ]
    },
    {
      "cell_type": "code",
      "source": [
        "sns.heatmap(df.corr(), annot=True);"
      ],
      "metadata": {
        "id": "FLeEBNEftzTK",
        "outputId": "8cc20a5f-9df2-4ebc-b1e7-c15fbaf7a1b6",
        "execution": {
          "iopub.status.busy": "2022-07-31T16:42:31.636491Z",
          "iopub.execute_input": "2022-07-31T16:42:31.637418Z",
          "iopub.status.idle": "2022-07-31T16:42:31.957913Z",
          "shell.execute_reply.started": "2022-07-31T16:42:31.637362Z",
          "shell.execute_reply": "2022-07-31T16:42:31.956977Z"
        },
        "trusted": true,
        "colab": {
          "base_uri": "https://localhost:8080/",
          "height": 524
        }
      },
      "execution_count": null,
      "outputs": [
        {
          "output_type": "display_data",
          "data": {
            "text/plain": [
              "<Figure size 1000x600 with 2 Axes>"
            ],
            "image/png": "[encoded data removed]"
          },
          "metadata": {}
        }
      ]
    },
    {
      "cell_type": "markdown",
      "source": [
        "Based on the heatmap above, correlation on cp(chest pain) and num(our main target and also known as \"attack\") and between oldpeak(st depression) and num have been detected."
      ],
      "metadata": {
        "id": "pQxB5m4ZLSLx"
      }
    },
    {
      "cell_type": "code",
      "source": [
        "df.duplicated().sum()\n"
      ],
      "metadata": {
        "id": "wGNXsi_AtzTK",
        "outputId": "e90e864f-dde3-42a2-c8e8-b5b53900613b",
        "execution": {
          "iopub.status.busy": "2022-07-31T16:42:31.959566Z",
          "iopub.execute_input": "2022-07-31T16:42:31.960136Z",
          "iopub.status.idle": "2022-07-31T16:42:31.972145Z",
          "shell.execute_reply.started": "2022-07-31T16:42:31.960095Z",
          "shell.execute_reply": "2022-07-31T16:42:31.971153Z"
        },
        "trusted": true,
        "colab": {
          "base_uri": "https://localhost:8080/"
        }
      },
      "execution_count": null,
      "outputs": [
        {
          "output_type": "execute_result",
          "data": {
            "text/plain": [
              "1"
            ]
          },
          "metadata": {},
          "execution_count": 7
        }
      ]
    },
    {
      "cell_type": "markdown",
      "source": [
        "The target variable's name has been changed in order to get the title of column clearly."
      ],
      "metadata": {
        "id": "wE_kLdN2y6sN"
      }
    },
    {
      "cell_type": "code",
      "source": [
        "df.columns"
      ],
      "metadata": {
        "id": "d4_1NAR-tzTK",
        "outputId": "d27aaa58-9fe5-4733-b9c2-4289de701090",
        "execution": {
          "iopub.status.busy": "2022-07-31T16:42:31.974326Z",
          "iopub.execute_input": "2022-07-31T16:42:31.974969Z",
          "iopub.status.idle": "2022-07-31T16:42:31.981373Z",
          "shell.execute_reply.started": "2022-07-31T16:42:31.974933Z",
          "shell.execute_reply": "2022-07-31T16:42:31.980344Z"
        },
        "trusted": true,
        "colab": {
          "base_uri": "https://localhost:8080/"
        }
      },
      "execution_count": null,
      "outputs": [
        {
          "output_type": "execute_result",
          "data": {
            "text/plain": [
              "Index(['age', 'sex', 'cp', 'trestbps', 'chol', 'fbs', 'restecg', 'thalach',\n",
              "       'exang', 'oldpeak', 'slope', 'ca', 'thal', 'target'],\n",
              "      dtype='object')"
            ]
          },
          "metadata": {},
          "execution_count": 8
        }
      ]
    },
    {
      "cell_type": "code",
      "source": [
        "df.rename(columns={'num       ': 'attack'}, inplace=True)"
      ],
      "metadata": {
        "id": "ue630iFZtzTL",
        "execution": {
          "iopub.status.busy": "2022-07-31T16:42:31.983058Z",
          "iopub.execute_input": "2022-07-31T16:42:31.983478Z",
          "iopub.status.idle": "2022-07-31T16:42:31.990067Z",
          "shell.execute_reply.started": "2022-07-31T16:42:31.983441Z",
          "shell.execute_reply": "2022-07-31T16:42:31.988911Z"
        },
        "trusted": true
      },
      "execution_count": null,
      "outputs": []
    },
    {
      "cell_type": "markdown",
      "source": [
        "Then question marks have been turned into Null."
      ],
      "metadata": {
        "id": "GZEqUanCzjfe"
      }
    },
    {
      "cell_type": "code",
      "source": [
        "df.replace(\"?\", np.nan, inplace=True)\n",
        "\n"
      ],
      "metadata": {
        "id": "WRDvosostzTL",
        "execution": {
          "iopub.status.busy": "2022-07-31T16:42:31.995460Z",
          "iopub.execute_input": "2022-07-31T16:42:31.995777Z",
          "iopub.status.idle": "2022-07-31T16:42:32.021492Z",
          "shell.execute_reply.started": "2022-07-31T16:42:31.995750Z",
          "shell.execute_reply": "2022-07-31T16:42:32.020562Z"
        },
        "trusted": true
      },
      "execution_count": null,
      "outputs": []
    },
    {
      "cell_type": "markdown",
      "source": [
        "Since data types of some columns were object, they were changed."
      ],
      "metadata": {
        "id": "QN0NDkHpzqNj"
      }
    },
    {
      "cell_type": "code",
      "source": [
        "df.dtypes"
      ],
      "metadata": {
        "id": "JARUahGGtzTL",
        "outputId": "132061e7-dbe2-4f79-dcba-32f61c4385a0",
        "execution": {
          "iopub.status.busy": "2022-07-31T16:42:32.022777Z",
          "iopub.execute_input": "2022-07-31T16:42:32.023331Z",
          "iopub.status.idle": "2022-07-31T16:42:32.030765Z",
          "shell.execute_reply.started": "2022-07-31T16:42:32.023297Z",
          "shell.execute_reply": "2022-07-31T16:42:32.029715Z"
        },
        "trusted": true,
        "colab": {
          "base_uri": "https://localhost:8080/"
        }
      },
      "execution_count": null,
      "outputs": [
        {
          "output_type": "execute_result",
          "data": {
            "text/plain": [
              "age           int64\n",
              "sex           int64\n",
              "cp            int64\n",
              "trestbps      int64\n",
              "chol          int64\n",
              "fbs           int64\n",
              "restecg       int64\n",
              "thalach       int64\n",
              "exang         int64\n",
              "oldpeak     float64\n",
              "slope         int64\n",
              "ca            int64\n",
              "thal          int64\n",
              "target        int64\n",
              "dtype: object"
            ]
          },
          "metadata": {},
          "execution_count": 11
        }
      ]
    },
    {
      "cell_type": "code",
      "source": [
        "# df = df.astype({'cp': 'int64',\n",
        "#                 'trestbps' : 'int64',\n",
        "#                 'chol': 'int64',\n",
        "#                 'fbs': 'int64',\n",
        "#                 'restecg': 'int64',\n",
        "#                 'oldpeak': 'int64',\n",
        "#                 'slope' : 'int64'\n",
        "\n",
        "\n",
        "#                 })"
      ],
      "metadata": {
        "id": "vBqzRRWYtzTM",
        "execution": {
          "iopub.status.busy": "2022-07-31T16:42:32.032328Z",
          "iopub.execute_input": "2022-07-31T16:42:32.033004Z",
          "iopub.status.idle": "2022-07-31T16:42:32.042988Z",
          "shell.execute_reply.started": "2022-07-31T16:42:32.032968Z",
          "shell.execute_reply": "2022-07-31T16:42:32.042100Z"
        },
        "trusted": true
      },
      "execution_count": null,
      "outputs": []
    },
    {
      "cell_type": "code",
      "source": [
        "df.head()"
      ],
      "metadata": {
        "id": "HuCJvzCYtzTM",
        "outputId": "fb973126-0cbb-4ecb-d84a-9f7ebfda5d15",
        "execution": {
          "iopub.status.busy": "2022-07-31T16:42:32.044075Z",
          "iopub.execute_input": "2022-07-31T16:42:32.044958Z",
          "iopub.status.idle": "2022-07-31T16:42:32.061104Z",
          "shell.execute_reply.started": "2022-07-31T16:42:32.044913Z",
          "shell.execute_reply": "2022-07-31T16:42:32.060222Z"
        },
        "trusted": true,
        "colab": {
          "base_uri": "https://localhost:8080/",
          "height": 250
        }
      },
      "execution_count": null,
      "outputs": [
        {
          "output_type": "execute_result",
          "data": {
            "text/plain": [
              "   age  sex  cp  trestbps  chol  fbs  restecg  thalach  exang  oldpeak  slope  \\\n",
              "0   63    1   3       145   233    1        0      150      0    2.300      0   \n",
              "1   37    1   2       130   250    0        1      187      0    3.500      0   \n",
              "2   41    0   1       130   204    0        0      172      0    1.400      2   \n",
              "3   56    1   1       120   236    0        1      178      0    0.800      2   \n",
              "4   57    0   0       120   354    0        1      163      1    0.600      2   \n",
              "\n",
              "   ca  thal  target  \n",
              "0   0     1       1  \n",
              "1   0     2       1  \n",
              "2   0     2       1  \n",
              "3   0     2       1  \n",
              "4   0     2       1  "
            ],
            "text/html": [
              "\n",
              "  <div id=\"df-e8782fdd-e93c-484f-ab08-5dda7963aa2b\">\n",
              "    <div class=\"colab-df-container\">\n",
              "      <div>\n",
              "<style scoped>\n",
              "    .dataframe tbody tr th:only-of-type {\n",
              "        vertical-align: middle;\n",
              "    }\n",
              "\n",
              "    .dataframe tbody tr th {\n",
              "        vertical-align: top;\n",
              "    }\n",
              "\n",
              "    .dataframe thead th {\n",
              "        text-align: right;\n",
              "    }\n",
              "</style>\n",
              "<table border=\"1\" class=\"dataframe\">\n",
              "  <thead>\n",
              "    <tr style=\"text-align: right;\">\n",
              "      <th></th>\n",
              "      <th>age</th>\n",
              "      <th>sex</th>\n",
              "      <th>cp</th>\n",
              "      <th>trestbps</th>\n",
              "      <th>chol</th>\n",
              "      <th>fbs</th>\n",
              "      <th>restecg</th>\n",
              "      <th>thalach</th>\n",
              "      <th>exang</th>\n",
              "      <th>oldpeak</th>\n",
              "      <th>slope</th>\n",
              "      <th>ca</th>\n",
              "      <th>thal</th>\n",
              "      <th>target</th>\n",
              "    </tr>\n",
              "  </thead>\n",
              "  <tbody>\n",
              "    <tr>\n",
              "      <th>0</th>\n",
              "      <td>63</td>\n",
              "      <td>1</td>\n",
              "      <td>3</td>\n",
              "      <td>145</td>\n",
              "      <td>233</td>\n",
              "      <td>1</td>\n",
              "      <td>0</td>\n",
              "      <td>150</td>\n",
              "      <td>0</td>\n",
              "      <td>2.300</td>\n",
              "      <td>0</td>\n",
              "      <td>0</td>\n",
              "      <td>1</td>\n",
              "      <td>1</td>\n",
              "    </tr>\n",
              "    <tr>\n",
              "      <th>1</th>\n",
              "      <td>37</td>\n",
              "      <td>1</td>\n",
              "      <td>2</td>\n",
              "      <td>130</td>\n",
              "      <td>250</td>\n",
              "      <td>0</td>\n",
              "      <td>1</td>\n",
              "      <td>187</td>\n",
              "      <td>0</td>\n",
              "      <td>3.500</td>\n",
              "      <td>0</td>\n",
              "      <td>0</td>\n",
              "      <td>2</td>\n",
              "      <td>1</td>\n",
              "    </tr>\n",
              "    <tr>\n",
              "      <th>2</th>\n",
              "      <td>41</td>\n",
              "      <td>0</td>\n",
              "      <td>1</td>\n",
              "      <td>130</td>\n",
              "      <td>204</td>\n",
              "      <td>0</td>\n",
              "      <td>0</td>\n",
              "      <td>172</td>\n",
              "      <td>0</td>\n",
              "      <td>1.400</td>\n",
              "      <td>2</td>\n",
              "      <td>0</td>\n",
              "      <td>2</td>\n",
              "      <td>1</td>\n",
              "    </tr>\n",
              "    <tr>\n",
              "      <th>3</th>\n",
              "      <td>56</td>\n",
              "      <td>1</td>\n",
              "      <td>1</td>\n",
              "      <td>120</td>\n",
              "      <td>236</td>\n",
              "      <td>0</td>\n",
              "      <td>1</td>\n",
              "      <td>178</td>\n",
              "      <td>0</td>\n",
              "      <td>0.800</td>\n",
              "      <td>2</td>\n",
              "      <td>0</td>\n",
              "      <td>2</td>\n",
              "      <td>1</td>\n",
              "    </tr>\n",
              "    <tr>\n",
              "      <th>4</th>\n",
              "      <td>57</td>\n",
              "      <td>0</td>\n",
              "      <td>0</td>\n",
              "      <td>120</td>\n",
              "      <td>354</td>\n",
              "      <td>0</td>\n",
              "      <td>1</td>\n",
              "      <td>163</td>\n",
              "      <td>1</td>\n",
              "      <td>0.600</td>\n",
              "      <td>2</td>\n",
              "      <td>0</td>\n",
              "      <td>2</td>\n",
              "      <td>1</td>\n",
              "    </tr>\n",
              "  </tbody>\n",
              "</table>\n",
              "</div>\n",
              "      <button class=\"colab-df-convert\" onclick=\"convertToInteractive('df-e8782fdd-e93c-484f-ab08-5dda7963aa2b')\"\n",
              "              title=\"Convert this dataframe to an interactive table.\"\n",
              "              style=\"display:none;\">\n",
              "        \n",
              "  <svg xmlns=\"http://www.w3.org/2000/svg\" height=\"24px\"viewBox=\"0 0 24 24\"\n",
              "       width=\"24px\">\n",
              "    <path d=\"M0 0h24v24H0V0z\" fill=\"none\"/>\n",
              "    <path d=\"M18.56 5.44l.94 2.06.94-2.06 2.06-.94-2.06-.94-.94-2.06-.94 2.06-2.06.94zm-11 1L8.5 8.5l.94-2.06 2.06-.94-2.06-.94L8.5 2.5l-.94 2.06-2.06.94zm10 10l.94 2.06.94-2.06 2.06-.94-2.06-.94-.94-2.06-.94 2.06-2.06.94z\"/><path d=\"M17.41 7.96l-1.37-1.37c-.4-.4-.92-.59-1.43-.59-.52 0-1.04.2-1.43.59L10.3 9.45l-7.72 7.72c-.78.78-.78 2.05 0 2.83L4 21.41c.39.39.9.59 1.41.59.51 0 1.02-.2 1.41-.59l7.78-7.78 2.81-2.81c.8-.78.8-2.07 0-2.86zM5.41 20L4 18.59l7.72-7.72 1.47 1.35L5.41 20z\"/>\n",
              "  </svg>\n",
              "      </button>\n",
              "      \n",
              "  <style>\n",
              "    .colab-df-container {\n",
              "      display:flex;\n",
              "      flex-wrap:wrap;\n",
              "      gap: 12px;\n",
              "    }\n",
              "\n",
              "    .colab-df-convert {\n",
              "      background-color: #E8F0FE;\n",
              "      border: none;\n",
              "      border-radius: 50%;\n",
              "      cursor: pointer;\n",
              "      display: none;\n",
              "      fill: #1967D2;\n",
              "      height: 32px;\n",
              "      padding: 0 0 0 0;\n",
              "      width: 32px;\n",
              "    }\n",
              "\n",
              "    .colab-df-convert:hover {\n",
              "      background-color: #E2EBFA;\n",
              "      box-shadow: 0px 1px 2px rgba(60, 64, 67, 0.3), 0px 1px 3px 1px rgba(60, 64, 67, 0.15);\n",
              "      fill: #174EA6;\n",
              "    }\n",
              "\n",
              "    [theme=dark] .colab-df-convert {\n",
              "      background-color: #3B4455;\n",
              "      fill: #D2E3FC;\n",
              "    }\n",
              "\n",
              "    [theme=dark] .colab-df-convert:hover {\n",
              "      background-color: #434B5C;\n",
              "      box-shadow: 0px 1px 3px 1px rgba(0, 0, 0, 0.15);\n",
              "      filter: drop-shadow(0px 1px 2px rgba(0, 0, 0, 0.3));\n",
              "      fill: #FFFFFF;\n",
              "    }\n",
              "  </style>\n",
              "\n",
              "      <script>\n",
              "        const buttonEl =\n",
              "          document.querySelector('#df-e8782fdd-e93c-484f-ab08-5dda7963aa2b button.colab-df-convert');\n",
              "        buttonEl.style.display =\n",
              "          google.colab.kernel.accessAllowed ? 'block' : 'none';\n",
              "\n",
              "        async function convertToInteractive(key) {\n",
              "          const element = document.querySelector('#df-e8782fdd-e93c-484f-ab08-5dda7963aa2b');\n",
              "          const dataTable =\n",
              "            await google.colab.kernel.invokeFunction('convertToInteractive',\n",
              "                                                     [key], {});\n",
              "          if (!dataTable) return;\n",
              "\n",
              "          const docLinkHtml = 'Like what you see? Visit the ' +\n",
              "            '<a target=\"_blank\" href=https://colab.research.google.com/notebooks/data_table.ipynb>data table notebook</a>'\n",
              "            + ' to learn more about interactive tables.';\n",
              "          element.innerHTML = '';\n",
              "          dataTable['output_type'] = 'display_data';\n",
              "          await google.colab.output.renderOutput(dataTable, element);\n",
              "          const docLink = document.createElement('div');\n",
              "          docLink.innerHTML = docLinkHtml;\n",
              "          element.appendChild(docLink);\n",
              "        }\n",
              "      </script>\n",
              "    </div>\n",
              "  </div>\n",
              "  "
            ]
          },
          "metadata": {},
          "execution_count": 13
        }
      ]
    },
    {
      "cell_type": "markdown",
      "source": [
        "### Age"
      ],
      "metadata": {
        "id": "kFTijckctzTN"
      }
    },
    {
      "cell_type": "code",
      "source": [
        "df.isnull().sum()"
      ],
      "metadata": {
        "id": "kHjbZ_nqI8JG",
        "outputId": "440dc817-3e65-4f86-ae8b-8b4968d80131",
        "execution": {
          "iopub.status.busy": "2022-07-31T16:42:32.062350Z",
          "iopub.execute_input": "2022-07-31T16:42:32.063327Z",
          "iopub.status.idle": "2022-07-31T16:42:32.070657Z",
          "shell.execute_reply.started": "2022-07-31T16:42:32.063293Z",
          "shell.execute_reply": "2022-07-31T16:42:32.069619Z"
        },
        "trusted": true,
        "colab": {
          "base_uri": "https://localhost:8080/"
        }
      },
      "execution_count": null,
      "outputs": [
        {
          "output_type": "execute_result",
          "data": {
            "text/plain": [
              "age         0\n",
              "sex         0\n",
              "cp          0\n",
              "trestbps    0\n",
              "chol        0\n",
              "fbs         0\n",
              "restecg     0\n",
              "thalach     0\n",
              "exang       0\n",
              "oldpeak     0\n",
              "slope       0\n",
              "ca          0\n",
              "thal        0\n",
              "target      0\n",
              "dtype: int64"
            ]
          },
          "metadata": {},
          "execution_count": 14
        }
      ]
    },
    {
      "cell_type": "markdown",
      "source": [
        "I wanted to see distribution of ages who've had a heart attack.\n",
        "As we can see, there is a density between 45 and 60 years."
      ],
      "metadata": {
        "id": "LNjMqaoP5qGf"
      }
    },
    {
      "cell_type": "code",
      "source": [
        "attack_data = df[df.target==1]\n",
        "# I got the data of people who've had a heart attack only, to analyze them in detail. I will use this data for next visualizations.\n",
        "\n",
        "ax= sns.distplot(attack_data.age, rug=True, color=\"red\")\n",
        "plt.title(\"The distribution of ages\")\n",
        "plt.show()"
      ],
      "metadata": {
        "id": "Eymm8l36tzTN",
        "outputId": "0f447af5-53fd-4869-bba5-20d31334908a",
        "execution": {
          "iopub.status.busy": "2022-07-31T16:42:32.072055Z",
          "iopub.execute_input": "2022-07-31T16:42:32.072559Z",
          "iopub.status.idle": "2022-07-31T16:42:32.377710Z",
          "shell.execute_reply.started": "2022-07-31T16:42:32.072520Z",
          "shell.execute_reply": "2022-07-31T16:42:32.376805Z"
        },
        "trusted": true,
        "colab": {
          "base_uri": "https://localhost:8080/",
          "height": 492
        }
      },
      "execution_count": null,
      "outputs": [
        {
          "output_type": "display_data",
          "data": {
            "text/plain": [
              "<Figure size 1000x600 with 1 Axes>"
            ],
            "image/png": "[encoded data removed]"
          },
          "metadata": {}
        }
      ]
    },
    {
      "cell_type": "markdown",
      "source": [
        "**The relation between age and heart attack:** Whereas the blue one represents the people who have had a heart attack, the green one represents the people who haven't had a heart attack."
      ],
      "metadata": {
        "id": "5CTJ1oDf97zy"
      }
    },
    {
      "cell_type": "code",
      "source": [
        "fig1 = plt.figure()\n",
        "ax1 = fig1.add_subplot(1, 1, 1)\n",
        "plt.title(\"Age & Heart attack relation\")\n",
        "sns.kdeplot(data=df[df.target==1],x='age',hue = \"target\", shade=True,ax = ax1 ,color='coral',alpha=1)\n",
        "sns.kdeplot(data=df[df.target==0],x='age',shade=True,ax = ax1,color='palegreen',alpha=0.3);"
      ],
      "metadata": {
        "id": "cmyxyoautzTO",
        "outputId": "d5ec8bf6-f009-4e78-af39-2c02b81aac07",
        "execution": {
          "iopub.status.busy": "2022-07-31T16:42:32.379182Z",
          "iopub.execute_input": "2022-07-31T16:42:32.379794Z",
          "iopub.status.idle": "2022-07-31T16:42:32.653799Z",
          "shell.execute_reply.started": "2022-07-31T16:42:32.379756Z",
          "shell.execute_reply": "2022-07-31T16:42:32.651880Z"
        },
        "trusted": true,
        "colab": {
          "base_uri": "https://localhost:8080/",
          "height": 492
        }
      },
      "execution_count": null,
      "outputs": [
        {
          "output_type": "display_data",
          "data": {
            "text/plain": [
              "<Figure size 1000x600 with 1 Axes>"
            ],
            "image/png": "[encoded data removed]"
          },
          "metadata": {}
        }
      ]
    },
    {
      "cell_type": "markdown",
      "source": [],
      "metadata": {
        "id": "v8KuaPJPvoOy"
      }
    },
    {
      "cell_type": "markdown",
      "source": [
        "### Sex"
      ],
      "metadata": {
        "id": "9GC2k251tzTP"
      }
    },
    {
      "cell_type": "code",
      "source": [
        "df.age.isnull().sum()"
      ],
      "metadata": {
        "id": "A3p7VHmxJBhm",
        "outputId": "73a5bcc3-d672-4ab3-eb7b-04a0fc670517",
        "execution": {
          "iopub.status.busy": "2022-07-31T16:42:32.655380Z",
          "iopub.execute_input": "2022-07-31T16:42:32.655740Z",
          "iopub.status.idle": "2022-07-31T16:42:32.662390Z",
          "shell.execute_reply.started": "2022-07-31T16:42:32.655704Z",
          "shell.execute_reply": "2022-07-31T16:42:32.661391Z"
        },
        "trusted": true,
        "colab": {
          "base_uri": "https://localhost:8080/"
        }
      },
      "execution_count": null,
      "outputs": [
        {
          "output_type": "execute_result",
          "data": {
            "text/plain": [
              "0"
            ]
          },
          "metadata": {},
          "execution_count": 17
        }
      ]
    },
    {
      "cell_type": "code",
      "source": [],
      "metadata": {
        "id": "h8W4mFPhCX5H"
      },
      "execution_count": null,
      "outputs": []
    },
    {
      "cell_type": "code",
      "source": [
        "ax= sns.countplot(x=df.sex, hue=\"sex\", palette=\"Set3\")\n",
        "#ax=(data=df[df.target==1],x='sex',hue = \"target\", shade=True,ax = ax1 ,color='coral',alpha=1)\n",
        " #sns.kdeplot(data=df[df.target==0],x='age',shade=True,ax = ax1,color='palegreen',alpha=0.3);\n",
        "plt.title(\"The distribution of heart attack according to sex\")\n",
        "for p in ax.containers:\n",
        "      ax.bar_label(p)"
      ],
      "metadata": {
        "id": "fRe560i9_tKi",
        "outputId": "47d3816e-5ab7-4cfd-91a5-da1aa61f9e7d",
        "execution": {
          "iopub.status.busy": "2022-07-31T16:42:32.663990Z",
          "iopub.execute_input": "2022-07-31T16:42:32.664628Z",
          "iopub.status.idle": "2022-07-31T16:42:32.885067Z",
          "shell.execute_reply.started": "2022-07-31T16:42:32.664571Z",
          "shell.execute_reply": "2022-07-31T16:42:32.884135Z"
        },
        "trusted": true,
        "colab": {
          "base_uri": "https://localhost:8080/",
          "height": 451
        }
      },
      "execution_count": null,
      "outputs": [
        {
          "output_type": "error",
          "ename": "ValueError",
          "evalue": "ignored",
          "traceback": [
            "\u001b[0;31m---------------------------------------------------------------------------\u001b[0m",
            "\u001b[0;31mValueError\u001b[0m                                Traceback (most recent call last)",
            "\u001b[0;32m<ipython-input-41-fa347e312689>\u001b[0m in \u001b[0;36m<cell line: 1>\u001b[0;34m()\u001b[0m\n\u001b[0;32m----> 1\u001b[0;31m \u001b[0max\u001b[0m\u001b[0;34m=\u001b[0m \u001b[0msns\u001b[0m\u001b[0;34m.\u001b[0m\u001b[0mcountplot\u001b[0m\u001b[0;34m(\u001b[0m\u001b[0mx\u001b[0m\u001b[0;34m=\u001b[0m\u001b[0mdf\u001b[0m\u001b[0;34m.\u001b[0m\u001b[0msex\u001b[0m\u001b[0;34m,\u001b[0m \u001b[0mhue\u001b[0m\u001b[0;34m=\u001b[0m\u001b[0;34m\"sex\"\u001b[0m\u001b[0;34m,\u001b[0m \u001b[0mpalette\u001b[0m\u001b[0;34m=\u001b[0m\u001b[0;34m\"Set3\"\u001b[0m\u001b[0;34m)\u001b[0m\u001b[0;34m\u001b[0m\u001b[0;34m\u001b[0m\u001b[0m\n\u001b[0m\u001b[1;32m      2\u001b[0m \u001b[0;31m#ax=(data=df[df.target==1],x='sex',hue = \"target\", shade=True,ax = ax1 ,color='coral',alpha=1)\u001b[0m\u001b[0;34m\u001b[0m\u001b[0;34m\u001b[0m\u001b[0m\n\u001b[1;32m      3\u001b[0m  \u001b[0;31m#sns.kdeplot(data=df[df.target==0],x='age',shade=True,ax = ax1,color='palegreen',alpha=0.3);\u001b[0m\u001b[0;34m\u001b[0m\u001b[0;34m\u001b[0m\u001b[0m\n\u001b[1;32m      4\u001b[0m \u001b[0mplt\u001b[0m\u001b[0;34m.\u001b[0m\u001b[0mtitle\u001b[0m\u001b[0;34m(\u001b[0m\u001b[0;34m\"The distribution of heart attack according to sex\"\u001b[0m\u001b[0;34m)\u001b[0m\u001b[0;34m\u001b[0m\u001b[0;34m\u001b[0m\u001b[0m\n\u001b[1;32m      5\u001b[0m \u001b[0;32mfor\u001b[0m \u001b[0mp\u001b[0m \u001b[0;32min\u001b[0m \u001b[0max\u001b[0m\u001b[0;34m.\u001b[0m\u001b[0mcontainers\u001b[0m\u001b[0;34m:\u001b[0m\u001b[0;34m\u001b[0m\u001b[0;34m\u001b[0m\u001b[0m\n",
            "\u001b[0;32m/usr/local/lib/python3.10/dist-packages/seaborn/categorical.py\u001b[0m in \u001b[0;36mcountplot\u001b[0;34m(data, x, y, hue, order, hue_order, orient, color, palette, saturation, width, dodge, ax, **kwargs)\u001b[0m\n\u001b[1;32m   2941\u001b[0m         \u001b[0;32mraise\u001b[0m \u001b[0mValueError\u001b[0m\u001b[0;34m(\u001b[0m\u001b[0;34m\"Cannot pass values for both `x` and `y`\"\u001b[0m\u001b[0;34m)\u001b[0m\u001b[0;34m\u001b[0m\u001b[0;34m\u001b[0m\u001b[0m\n\u001b[1;32m   2942\u001b[0m \u001b[0;34m\u001b[0m\u001b[0m\n\u001b[0;32m-> 2943\u001b[0;31m     plotter = _CountPlotter(\n\u001b[0m\u001b[1;32m   2944\u001b[0m         \u001b[0mx\u001b[0m\u001b[0;34m,\u001b[0m \u001b[0my\u001b[0m\u001b[0;34m,\u001b[0m \u001b[0mhue\u001b[0m\u001b[0;34m,\u001b[0m \u001b[0mdata\u001b[0m\u001b[0;34m,\u001b[0m \u001b[0morder\u001b[0m\u001b[0;34m,\u001b[0m \u001b[0mhue_order\u001b[0m\u001b[0;34m,\u001b[0m\u001b[0;34m\u001b[0m\u001b[0;34m\u001b[0m\u001b[0m\n\u001b[1;32m   2945\u001b[0m         \u001b[0mestimator\u001b[0m\u001b[0;34m,\u001b[0m \u001b[0merrorbar\u001b[0m\u001b[0;34m,\u001b[0m \u001b[0mn_boot\u001b[0m\u001b[0;34m,\u001b[0m \u001b[0munits\u001b[0m\u001b[0;34m,\u001b[0m \u001b[0mseed\u001b[0m\u001b[0;34m,\u001b[0m\u001b[0;34m\u001b[0m\u001b[0;34m\u001b[0m\u001b[0m\n",
            "\u001b[0;32m/usr/local/lib/python3.10/dist-packages/seaborn/categorical.py\u001b[0m in \u001b[0;36m__init__\u001b[0;34m(self, x, y, hue, data, order, hue_order, estimator, errorbar, n_boot, units, seed, orient, color, palette, saturation, width, errcolor, errwidth, capsize, dodge)\u001b[0m\n\u001b[1;32m   1528\u001b[0m                  errcolor, errwidth, capsize, dodge):\n\u001b[1;32m   1529\u001b[0m         \u001b[0;34m\"\"\"Initialize the plotter.\"\"\"\u001b[0m\u001b[0;34m\u001b[0m\u001b[0;34m\u001b[0m\u001b[0m\n\u001b[0;32m-> 1530\u001b[0;31m         self.establish_variables(x, y, hue, data, orient,\n\u001b[0m\u001b[1;32m   1531\u001b[0m                                  order, hue_order, units)\n\u001b[1;32m   1532\u001b[0m         \u001b[0mself\u001b[0m\u001b[0;34m.\u001b[0m\u001b[0mestablish_colors\u001b[0m\u001b[0;34m(\u001b[0m\u001b[0mcolor\u001b[0m\u001b[0;34m,\u001b[0m \u001b[0mpalette\u001b[0m\u001b[0;34m,\u001b[0m \u001b[0msaturation\u001b[0m\u001b[0;34m)\u001b[0m\u001b[0;34m\u001b[0m\u001b[0;34m\u001b[0m\u001b[0m\n",
            "\u001b[0;32m/usr/local/lib/python3.10/dist-packages/seaborn/categorical.py\u001b[0m in \u001b[0;36mestablish_variables\u001b[0;34m(self, x, y, hue, data, orient, order, hue_order, units)\u001b[0m\n\u001b[1;32m    539\u001b[0m                 \u001b[0;32mif\u001b[0m \u001b[0misinstance\u001b[0m\u001b[0;34m(\u001b[0m\u001b[0mvar\u001b[0m\u001b[0;34m,\u001b[0m \u001b[0mstr\u001b[0m\u001b[0;34m)\u001b[0m\u001b[0;34m:\u001b[0m\u001b[0;34m\u001b[0m\u001b[0;34m\u001b[0m\u001b[0m\n\u001b[1;32m    540\u001b[0m                     \u001b[0merr\u001b[0m \u001b[0;34m=\u001b[0m \u001b[0;34mf\"Could not interpret input '{var}'\"\u001b[0m\u001b[0;34m\u001b[0m\u001b[0;34m\u001b[0m\u001b[0m\n\u001b[0;32m--> 541\u001b[0;31m                     \u001b[0;32mraise\u001b[0m \u001b[0mValueError\u001b[0m\u001b[0;34m(\u001b[0m\u001b[0merr\u001b[0m\u001b[0;34m)\u001b[0m\u001b[0;34m\u001b[0m\u001b[0;34m\u001b[0m\u001b[0m\n\u001b[0m\u001b[1;32m    542\u001b[0m \u001b[0;34m\u001b[0m\u001b[0m\n\u001b[1;32m    543\u001b[0m             \u001b[0;31m# Figure out the plotting orientation\u001b[0m\u001b[0;34m\u001b[0m\u001b[0;34m\u001b[0m\u001b[0m\n",
            "\u001b[0;31mValueError\u001b[0m: Could not interpret input 'sex'"
          ]
        }
      ]
    },
    {
      "cell_type": "markdown",
      "source": [
        "The relation between sex and the probability of having a heart attack"
      ],
      "metadata": {
        "id": "VGcs_BKcBKGU"
      }
    },
    {
      "cell_type": "code",
      "source": [
        "df.groupby('sex').target.apply(lambda x: x.sum()/x.size * 100).sort_values(ascending=False)\n",
        "# the average heart attack risk percentage according to sex\n",
        "# 1 --> male, 0 --> female"
      ],
      "metadata": {
        "id": "SisYEV0cCBYZ",
        "outputId": "702f39f3-808b-403d-9a13-3db1a61a1d9d",
        "execution": {
          "iopub.status.busy": "2022-07-31T16:42:32.887282Z",
          "iopub.execute_input": "2022-07-31T16:42:32.887847Z",
          "iopub.status.idle": "2022-07-31T16:42:32.897393Z",
          "shell.execute_reply.started": "2022-07-31T16:42:32.887809Z",
          "shell.execute_reply": "2022-07-31T16:42:32.896027Z"
        },
        "trusted": true,
        "colab": {
          "base_uri": "https://localhost:8080/"
        }
      },
      "execution_count": null,
      "outputs": [
        {
          "output_type": "execute_result",
          "data": {
            "text/plain": [
              "sex\n",
              "0   75.000\n",
              "1   44.928\n",
              "Name: target, dtype: float64"
            ]
          },
          "metadata": {},
          "execution_count": 43
        }
      ]
    },
    {
      "cell_type": "code",
      "source": [
        "plt.subplot(1,2,1)\n",
        "ax = sns.countplot(x='target', data=df, palette=\"Set3\")\n",
        "plt.title('Distribution of sex')\n",
        "plt.xlabel('Sex')\n",
        "plt.ylabel('Count')\n",
        "ax.bar_label(ax.containers[0], fontsize=10, color='black', fontweight='bold')\n",
        "plt.subplot(1,2,2)\n",
        "plt.pie(df.sex.value_counts(), labels = df.sex.value_counts().index, autopct = '%1.1f%%', startangle = 40, explode = (0, 0.1), colors = ['turquoise', 'yellow'] )\n",
        "plt.title('Distribution of sex')\n",
        "plt.tight_layout()\n",
        "plt.show()"
      ],
      "metadata": {
        "id": "n0zORdIWtzTP",
        "outputId": "f8c7c8fa-b653-4397-83e4-65b12b465cca",
        "execution": {
          "iopub.status.busy": "2022-07-31T16:42:32.898976Z",
          "iopub.execute_input": "2022-07-31T16:42:32.900919Z",
          "iopub.status.idle": "2022-07-31T16:42:33.211047Z",
          "shell.execute_reply.started": "2022-07-31T16:42:32.900880Z",
          "shell.execute_reply": "2022-07-31T16:42:33.210145Z"
        },
        "trusted": true,
        "colab": {
          "base_uri": "https://localhost:8080/",
          "height": 460
        }
      },
      "execution_count": null,
      "outputs": [
        {
          "output_type": "display_data",
          "data": {
            "text/plain": [
              "<Figure size 1000x600 with 2 Axes>"
            ],
            "image/png": "[encoded data removed]"
          },
          "metadata": {}
        }
      ]
    },
    {
      "cell_type": "markdown",
      "source": [
        "### Cp"
      ],
      "metadata": {
        "id": "wR6JXPj4tzTP"
      }
    },
    {
      "cell_type": "code",
      "source": [
        "df.cp.isnull().sum()"
      ],
      "metadata": {
        "id": "bV5qe0xwtzTP",
        "outputId": "770f42f0-2b4f-4d2c-dc68-b3fead13bda1",
        "execution": {
          "iopub.status.busy": "2022-07-31T16:42:33.212382Z",
          "iopub.execute_input": "2022-07-31T16:42:33.213286Z",
          "iopub.status.idle": "2022-07-31T16:42:33.221626Z",
          "shell.execute_reply.started": "2022-07-31T16:42:33.213245Z",
          "shell.execute_reply": "2022-07-31T16:42:33.220721Z"
        },
        "trusted": true,
        "colab": {
          "base_uri": "https://localhost:8080/"
        }
      },
      "execution_count": null,
      "outputs": [
        {
          "output_type": "execute_result",
          "data": {
            "text/plain": [
              "0"
            ]
          },
          "metadata": {},
          "execution_count": 46
        }
      ]
    },
    {
      "cell_type": "markdown",
      "source": [
        "### Trestbps"
      ],
      "metadata": {
        "id": "QLaEOizGtzTQ"
      }
    },
    {
      "cell_type": "code",
      "source": [
        "df.trestbps.isnull().sum()"
      ],
      "metadata": {
        "id": "6QgMav5PtzTQ",
        "outputId": "2d1bccbf-46a7-45ba-e65e-3bc943803b58",
        "execution": {
          "iopub.status.busy": "2022-07-31T16:42:33.223094Z",
          "iopub.execute_input": "2022-07-31T16:42:33.223451Z",
          "iopub.status.idle": "2022-07-31T16:42:33.231252Z",
          "shell.execute_reply.started": "2022-07-31T16:42:33.223418Z",
          "shell.execute_reply": "2022-07-31T16:42:33.230164Z"
        },
        "trusted": true,
        "colab": {
          "base_uri": "https://localhost:8080/"
        }
      },
      "execution_count": null,
      "outputs": [
        {
          "output_type": "execute_result",
          "data": {
            "text/plain": [
              "0"
            ]
          },
          "metadata": {},
          "execution_count": 47
        }
      ]
    },
    {
      "cell_type": "code",
      "source": [
        "df.trestbps.value_counts(dropna=False)"
      ],
      "metadata": {
        "id": "75HCWhLptzTQ",
        "outputId": "f3321cf6-f014-48b0-a282-59bd4353e5d3",
        "execution": {
          "iopub.status.busy": "2022-07-31T16:42:33.232989Z",
          "iopub.execute_input": "2022-07-31T16:42:33.233663Z",
          "iopub.status.idle": "2022-07-31T16:42:33.244143Z",
          "shell.execute_reply.started": "2022-07-31T16:42:33.233627Z",
          "shell.execute_reply": "2022-07-31T16:42:33.243054Z"
        },
        "trusted": true,
        "colab": {
          "base_uri": "https://localhost:8080/"
        }
      },
      "execution_count": null,
      "outputs": [
        {
          "output_type": "execute_result",
          "data": {
            "text/plain": [
              "120    37\n",
              "130    36\n",
              "140    32\n",
              "110    19\n",
              "150    17\n",
              "138    13\n",
              "128    12\n",
              "160    11\n",
              "125    11\n",
              "112     9\n",
              "132     8\n",
              "118     7\n",
              "124     6\n",
              "135     6\n",
              "108     6\n",
              "152     5\n",
              "134     5\n",
              "145     5\n",
              "122     4\n",
              "170     4\n",
              "100     4\n",
              "105     3\n",
              "126     3\n",
              "115     3\n",
              "180     3\n",
              "136     3\n",
              "142     3\n",
              "102     2\n",
              "148     2\n",
              "178     2\n",
              "94      2\n",
              "144     2\n",
              "146     2\n",
              "200     1\n",
              "114     1\n",
              "154     1\n",
              "123     1\n",
              "192     1\n",
              "174     1\n",
              "165     1\n",
              "104     1\n",
              "117     1\n",
              "101     1\n",
              "156     1\n",
              "106     1\n",
              "155     1\n",
              "129     1\n",
              "172     1\n",
              "164     1\n",
              "Name: trestbps, dtype: int64"
            ]
          },
          "metadata": {},
          "execution_count": 48
        }
      ]
    },
    {
      "cell_type": "markdown",
      "source": [
        "The null values have been filled with the mean."
      ],
      "metadata": {
        "id": "pCIozkUtU36p"
      }
    },
    {
      "cell_type": "code",
      "source": [
        "trestbps_mean = df[\"trestbps\"].mean()\n",
        "trestbps_mean"
      ],
      "metadata": {
        "id": "w-KFsX3KtzTR",
        "outputId": "f140fae7-6016-4b35-8a09-44f721570a39",
        "execution": {
          "iopub.status.busy": "2022-07-31T16:42:33.245518Z",
          "iopub.execute_input": "2022-07-31T16:42:33.246472Z",
          "iopub.status.idle": "2022-07-31T16:42:33.253945Z",
          "shell.execute_reply.started": "2022-07-31T16:42:33.246426Z",
          "shell.execute_reply": "2022-07-31T16:42:33.252913Z"
        },
        "trusted": true,
        "colab": {
          "base_uri": "https://localhost:8080/"
        }
      },
      "execution_count": null,
      "outputs": [
        {
          "output_type": "execute_result",
          "data": {
            "text/plain": [
              "131.62376237623764"
            ]
          },
          "metadata": {},
          "execution_count": 49
        }
      ]
    },
    {
      "cell_type": "code",
      "source": [
        "df.trestbps.fillna(trestbps_mean, inplace=True)"
      ],
      "metadata": {
        "id": "rL_D_v3vtzTR",
        "execution": {
          "iopub.status.busy": "2022-07-31T16:42:33.255222Z",
          "iopub.execute_input": "2022-07-31T16:42:33.256003Z",
          "iopub.status.idle": "2022-07-31T16:42:33.262706Z",
          "shell.execute_reply.started": "2022-07-31T16:42:33.255967Z",
          "shell.execute_reply": "2022-07-31T16:42:33.261648Z"
        },
        "trusted": true
      },
      "execution_count": null,
      "outputs": []
    },
    {
      "cell_type": "markdown",
      "source": [
        "### Chol"
      ],
      "metadata": {
        "id": "keEKaCDJtzTR"
      }
    },
    {
      "cell_type": "code",
      "source": [
        "df.chol.isnull().sum()"
      ],
      "metadata": {
        "id": "1dyeBcFntzTS",
        "outputId": "789e1a77-3f77-45c2-f01b-dba9cc44d18b",
        "execution": {
          "iopub.status.busy": "2022-07-31T16:42:33.263992Z",
          "iopub.execute_input": "2022-07-31T16:42:33.264836Z",
          "iopub.status.idle": "2022-07-31T16:42:33.274894Z",
          "shell.execute_reply.started": "2022-07-31T16:42:33.264800Z",
          "shell.execute_reply": "2022-07-31T16:42:33.274082Z"
        },
        "trusted": true,
        "colab": {
          "base_uri": "https://localhost:8080/"
        }
      },
      "execution_count": null,
      "outputs": [
        {
          "output_type": "execute_result",
          "data": {
            "text/plain": [
              "0"
            ]
          },
          "metadata": {},
          "execution_count": 51
        }
      ]
    },
    {
      "cell_type": "code",
      "source": [
        "df.chol.value_counts(dropna=False).sort_values()"
      ],
      "metadata": {
        "id": "8Yvj9JeUtzTS",
        "outputId": "4bff53af-4c15-4c4d-e4e7-0386097518dc",
        "execution": {
          "iopub.status.busy": "2022-07-31T16:42:33.276202Z",
          "iopub.execute_input": "2022-07-31T16:42:33.276628Z",
          "iopub.status.idle": "2022-07-31T16:42:33.287051Z",
          "shell.execute_reply.started": "2022-07-31T16:42:33.276576Z",
          "shell.execute_reply": "2022-07-31T16:42:33.285991Z"
        },
        "trusted": true,
        "colab": {
          "base_uri": "https://localhost:8080/"
        }
      },
      "execution_count": null,
      "outputs": [
        {
          "output_type": "execute_result",
          "data": {
            "text/plain": [
              "131    1\n",
              "394    1\n",
              "305    1\n",
              "217    1\n",
              "174    1\n",
              "      ..\n",
              "254    5\n",
              "269    5\n",
              "234    6\n",
              "197    6\n",
              "204    6\n",
              "Name: chol, Length: 152, dtype: int64"
            ]
          },
          "metadata": {},
          "execution_count": 52
        }
      ]
    },
    {
      "cell_type": "markdown",
      "source": [
        "Again, mean has been used here."
      ],
      "metadata": {
        "id": "ijiCF4l_VRwz"
      }
    },
    {
      "cell_type": "code",
      "source": [
        "chol_mean = df[\"chol\"].mean()\n",
        "chol_mean"
      ],
      "metadata": {
        "id": "n8SK1TrwtzTS",
        "outputId": "a877e813-9949-4506-86a5-2f8332ee390b",
        "execution": {
          "iopub.status.busy": "2022-07-31T16:42:33.299872Z",
          "iopub.execute_input": "2022-07-31T16:42:33.301406Z",
          "iopub.status.idle": "2022-07-31T16:42:33.309121Z",
          "shell.execute_reply.started": "2022-07-31T16:42:33.301369Z",
          "shell.execute_reply": "2022-07-31T16:42:33.308271Z"
        },
        "trusted": true,
        "colab": {
          "base_uri": "https://localhost:8080/"
        }
      },
      "execution_count": null,
      "outputs": [
        {
          "output_type": "execute_result",
          "data": {
            "text/plain": [
              "246.26402640264027"
            ]
          },
          "metadata": {},
          "execution_count": 53
        }
      ]
    },
    {
      "cell_type": "code",
      "source": [
        "df.chol.fillna(chol_mean, inplace=True)"
      ],
      "metadata": {
        "id": "e8I_97tPtzTS",
        "execution": {
          "iopub.status.busy": "2022-07-31T16:42:33.310413Z",
          "iopub.execute_input": "2022-07-31T16:42:33.311209Z",
          "iopub.status.idle": "2022-07-31T16:42:33.316554Z",
          "shell.execute_reply.started": "2022-07-31T16:42:33.311173Z",
          "shell.execute_reply": "2022-07-31T16:42:33.315391Z"
        },
        "trusted": true
      },
      "execution_count": null,
      "outputs": []
    },
    {
      "cell_type": "code",
      "source": [
        "df.chol.isnull().sum()"
      ],
      "metadata": {
        "id": "Fa5aPZxAtzTT",
        "outputId": "2a454583-b9db-4a14-82df-9d1ec4550bae",
        "execution": {
          "iopub.status.busy": "2022-07-31T16:42:33.317940Z",
          "iopub.execute_input": "2022-07-31T16:42:33.318814Z",
          "iopub.status.idle": "2022-07-31T16:42:33.327827Z",
          "shell.execute_reply.started": "2022-07-31T16:42:33.318779Z",
          "shell.execute_reply": "2022-07-31T16:42:33.326806Z"
        },
        "trusted": true,
        "colab": {
          "base_uri": "https://localhost:8080/"
        }
      },
      "execution_count": null,
      "outputs": [
        {
          "output_type": "execute_result",
          "data": {
            "text/plain": [
              "0"
            ]
          },
          "metadata": {},
          "execution_count": 55
        }
      ]
    },
    {
      "cell_type": "markdown",
      "source": [
        "### fbs"
      ],
      "metadata": {
        "id": "ouk2lY41tzTT"
      }
    },
    {
      "cell_type": "code",
      "source": [
        "df.fbs.isnull().sum()"
      ],
      "metadata": {
        "id": "61eaAeEjtzTT",
        "outputId": "697a5b68-7d27-4f3c-d851-d8b87e3e0f6c",
        "execution": {
          "iopub.status.busy": "2022-07-31T16:42:33.329553Z",
          "iopub.execute_input": "2022-07-31T16:42:33.330181Z",
          "iopub.status.idle": "2022-07-31T16:42:33.339029Z",
          "shell.execute_reply.started": "2022-07-31T16:42:33.329997Z",
          "shell.execute_reply": "2022-07-31T16:42:33.338035Z"
        },
        "trusted": true,
        "colab": {
          "base_uri": "https://localhost:8080/"
        }
      },
      "execution_count": null,
      "outputs": [
        {
          "output_type": "execute_result",
          "data": {
            "text/plain": [
              "0"
            ]
          },
          "metadata": {},
          "execution_count": 56
        }
      ]
    },
    {
      "cell_type": "code",
      "source": [
        "df.fbs.value_counts(dropna=False)"
      ],
      "metadata": {
        "id": "6bP5Ho2HtzTT",
        "outputId": "172099a7-f20c-4017-c6a8-b045c8e2e348",
        "execution": {
          "iopub.status.busy": "2022-07-31T16:42:33.340361Z",
          "iopub.execute_input": "2022-07-31T16:42:33.341274Z",
          "iopub.status.idle": "2022-07-31T16:42:33.350362Z",
          "shell.execute_reply.started": "2022-07-31T16:42:33.341224Z",
          "shell.execute_reply": "2022-07-31T16:42:33.349280Z"
        },
        "trusted": true,
        "colab": {
          "base_uri": "https://localhost:8080/"
        }
      },
      "execution_count": null,
      "outputs": [
        {
          "output_type": "execute_result",
          "data": {
            "text/plain": [
              "0    258\n",
              "1     45\n",
              "Name: fbs, dtype: int64"
            ]
          },
          "metadata": {},
          "execution_count": 58
        }
      ]
    },
    {
      "cell_type": "code",
      "source": [
        "df.groupby(\"target\")[\"fbs\"].value_counts(dropna=False)\n",
        "# to show whether fbs is related with heart attack"
      ],
      "metadata": {
        "id": "Qj7-q1fuVeDj",
        "outputId": "393e6f27-c184-4785-cb19-08248fa1a624",
        "execution": {
          "iopub.status.busy": "2022-07-31T16:42:33.351793Z",
          "iopub.execute_input": "2022-07-31T16:42:33.352558Z",
          "iopub.status.idle": "2022-07-31T16:42:33.364002Z",
          "shell.execute_reply.started": "2022-07-31T16:42:33.352523Z",
          "shell.execute_reply": "2022-07-31T16:42:33.363105Z"
        },
        "trusted": true,
        "colab": {
          "base_uri": "https://localhost:8080/"
        }
      },
      "execution_count": null,
      "outputs": [
        {
          "output_type": "execute_result",
          "data": {
            "text/plain": [
              "target  fbs\n",
              "0       0      116\n",
              "        1       22\n",
              "1       0      142\n",
              "        1       23\n",
              "Name: fbs, dtype: int64"
            ]
          },
          "metadata": {},
          "execution_count": 60
        }
      ]
    },
    {
      "cell_type": "markdown",
      "source": [
        "Null values have been filled with the mode here."
      ],
      "metadata": {
        "id": "pbyBJg84VWl7"
      }
    },
    {
      "cell_type": "code",
      "source": [
        "df.fbs.fillna(0, inplace=True)"
      ],
      "metadata": {
        "id": "zzRF0cJttzTU",
        "execution": {
          "iopub.status.busy": "2022-07-31T16:42:33.365546Z",
          "iopub.execute_input": "2022-07-31T16:42:33.366088Z",
          "iopub.status.idle": "2022-07-31T16:42:33.370826Z",
          "shell.execute_reply.started": "2022-07-31T16:42:33.366055Z",
          "shell.execute_reply": "2022-07-31T16:42:33.369832Z"
        },
        "trusted": true
      },
      "execution_count": null,
      "outputs": []
    },
    {
      "cell_type": "code",
      "source": [
        "df.fbs.isnull().sum()"
      ],
      "metadata": {
        "id": "0Ziw42titzTU",
        "outputId": "0cf7ec4f-4f47-4d7e-8d0f-eab88249303d",
        "execution": {
          "iopub.status.busy": "2022-07-31T16:42:33.372274Z",
          "iopub.execute_input": "2022-07-31T16:42:33.372860Z",
          "iopub.status.idle": "2022-07-31T16:42:33.382175Z",
          "shell.execute_reply.started": "2022-07-31T16:42:33.372825Z",
          "shell.execute_reply": "2022-07-31T16:42:33.381048Z"
        },
        "trusted": true,
        "colab": {
          "base_uri": "https://localhost:8080/"
        }
      },
      "execution_count": null,
      "outputs": [
        {
          "output_type": "execute_result",
          "data": {
            "text/plain": [
              "0"
            ]
          },
          "metadata": {},
          "execution_count": 62
        }
      ]
    },
    {
      "cell_type": "markdown",
      "source": [
        "### Restecg"
      ],
      "metadata": {
        "id": "_zRX86CJtzTU"
      }
    },
    {
      "cell_type": "code",
      "source": [
        "df.restecg.isnull().sum()"
      ],
      "metadata": {
        "id": "ocktnlaetzTU",
        "outputId": "22052d8e-eff1-41b1-b81b-e26a7aace627",
        "execution": {
          "iopub.status.busy": "2022-07-31T16:42:33.383673Z",
          "iopub.execute_input": "2022-07-31T16:42:33.384027Z",
          "iopub.status.idle": "2022-07-31T16:42:33.393549Z",
          "shell.execute_reply.started": "2022-07-31T16:42:33.383974Z",
          "shell.execute_reply": "2022-07-31T16:42:33.392519Z"
        },
        "trusted": true,
        "colab": {
          "base_uri": "https://localhost:8080/"
        }
      },
      "execution_count": null,
      "outputs": [
        {
          "output_type": "execute_result",
          "data": {
            "text/plain": [
              "0"
            ]
          },
          "metadata": {},
          "execution_count": 63
        }
      ]
    },
    {
      "cell_type": "code",
      "source": [
        "df.restecg.value_counts(dropna=False)"
      ],
      "metadata": {
        "id": "35EIRwpJtzTV",
        "outputId": "9bf848ac-baf8-4101-c94f-7c577a3a14ef",
        "execution": {
          "iopub.status.busy": "2022-07-31T16:42:33.395578Z",
          "iopub.execute_input": "2022-07-31T16:42:33.396453Z",
          "iopub.status.idle": "2022-07-31T16:42:33.407358Z",
          "shell.execute_reply.started": "2022-07-31T16:42:33.396426Z",
          "shell.execute_reply": "2022-07-31T16:42:33.406396Z"
        },
        "trusted": true,
        "colab": {
          "base_uri": "https://localhost:8080/"
        }
      },
      "execution_count": null,
      "outputs": [
        {
          "output_type": "execute_result",
          "data": {
            "text/plain": [
              "1    152\n",
              "0    147\n",
              "2      4\n",
              "Name: restecg, dtype: int64"
            ]
          },
          "metadata": {},
          "execution_count": 64
        }
      ]
    },
    {
      "cell_type": "markdown",
      "source": [
        "Mode has been used here again."
      ],
      "metadata": {
        "id": "PBTUj15bW3KG"
      }
    },
    {
      "cell_type": "code",
      "source": [
        "df.restecg.fillna(235, inplace=True)"
      ],
      "metadata": {
        "id": "YbMc14uPtzTV",
        "execution": {
          "iopub.status.busy": "2022-07-31T16:42:33.408822Z",
          "iopub.execute_input": "2022-07-31T16:42:33.409706Z",
          "iopub.status.idle": "2022-07-31T16:42:33.415550Z",
          "shell.execute_reply.started": "2022-07-31T16:42:33.409668Z",
          "shell.execute_reply": "2022-07-31T16:42:33.414119Z"
        },
        "trusted": true
      },
      "execution_count": null,
      "outputs": []
    },
    {
      "cell_type": "code",
      "source": [
        "df.restecg.isnull().sum()"
      ],
      "metadata": {
        "id": "HpI354UYtzTV",
        "outputId": "e1e9301e-9216-449f-e0b1-d6d6cd6341c7",
        "execution": {
          "iopub.status.busy": "2022-07-31T16:42:33.416899Z",
          "iopub.execute_input": "2022-07-31T16:42:33.417915Z",
          "iopub.status.idle": "2022-07-31T16:42:33.425818Z",
          "shell.execute_reply.started": "2022-07-31T16:42:33.417879Z",
          "shell.execute_reply": "2022-07-31T16:42:33.424882Z"
        },
        "trusted": true,
        "colab": {
          "base_uri": "https://localhost:8080/"
        }
      },
      "execution_count": null,
      "outputs": [
        {
          "output_type": "execute_result",
          "data": {
            "text/plain": [
              "0"
            ]
          },
          "metadata": {},
          "execution_count": 66
        }
      ]
    },
    {
      "cell_type": "markdown",
      "source": [
        "### thalach"
      ],
      "metadata": {
        "id": "XzHe0uFptzTV"
      }
    },
    {
      "cell_type": "code",
      "source": [
        "df.thalach.isnull().sum()"
      ],
      "metadata": {
        "id": "zU0bSK38tzTV",
        "outputId": "b62d137d-d954-4542-c32b-3d14de165db1",
        "execution": {
          "iopub.status.busy": "2022-07-31T16:42:33.428356Z",
          "iopub.execute_input": "2022-07-31T16:42:33.428943Z",
          "iopub.status.idle": "2022-07-31T16:42:33.435627Z",
          "shell.execute_reply.started": "2022-07-31T16:42:33.428907Z",
          "shell.execute_reply": "2022-07-31T16:42:33.434711Z"
        },
        "trusted": true,
        "colab": {
          "base_uri": "https://localhost:8080/"
        }
      },
      "execution_count": null,
      "outputs": [
        {
          "output_type": "execute_result",
          "data": {
            "text/plain": [
              "0"
            ]
          },
          "metadata": {},
          "execution_count": 67
        }
      ]
    },
    {
      "cell_type": "code",
      "source": [
        "df.thalach.value_counts(dropna=False)"
      ],
      "metadata": {
        "id": "VEu0dLV5tzTW",
        "outputId": "706642c0-53b5-4c58-b0f0-972896b53883",
        "execution": {
          "iopub.status.busy": "2022-07-31T16:42:33.437033Z",
          "iopub.execute_input": "2022-07-31T16:42:33.437997Z",
          "iopub.status.idle": "2022-07-31T16:42:33.448161Z",
          "shell.execute_reply.started": "2022-07-31T16:42:33.437952Z",
          "shell.execute_reply": "2022-07-31T16:42:33.446885Z"
        },
        "trusted": true,
        "colab": {
          "base_uri": "https://localhost:8080/"
        }
      },
      "execution_count": null,
      "outputs": [
        {
          "output_type": "execute_result",
          "data": {
            "text/plain": [
              "162    11\n",
              "160     9\n",
              "163     9\n",
              "152     8\n",
              "173     8\n",
              "125     7\n",
              "144     7\n",
              "143     7\n",
              "150     7\n",
              "132     7\n",
              "172     7\n",
              "156     6\n",
              "169     6\n",
              "158     6\n",
              "142     6\n",
              "140     6\n",
              "182     5\n",
              "147     5\n",
              "165     5\n",
              "170     5\n",
              "168     5\n",
              "154     5\n",
              "157     5\n",
              "179     5\n",
              "161     5\n",
              "178     5\n",
              "174     5\n",
              "146     4\n",
              "155     4\n",
              "145     4\n",
              "122     4\n",
              "126     4\n",
              "130     4\n",
              "159     4\n",
              "131     4\n",
              "171     4\n",
              "151     4\n",
              "105     3\n",
              "114     3\n",
              "175     3\n",
              "120     3\n",
              "111     3\n",
              "153     3\n",
              "148     3\n",
              "138     3\n",
              "115     3\n",
              "166     3\n",
              "141     3\n",
              "103     2\n",
              "136     2\n",
              "112     2\n",
              "96      2\n",
              "181     2\n",
              "116     2\n",
              "109     2\n",
              "133     2\n",
              "108     2\n",
              "123     2\n",
              "180     2\n",
              "164     2\n",
              "139     2\n",
              "149     2\n",
              "186     2\n",
              "88      1\n",
              "97      1\n",
              "127     1\n",
              "137     1\n",
              "124     1\n",
              "194     1\n",
              "188     1\n",
              "106     1\n",
              "95      1\n",
              "117     1\n",
              "71      1\n",
              "118     1\n",
              "134     1\n",
              "195     1\n",
              "99      1\n",
              "177     1\n",
              "167     1\n",
              "113     1\n",
              "128     1\n",
              "129     1\n",
              "185     1\n",
              "190     1\n",
              "187     1\n",
              "202     1\n",
              "184     1\n",
              "121     1\n",
              "192     1\n",
              "90      1\n",
              "Name: thalach, dtype: int64"
            ]
          },
          "metadata": {},
          "execution_count": 68
        }
      ]
    },
    {
      "cell_type": "code",
      "source": [
        "thalach_median = df.thalach.median()\n",
        "thalach_median"
      ],
      "metadata": {
        "id": "jukJ5BF0tzTW",
        "outputId": "9c9f36c2-b17c-42b9-e27e-0080942781fd",
        "execution": {
          "iopub.status.busy": "2022-07-31T16:42:33.449615Z",
          "iopub.execute_input": "2022-07-31T16:42:33.450218Z",
          "iopub.status.idle": "2022-07-31T16:42:33.457575Z",
          "shell.execute_reply.started": "2022-07-31T16:42:33.450179Z",
          "shell.execute_reply": "2022-07-31T16:42:33.456407Z"
        },
        "trusted": true,
        "colab": {
          "base_uri": "https://localhost:8080/"
        }
      },
      "execution_count": null,
      "outputs": [
        {
          "output_type": "execute_result",
          "data": {
            "text/plain": [
              "153.0"
            ]
          },
          "metadata": {},
          "execution_count": 69
        }
      ]
    },
    {
      "cell_type": "markdown",
      "source": [
        "Median has been used here."
      ],
      "metadata": {
        "id": "DLZRCtFsW_XK"
      }
    },
    {
      "cell_type": "code",
      "source": [
        "df.thalach.fillna(thalach_median, inplace=True)"
      ],
      "metadata": {
        "id": "opGw95wotzTW",
        "execution": {
          "iopub.status.busy": "2022-07-31T16:42:33.459044Z",
          "iopub.execute_input": "2022-07-31T16:42:33.459945Z",
          "iopub.status.idle": "2022-07-31T16:42:33.464905Z",
          "shell.execute_reply.started": "2022-07-31T16:42:33.459904Z",
          "shell.execute_reply": "2022-07-31T16:42:33.463931Z"
        },
        "trusted": true
      },
      "execution_count": null,
      "outputs": []
    },
    {
      "cell_type": "markdown",
      "source": [
        "### exang"
      ],
      "metadata": {
        "id": "wtLAJJfTtzTW"
      }
    },
    {
      "cell_type": "code",
      "source": [
        "df.exang.isnull().sum()"
      ],
      "metadata": {
        "id": "dqthsWMCtzTX",
        "outputId": "90fcc371-142c-4542-f546-a517f3ad3c5e",
        "execution": {
          "iopub.status.busy": "2022-07-31T16:42:33.466269Z",
          "iopub.execute_input": "2022-07-31T16:42:33.466753Z",
          "iopub.status.idle": "2022-07-31T16:42:33.476910Z",
          "shell.execute_reply.started": "2022-07-31T16:42:33.466719Z",
          "shell.execute_reply": "2022-07-31T16:42:33.476106Z"
        },
        "trusted": true,
        "colab": {
          "base_uri": "https://localhost:8080/"
        }
      },
      "execution_count": null,
      "outputs": [
        {
          "output_type": "execute_result",
          "data": {
            "text/plain": [
              "0"
            ]
          },
          "metadata": {},
          "execution_count": 71
        }
      ]
    },
    {
      "cell_type": "code",
      "source": [
        "df.exang.value_counts(dropna=False)"
      ],
      "metadata": {
        "id": "Hv0NjI_StzTX",
        "outputId": "fd8be035-9e4a-4aec-cace-98b59e368b25",
        "execution": {
          "iopub.status.busy": "2022-07-31T16:42:33.479540Z",
          "iopub.execute_input": "2022-07-31T16:42:33.480459Z",
          "iopub.status.idle": "2022-07-31T16:42:33.488225Z",
          "shell.execute_reply.started": "2022-07-31T16:42:33.480412Z",
          "shell.execute_reply": "2022-07-31T16:42:33.487207Z"
        },
        "trusted": true,
        "colab": {
          "base_uri": "https://localhost:8080/"
        }
      },
      "execution_count": null,
      "outputs": [
        {
          "output_type": "execute_result",
          "data": {
            "text/plain": [
              "0    204\n",
              "1     99\n",
              "Name: exang, dtype: int64"
            ]
          },
          "metadata": {},
          "execution_count": 72
        }
      ]
    },
    {
      "cell_type": "code",
      "source": [
        "df.groupby(\"target\")[\"exang\"].value_counts(dropna=False)\n",
        "# to show whether there is a relation between \"exang\" feature and heart attack."
      ],
      "metadata": {
        "id": "2k_CKP3ktzTX",
        "outputId": "7ab08b12-0403-4701-a585-7d5e3eef8da0",
        "execution": {
          "iopub.status.busy": "2022-07-31T16:42:33.489848Z",
          "iopub.execute_input": "2022-07-31T16:42:33.490696Z",
          "iopub.status.idle": "2022-07-31T16:42:33.501457Z",
          "shell.execute_reply.started": "2022-07-31T16:42:33.490659Z",
          "shell.execute_reply": "2022-07-31T16:42:33.500257Z"
        },
        "trusted": true,
        "colab": {
          "base_uri": "https://localhost:8080/"
        }
      },
      "execution_count": null,
      "outputs": [
        {
          "output_type": "execute_result",
          "data": {
            "text/plain": [
              "target  exang\n",
              "0       1         76\n",
              "        0         62\n",
              "1       0        142\n",
              "        1         23\n",
              "Name: exang, dtype: int64"
            ]
          },
          "metadata": {},
          "execution_count": 74
        }
      ]
    },
    {
      "cell_type": "markdown",
      "source": [
        "Mode has been used."
      ],
      "metadata": {
        "id": "wggkYmBTXUdR"
      }
    },
    {
      "cell_type": "code",
      "source": [
        "df.exang.fillna(0, inplace=True)"
      ],
      "metadata": {
        "id": "Aj3Fxf25tzTX",
        "execution": {
          "iopub.status.busy": "2022-07-31T16:42:33.502649Z",
          "iopub.execute_input": "2022-07-31T16:42:33.503477Z",
          "iopub.status.idle": "2022-07-31T16:42:33.508565Z",
          "shell.execute_reply.started": "2022-07-31T16:42:33.503441Z",
          "shell.execute_reply": "2022-07-31T16:42:33.507249Z"
        },
        "trusted": true
      },
      "execution_count": null,
      "outputs": []
    },
    {
      "cell_type": "markdown",
      "source": [
        "### oldpeak"
      ],
      "metadata": {
        "id": "GCA1Hy06tzTY"
      }
    },
    {
      "cell_type": "code",
      "source": [
        "df.oldpeak.isnull().sum()"
      ],
      "metadata": {
        "id": "tnIhh02PtzTY",
        "outputId": "a09f83bf-5672-4562-9a59-953c15ef027e",
        "execution": {
          "iopub.status.busy": "2022-07-31T16:42:33.510265Z",
          "iopub.execute_input": "2022-07-31T16:42:33.510948Z",
          "iopub.status.idle": "2022-07-31T16:42:33.520179Z",
          "shell.execute_reply.started": "2022-07-31T16:42:33.510846Z",
          "shell.execute_reply": "2022-07-31T16:42:33.519090Z"
        },
        "trusted": true,
        "colab": {
          "base_uri": "https://localhost:8080/"
        }
      },
      "execution_count": null,
      "outputs": [
        {
          "output_type": "execute_result",
          "data": {
            "text/plain": [
              "0"
            ]
          },
          "metadata": {},
          "execution_count": 76
        }
      ]
    },
    {
      "cell_type": "markdown",
      "source": [
        "### slope"
      ],
      "metadata": {
        "id": "w7G6hMOHtzTZ"
      }
    },
    {
      "cell_type": "markdown",
      "source": [
        "Since there are a lot of null values, this column will be dropped."
      ],
      "metadata": {
        "id": "VlQCJBBLXadn"
      }
    },
    {
      "cell_type": "code",
      "source": [
        "df.slope.isnull().sum()  # drop"
      ],
      "metadata": {
        "id": "M9hw3OqhtzTZ",
        "outputId": "7c65192e-ecb3-48c6-f566-831e4aac6635",
        "execution": {
          "iopub.status.busy": "2022-07-31T16:42:33.522093Z",
          "iopub.execute_input": "2022-07-31T16:42:33.522530Z",
          "iopub.status.idle": "2022-07-31T16:42:33.530878Z",
          "shell.execute_reply.started": "2022-07-31T16:42:33.522494Z",
          "shell.execute_reply": "2022-07-31T16:42:33.529771Z"
        },
        "trusted": true,
        "colab": {
          "base_uri": "https://localhost:8080/"
        }
      },
      "execution_count": null,
      "outputs": [
        {
          "output_type": "execute_result",
          "data": {
            "text/plain": [
              "0"
            ]
          },
          "metadata": {},
          "execution_count": 77
        }
      ]
    },
    {
      "cell_type": "markdown",
      "source": [
        " ### ca"
      ],
      "metadata": {
        "id": "LAfITt6dtzTa"
      }
    },
    {
      "cell_type": "markdown",
      "source": [
        "Also this column will be dropped."
      ],
      "metadata": {
        "id": "GaFb6MIOXlqm"
      }
    },
    {
      "cell_type": "code",
      "source": [
        "df.ca.isnull().sum() # drop"
      ],
      "metadata": {
        "id": "MxUDTHpEtzTa",
        "outputId": "22302117-ccb1-4b48-e27c-f71c1f01ee0c",
        "execution": {
          "iopub.status.busy": "2022-07-31T16:42:33.531989Z",
          "iopub.execute_input": "2022-07-31T16:42:33.533410Z",
          "iopub.status.idle": "2022-07-31T16:42:33.541626Z",
          "shell.execute_reply.started": "2022-07-31T16:42:33.533382Z",
          "shell.execute_reply": "2022-07-31T16:42:33.540531Z"
        },
        "trusted": true,
        "colab": {
          "base_uri": "https://localhost:8080/"
        }
      },
      "execution_count": null,
      "outputs": [
        {
          "output_type": "execute_result",
          "data": {
            "text/plain": [
              "0"
            ]
          },
          "metadata": {},
          "execution_count": 78
        }
      ]
    },
    {
      "cell_type": "markdown",
      "source": [
        "### thal"
      ],
      "metadata": {
        "id": "bZyU0aYYtzTb"
      }
    },
    {
      "cell_type": "markdown",
      "source": [
        "And this column."
      ],
      "metadata": {
        "id": "DCbsXGhpYBGb"
      }
    },
    {
      "cell_type": "code",
      "source": [
        "df.thal.isnull().sum() # drop"
      ],
      "metadata": {
        "id": "vPzF68twtzTb",
        "outputId": "d00d3976-1d63-4acb-dccc-add548634fbc",
        "execution": {
          "iopub.status.busy": "2022-07-31T16:42:33.543380Z",
          "iopub.execute_input": "2022-07-31T16:42:33.544057Z",
          "iopub.status.idle": "2022-07-31T16:42:33.551280Z",
          "shell.execute_reply.started": "2022-07-31T16:42:33.544023Z",
          "shell.execute_reply": "2022-07-31T16:42:33.550211Z"
        },
        "trusted": true,
        "colab": {
          "base_uri": "https://localhost:8080/"
        }
      },
      "execution_count": null,
      "outputs": [
        {
          "output_type": "execute_result",
          "data": {
            "text/plain": [
              "0"
            ]
          },
          "metadata": {},
          "execution_count": 79
        }
      ]
    },
    {
      "cell_type": "code",
      "source": [
        "df.drop(columns= [\"slope\",\"ca\",\"thal\"], inplace=True)"
      ],
      "metadata": {
        "id": "vVgFfjp8tzTc",
        "execution": {
          "iopub.status.busy": "2022-07-31T16:42:33.553029Z",
          "iopub.execute_input": "2022-07-31T16:42:33.553851Z",
          "iopub.status.idle": "2022-07-31T16:42:33.560782Z",
          "shell.execute_reply.started": "2022-07-31T16:42:33.553813Z",
          "shell.execute_reply": "2022-07-31T16:42:33.559710Z"
        },
        "trusted": true
      },
      "execution_count": null,
      "outputs": []
    },
    {
      "cell_type": "markdown",
      "source": [
        "### Attack (target)"
      ],
      "metadata": {
        "id": "8eJMZJvvtzTc"
      }
    },
    {
      "cell_type": "code",
      "source": [
        "df[\"target\"].value_counts()"
      ],
      "metadata": {
        "id": "2YFHuTpctzTd",
        "outputId": "ae63d7e6-4f53-46e6-a286-bbe80f6bc3c0",
        "execution": {
          "iopub.status.busy": "2022-07-31T16:42:33.562600Z",
          "iopub.execute_input": "2022-07-31T16:42:33.563408Z",
          "iopub.status.idle": "2022-07-31T16:42:33.575695Z",
          "shell.execute_reply.started": "2022-07-31T16:42:33.563369Z",
          "shell.execute_reply": "2022-07-31T16:42:33.574626Z"
        },
        "trusted": true,
        "colab": {
          "base_uri": "https://localhost:8080/"
        }
      },
      "execution_count": null,
      "outputs": [
        {
          "output_type": "execute_result",
          "data": {
            "text/plain": [
              "1    165\n",
              "0    138\n",
              "Name: target, dtype: int64"
            ]
          },
          "metadata": {},
          "execution_count": 81
        }
      ]
    },
    {
      "cell_type": "code",
      "source": [
        "plt.subplot(1,2,1)\n",
        "ax = sns.countplot(x='target', data=df, palette=\"Set2\")\n",
        "plt.title('Distribution of the target variable')\n",
        "plt.xlabel('Target variable')\n",
        "plt.ylabel('Count')\n",
        "ax.bar_label(ax.containers[0], fontsize=10, color='black', fontweight='bold')\n",
        "plt.subplot(1,2,2)\n",
        "plt.pie(df.target.value_counts(), labels = df.target.value_counts().index, autopct = '%1.1f%%', startangle = 40, explode = (0, 0.1), colors = ['turquoise', 'pink'] )\n",
        "plt.title('Distribution of the target variable percentage')\n",
        "plt.tight_layout()\n",
        "plt.show()"
      ],
      "metadata": {
        "id": "n6MNne9CtzTd",
        "outputId": "863ff056-f9f8-44e3-ddba-897fedb69132",
        "execution": {
          "iopub.status.busy": "2022-07-31T16:42:33.577539Z",
          "iopub.execute_input": "2022-07-31T16:42:33.578145Z",
          "iopub.status.idle": "2022-07-31T16:42:33.875069Z",
          "shell.execute_reply.started": "2022-07-31T16:42:33.578092Z",
          "shell.execute_reply": "2022-07-31T16:42:33.874158Z"
        },
        "trusted": true,
        "colab": {
          "base_uri": "https://localhost:8080/",
          "height": 460
        }
      },
      "execution_count": null,
      "outputs": [
        {
          "output_type": "display_data",
          "data": {
            "text/plain": [
              "<Figure size 1000x600 with 2 Axes>"
            ],
            "image/png": "[encoded data removed]"
          },
          "metadata": {}
        }
      ]
    },
    {
      "cell_type": "code",
      "source": [
        "df.corr()['target'].sort_values().drop('target').plot(kind = 'barh', color=\"green\");\n",
        "# Correlation of the target column with other columns"
      ],
      "metadata": {
        "id": "7QJLLufts_um",
        "outputId": "53272084-2f8c-43b0-9931-aa17fc891798",
        "execution": {
          "iopub.status.busy": "2022-07-31T16:42:33.876550Z",
          "iopub.execute_input": "2022-07-31T16:42:33.876890Z",
          "iopub.status.idle": "2022-07-31T16:42:34.128250Z",
          "shell.execute_reply.started": "2022-07-31T16:42:33.876853Z",
          "shell.execute_reply": "2022-07-31T16:42:34.127196Z"
        },
        "trusted": true,
        "colab": {
          "base_uri": "https://localhost:8080/",
          "height": 452
        }
      },
      "execution_count": null,
      "outputs": [
        {
          "output_type": "display_data",
          "data": {
            "text/plain": [
              "<Figure size 1000x600 with 1 Axes>"
            ],
            "image/png": "[encoded data removed]"
          },
          "metadata": {}
        }
      ]
    },
    {
      "cell_type": "markdown",
      "source": [
        "## Final Data"
      ],
      "metadata": {
        "id": "sqcCRB6gtzTe"
      }
    },
    {
      "cell_type": "code",
      "source": [
        "df.isnull().sum()\n",
        "# At the end of the EDA stage, it has been checked if there were any null values left."
      ],
      "metadata": {
        "id": "RpotOgsrtzTf",
        "outputId": "71e96308-2205-4c49-831c-8df3c989064b",
        "execution": {
          "iopub.status.busy": "2022-07-31T16:42:34.129821Z",
          "iopub.execute_input": "2022-07-31T16:42:34.130196Z",
          "iopub.status.idle": "2022-07-31T16:42:34.139071Z",
          "shell.execute_reply.started": "2022-07-31T16:42:34.130159Z",
          "shell.execute_reply": "2022-07-31T16:42:34.138024Z"
        },
        "trusted": true,
        "colab": {
          "base_uri": "https://localhost:8080/"
        }
      },
      "execution_count": null,
      "outputs": [
        {
          "output_type": "execute_result",
          "data": {
            "text/plain": [
              "age         0\n",
              "sex         0\n",
              "cp          0\n",
              "trestbps    0\n",
              "chol        0\n",
              "fbs         0\n",
              "restecg     0\n",
              "thalach     0\n",
              "exang       0\n",
              "oldpeak     0\n",
              "target      0\n",
              "dtype: int64"
            ]
          },
          "metadata": {},
          "execution_count": 85
        }
      ]
    },
    {
      "cell_type": "code",
      "source": [
        "df.head()"
      ],
      "metadata": {
        "id": "BmKGBd2rtzTf",
        "outputId": "4cc87983-a1a5-49e9-8e97-2859a52ce779",
        "execution": {
          "iopub.status.busy": "2022-07-31T16:42:34.140913Z",
          "iopub.execute_input": "2022-07-31T16:42:34.141597Z",
          "iopub.status.idle": "2022-07-31T16:42:34.158781Z",
          "shell.execute_reply.started": "2022-07-31T16:42:34.141548Z",
          "shell.execute_reply": "2022-07-31T16:42:34.157794Z"
        },
        "trusted": true,
        "colab": {
          "base_uri": "https://localhost:8080/",
          "height": 206
        }
      },
      "execution_count": null,
      "outputs": [
        {
          "output_type": "execute_result",
          "data": {
            "text/plain": [
              "   age  sex  cp  trestbps  chol  fbs  restecg  thalach  exang  oldpeak  target\n",
              "0   63    1   3       145   233    1        0      150      0    2.300       1\n",
              "1   37    1   2       130   250    0        1      187      0    3.500       1\n",
              "2   41    0   1       130   204    0        0      172      0    1.400       1\n",
              "3   56    1   1       120   236    0        1      178      0    0.800       1\n",
              "4   57    0   0       120   354    0        1      163      1    0.600       1"
            ],
            "text/html": [
              "\n",
              "  <div id=\"df-d29315be-fe78-4d93-9b01-7b505d441f5c\">\n",
              "    <div class=\"colab-df-container\">\n",
              "      <div>\n",
              "<style scoped>\n",
              "    .dataframe tbody tr th:only-of-type {\n",
              "        vertical-align: middle;\n",
              "    }\n",
              "\n",
              "    .dataframe tbody tr th {\n",
              "        vertical-align: top;\n",
              "    }\n",
              "\n",
              "    .dataframe thead th {\n",
              "        text-align: right;\n",
              "    }\n",
              "</style>\n",
              "<table border=\"1\" class=\"dataframe\">\n",
              "  <thead>\n",
              "    <tr style=\"text-align: right;\">\n",
              "      <th></th>\n",
              "      <th>age</th>\n",
              "      <th>sex</th>\n",
              "      <th>cp</th>\n",
              "      <th>trestbps</th>\n",
              "      <th>chol</th>\n",
              "      <th>fbs</th>\n",
              "      <th>restecg</th>\n",
              "      <th>thalach</th>\n",
              "      <th>exang</th>\n",
              "      <th>oldpeak</th>\n",
              "      <th>target</th>\n",
              "    </tr>\n",
              "  </thead>\n",
              "  <tbody>\n",
              "    <tr>\n",
              "      <th>0</th>\n",
              "      <td>63</td>\n",
              "      <td>1</td>\n",
              "      <td>3</td>\n",
              "      <td>145</td>\n",
              "      <td>233</td>\n",
              "      <td>1</td>\n",
              "      <td>0</td>\n",
              "      <td>150</td>\n",
              "      <td>0</td>\n",
              "      <td>2.300</td>\n",
              "      <td>1</td>\n",
              "    </tr>\n",
              "    <tr>\n",
              "      <th>1</th>\n",
              "      <td>37</td>\n",
              "      <td>1</td>\n",
              "      <td>2</td>\n",
              "      <td>130</td>\n",
              "      <td>250</td>\n",
              "      <td>0</td>\n",
              "      <td>1</td>\n",
              "      <td>187</td>\n",
              "      <td>0</td>\n",
              "      <td>3.500</td>\n",
              "      <td>1</td>\n",
              "    </tr>\n",
              "    <tr>\n",
              "      <th>2</th>\n",
              "      <td>41</td>\n",
              "      <td>0</td>\n",
              "      <td>1</td>\n",
              "      <td>130</td>\n",
              "      <td>204</td>\n",
              "      <td>0</td>\n",
              "      <td>0</td>\n",
              "      <td>172</td>\n",
              "      <td>0</td>\n",
              "      <td>1.400</td>\n",
              "      <td>1</td>\n",
              "    </tr>\n",
              "    <tr>\n",
              "      <th>3</th>\n",
              "      <td>56</td>\n",
              "      <td>1</td>\n",
              "      <td>1</td>\n",
              "      <td>120</td>\n",
              "      <td>236</td>\n",
              "      <td>0</td>\n",
              "      <td>1</td>\n",
              "      <td>178</td>\n",
              "      <td>0</td>\n",
              "      <td>0.800</td>\n",
              "      <td>1</td>\n",
              "    </tr>\n",
              "    <tr>\n",
              "      <th>4</th>\n",
              "      <td>57</td>\n",
              "      <td>0</td>\n",
              "      <td>0</td>\n",
              "      <td>120</td>\n",
              "      <td>354</td>\n",
              "      <td>0</td>\n",
              "      <td>1</td>\n",
              "      <td>163</td>\n",
              "      <td>1</td>\n",
              "      <td>0.600</td>\n",
              "      <td>1</td>\n",
              "    </tr>\n",
              "  </tbody>\n",
              "</table>\n",
              "</div>\n",
              "      <button class=\"colab-df-convert\" onclick=\"convertToInteractive('df-d29315be-fe78-4d93-9b01-7b505d441f5c')\"\n",
              "              title=\"Convert this dataframe to an interactive table.\"\n",
              "              style=\"display:none;\">\n",
              "        \n",
              "  <svg xmlns=\"http://www.w3.org/2000/svg\" height=\"24px\"viewBox=\"0 0 24 24\"\n",
              "       width=\"24px\">\n",
              "    <path d=\"M0 0h24v24H0V0z\" fill=\"none\"/>\n",
              "    <path d=\"M18.56 5.44l.94 2.06.94-2.06 2.06-.94-2.06-.94-.94-2.06-.94 2.06-2.06.94zm-11 1L8.5 8.5l.94-2.06 2.06-.94-2.06-.94L8.5 2.5l-.94 2.06-2.06.94zm10 10l.94 2.06.94-2.06 2.06-.94-2.06-.94-.94-2.06-.94 2.06-2.06.94z\"/><path d=\"M17.41 7.96l-1.37-1.37c-.4-.4-.92-.59-1.43-.59-.52 0-1.04.2-1.43.59L10.3 9.45l-7.72 7.72c-.78.78-.78 2.05 0 2.83L4 21.41c.39.39.9.59 1.41.59.51 0 1.02-.2 1.41-.59l7.78-7.78 2.81-2.81c.8-.78.8-2.07 0-2.86zM5.41 20L4 18.59l7.72-7.72 1.47 1.35L5.41 20z\"/>\n",
              "  </svg>\n",
              "      </button>\n",
              "      \n",
              "  <style>\n",
              "    .colab-df-container {\n",
              "      display:flex;\n",
              "      flex-wrap:wrap;\n",
              "      gap: 12px;\n",
              "    }\n",
              "\n",
              "    .colab-df-convert {\n",
              "      background-color: #E8F0FE;\n",
              "      border: none;\n",
              "      border-radius: 50%;\n",
              "      cursor: pointer;\n",
              "      display: none;\n",
              "      fill: #1967D2;\n",
              "      height: 32px;\n",
              "      padding: 0 0 0 0;\n",
              "      width: 32px;\n",
              "    }\n",
              "\n",
              "    .colab-df-convert:hover {\n",
              "      background-color: #E2EBFA;\n",
              "      box-shadow: 0px 1px 2px rgba(60, 64, 67, 0.3), 0px 1px 3px 1px rgba(60, 64, 67, 0.15);\n",
              "      fill: #174EA6;\n",
              "    }\n",
              "\n",
              "    [theme=dark] .colab-df-convert {\n",
              "      background-color: #3B4455;\n",
              "      fill: #D2E3FC;\n",
              "    }\n",
              "\n",
              "    [theme=dark] .colab-df-convert:hover {\n",
              "      background-color: #434B5C;\n",
              "      box-shadow: 0px 1px 3px 1px rgba(0, 0, 0, 0.15);\n",
              "      filter: drop-shadow(0px 1px 2px rgba(0, 0, 0, 0.3));\n",
              "      fill: #FFFFFF;\n",
              "    }\n",
              "  </style>\n",
              "\n",
              "      <script>\n",
              "        const buttonEl =\n",
              "          document.querySelector('#df-d29315be-fe78-4d93-9b01-7b505d441f5c button.colab-df-convert');\n",
              "        buttonEl.style.display =\n",
              "          google.colab.kernel.accessAllowed ? 'block' : 'none';\n",
              "\n",
              "        async function convertToInteractive(key) {\n",
              "          const element = document.querySelector('#df-d29315be-fe78-4d93-9b01-7b505d441f5c');\n",
              "          const dataTable =\n",
              "            await google.colab.kernel.invokeFunction('convertToInteractive',\n",
              "                                                     [key], {});\n",
              "          if (!dataTable) return;\n",
              "\n",
              "          const docLinkHtml = 'Like what you see? Visit the ' +\n",
              "            '<a target=\"_blank\" href=https://colab.research.google.com/notebooks/data_table.ipynb>data table notebook</a>'\n",
              "            + ' to learn more about interactive tables.';\n",
              "          element.innerHTML = '';\n",
              "          dataTable['output_type'] = 'display_data';\n",
              "          await google.colab.output.renderOutput(dataTable, element);\n",
              "          const docLink = document.createElement('div');\n",
              "          docLink.innerHTML = docLinkHtml;\n",
              "          element.appendChild(docLink);\n",
              "        }\n",
              "      </script>\n",
              "    </div>\n",
              "  </div>\n",
              "  "
            ]
          },
          "metadata": {},
          "execution_count": 86
        }
      ]
    },
    {
      "cell_type": "markdown",
      "source": [
        "The last version of the dataset was displayed and gotten its copy."
      ],
      "metadata": {
        "id": "qVDk2tvTG29S"
      }
    },
    {
      "cell_type": "code",
      "source": [
        "df2 = df.copy()"
      ],
      "metadata": {
        "id": "VxdutqiitzTg",
        "execution": {
          "iopub.status.busy": "2022-07-31T16:42:34.160420Z",
          "iopub.execute_input": "2022-07-31T16:42:34.161023Z",
          "iopub.status.idle": "2022-07-31T16:42:34.165371Z",
          "shell.execute_reply.started": "2022-07-31T16:42:34.160988Z",
          "shell.execute_reply": "2022-07-31T16:42:34.164299Z"
        },
        "trusted": true
      },
      "execution_count": null,
      "outputs": []
    },
    {
      "cell_type": "markdown",
      "source": [
        "# Modelling"
      ],
      "metadata": {
        "id": "NDgmW2rwtzTg"
      }
    },
    {
      "cell_type": "code",
      "source": [
        "def eval_metric(model, X_train, y_train, X_test, y_test):\n",
        "    y_train_pred = model.predict(X_train)\n",
        "    y_pred = model.predict(X_test)\n",
        "\n",
        "    print(\"Test_Set\")\n",
        "    print(\"confussion matrix\")\n",
        "    print(confusion_matrix(y_test, y_pred))\n",
        "    print(classification_report(y_test, y_pred))\n",
        "    print()\n",
        "    print(\"Train_Set\")\n",
        "    print(\"confussion matrix\")\n",
        "    print(confusion_matrix(y_train, y_train_pred))\n",
        "    print(classification_report(y_train, y_train_pred))"
      ],
      "metadata": {
        "id": "QR-DAZRItzTh",
        "execution": {
          "iopub.status.busy": "2022-07-31T16:42:34.166982Z",
          "iopub.execute_input": "2022-07-31T16:42:34.167712Z",
          "iopub.status.idle": "2022-07-31T16:42:34.175199Z",
          "shell.execute_reply.started": "2022-07-31T16:42:34.167675Z",
          "shell.execute_reply": "2022-07-31T16:42:34.174292Z"
        },
        "trusted": true
      },
      "execution_count": null,
      "outputs": []
    },
    {
      "cell_type": "code",
      "source": [
        "from sklearn.metrics import confusion_matrix\n",
        "from sklearn.metrics import classification_report\n",
        "from sklearn.metrics import plot_confusion_matrix\n",
        "from sklearn.metrics import accuracy_score, recall_score, precision_score, f1_score, roc_auc_score\n",
        "from sklearn.metrics import plot_roc_curve, plot_precision_recall_curve, auc, roc_curve, average_precision_score, precision_recall_curve\n",
        "from sklearn.model_selection import cross_val_score, cross_validate\n",
        "from sklearn.model_selection import GridSearchCV\n",
        "from sklearn.metrics import make_scorer\n",
        "from sklearn.model_selection import train_test_split\n",
        "from sklearn.preprocessing import StandardScaler, MinMaxScaler\n",
        "from yellowbrick.classifier import PrecisionRecallCurve"
      ],
      "metadata": {
        "id": "aQassM_otzTh",
        "execution": {
          "iopub.status.busy": "2022-07-31T16:42:34.176658Z",
          "iopub.execute_input": "2022-07-31T16:42:34.177327Z",
          "iopub.status.idle": "2022-07-31T16:42:34.515856Z",
          "shell.execute_reply.started": "2022-07-31T16:42:34.177291Z",
          "shell.execute_reply": "2022-07-31T16:42:34.514917Z"
        },
        "trusted": true,
        "colab": {
          "base_uri": "https://localhost:8080/",
          "height": 445
        },
        "outputId": "e358b79d-7284-4258-f05b-ebbb8fff75eb"
      },
      "execution_count": null,
      "outputs": [
        {
          "output_type": "error",
          "ename": "ImportError",
          "evalue": "ignored",
          "traceback": [
            "\u001b[0;31m---------------------------------------------------------------------------\u001b[0m",
            "\u001b[0;31mImportError\u001b[0m                               Traceback (most recent call last)",
            "\u001b[0;32m<ipython-input-94-ee5d90a1d377>\u001b[0m in \u001b[0;36m<cell line: 3>\u001b[0;34m()\u001b[0m\n\u001b[1;32m      1\u001b[0m \u001b[0;32mfrom\u001b[0m \u001b[0msklearn\u001b[0m\u001b[0;34m.\u001b[0m\u001b[0mmetrics\u001b[0m \u001b[0;32mimport\u001b[0m \u001b[0mconfusion_matrix\u001b[0m\u001b[0;34m\u001b[0m\u001b[0;34m\u001b[0m\u001b[0m\n\u001b[1;32m      2\u001b[0m \u001b[0;32mfrom\u001b[0m \u001b[0msklearn\u001b[0m\u001b[0;34m.\u001b[0m\u001b[0mmetrics\u001b[0m \u001b[0;32mimport\u001b[0m \u001b[0mclassification_report\u001b[0m\u001b[0;34m\u001b[0m\u001b[0;34m\u001b[0m\u001b[0m\n\u001b[0;32m----> 3\u001b[0;31m \u001b[0;32mfrom\u001b[0m \u001b[0msklearn\u001b[0m\u001b[0;34m.\u001b[0m\u001b[0mmetrics\u001b[0m \u001b[0;32mimport\u001b[0m \u001b[0mplot_confusion_matrix\u001b[0m\u001b[0;34m\u001b[0m\u001b[0;34m\u001b[0m\u001b[0m\n\u001b[0m\u001b[1;32m      4\u001b[0m \u001b[0;32mfrom\u001b[0m \u001b[0msklearn\u001b[0m\u001b[0;34m.\u001b[0m\u001b[0mmetrics\u001b[0m \u001b[0;32mimport\u001b[0m \u001b[0maccuracy_score\u001b[0m\u001b[0;34m,\u001b[0m \u001b[0mrecall_score\u001b[0m\u001b[0;34m,\u001b[0m \u001b[0mprecision_score\u001b[0m\u001b[0;34m,\u001b[0m \u001b[0mf1_score\u001b[0m\u001b[0;34m,\u001b[0m \u001b[0mroc_auc_score\u001b[0m\u001b[0;34m\u001b[0m\u001b[0;34m\u001b[0m\u001b[0m\n\u001b[1;32m      5\u001b[0m \u001b[0;32mfrom\u001b[0m \u001b[0msklearn\u001b[0m\u001b[0;34m.\u001b[0m\u001b[0mmetrics\u001b[0m \u001b[0;32mimport\u001b[0m \u001b[0mplot_roc_curve\u001b[0m\u001b[0;34m,\u001b[0m \u001b[0mplot_precision_recall_curve\u001b[0m\u001b[0;34m,\u001b[0m \u001b[0mauc\u001b[0m\u001b[0;34m,\u001b[0m \u001b[0mroc_curve\u001b[0m\u001b[0;34m,\u001b[0m \u001b[0maverage_precision_score\u001b[0m\u001b[0;34m,\u001b[0m \u001b[0mprecision_recall_curve\u001b[0m\u001b[0;34m\u001b[0m\u001b[0;34m\u001b[0m\u001b[0m\n",
            "\u001b[0;31mImportError\u001b[0m: cannot import name 'plot_confusion_matrix' from 'sklearn.metrics' (/usr/local/lib/python3.10/dist-packages/sklearn/metrics/__init__.py)",
            "",
            "\u001b[0;31m---------------------------------------------------------------------------\u001b[0;32m\nNOTE: If your import is failing due to a missing package, you can\nmanually install dependencies using either !pip or !apt.\n\nTo view examples of installing some common dependencies, click the\n\"Open Examples\" button below.\n\u001b[0;31m---------------------------------------------------------------------------\u001b[0m\n"
          ],
          "errorDetails": {
            "actions": [
              {
                "action": "open_url",
                "actionText": "Open Examples",
                "url": "/notebooks/snippets/importing_libraries.ipynb"
              }
            ]
          }
        }
      ]
    },
    {
      "cell_type": "markdown",
      "source": [
        "Our first model will be Logistic regression."
      ],
      "metadata": {
        "id": "hGVGXXxTH6UL"
      }
    },
    {
      "cell_type": "markdown",
      "source": [
        "## Logistic Regression"
      ],
      "metadata": {
        "id": "Hy_hVtW2tzTi"
      }
    },
    {
      "cell_type": "markdown",
      "source": [
        "### Preprocessing"
      ],
      "metadata": {
        "execution": {
          "iopub.status.busy": "2022-06-25T21:35:12.964446Z",
          "iopub.execute_input": "2022-06-25T21:35:12.965442Z",
          "iopub.status.idle": "2022-06-25T21:35:12.972083Z",
          "shell.execute_reply.started": "2022-06-25T21:35:12.965392Z",
          "shell.execute_reply": "2022-06-25T21:35:12.970556Z"
        },
        "id": "Jmpsz9dytzTi"
      }
    },
    {
      "cell_type": "markdown",
      "source": [
        "Since the data have ordinal values, \"get dummies\" has been applied.\n",
        "\n"
      ],
      "metadata": {
        "id": "-WtG9-mdbHns"
      }
    },
    {
      "cell_type": "code",
      "source": [
        "log_df = pd.get_dummies(df, columns = ['sex', 'cp', 'fbs', 'restecg', 'exang'])"
      ],
      "metadata": {
        "id": "b5MnL7oJtzTj",
        "execution": {
          "iopub.status.busy": "2022-07-31T16:42:34.517088Z",
          "iopub.execute_input": "2022-07-31T16:42:34.517753Z",
          "iopub.status.idle": "2022-07-31T16:42:34.531008Z",
          "shell.execute_reply.started": "2022-07-31T16:42:34.517713Z",
          "shell.execute_reply": "2022-07-31T16:42:34.529890Z"
        },
        "trusted": true
      },
      "execution_count": null,
      "outputs": []
    },
    {
      "cell_type": "code",
      "source": [
        "from sklearn.preprocessing import StandardScaler"
      ],
      "metadata": {
        "id": "a2okDT0sKo2s"
      },
      "execution_count": null,
      "outputs": []
    },
    {
      "cell_type": "code",
      "source": [
        "scaler = StandardScaler()\n",
        "columns = [\"age\", \"sex\", \"chest pain type\", \"cholesterol\", \"oldpeak\"]\n",
        "#log_df[columns] = scaler.fit_transform(log_df[columns])"
      ],
      "metadata": {
        "id": "xswkej2WtzTj",
        "execution": {
          "iopub.status.busy": "2022-07-31T16:42:34.532858Z",
          "iopub.execute_input": "2022-07-31T16:42:34.533745Z",
          "iopub.status.idle": "2022-07-31T16:42:34.545311Z",
          "shell.execute_reply.started": "2022-07-31T16:42:34.533707Z",
          "shell.execute_reply": "2022-07-31T16:42:34.544375Z"
        },
        "trusted": true
      },
      "execution_count": null,
      "outputs": []
    },
    {
      "cell_type": "code",
      "source": [],
      "metadata": {
        "id": "pVyHl_fWKmtF"
      },
      "execution_count": null,
      "outputs": []
    },
    {
      "cell_type": "code",
      "source": [
        "log_df.head()"
      ],
      "metadata": {
        "id": "r01mg6YECb7Q",
        "outputId": "57bd57d7-a070-40fe-bd78-2a914338941d",
        "execution": {
          "iopub.status.busy": "2022-07-31T16:42:34.546858Z",
          "iopub.execute_input": "2022-07-31T16:42:34.547369Z",
          "iopub.status.idle": "2022-07-31T16:42:34.565390Z",
          "shell.execute_reply.started": "2022-07-31T16:42:34.547333Z",
          "shell.execute_reply": "2022-07-31T16:42:34.564479Z"
        },
        "trusted": true,
        "colab": {
          "base_uri": "https://localhost:8080/",
          "height": 270
        }
      },
      "execution_count": null,
      "outputs": [
        {
          "output_type": "execute_result",
          "data": {
            "text/plain": [
              "   age  trestbps  chol  thalach  oldpeak  target  sex_0  sex_1  cp_0  cp_1  \\\n",
              "0   63       145   233      150    2.300       1      0      1     0     0   \n",
              "1   37       130   250      187    3.500       1      0      1     0     0   \n",
              "2   41       130   204      172    1.400       1      1      0     0     1   \n",
              "3   56       120   236      178    0.800       1      0      1     0     1   \n",
              "4   57       120   354      163    0.600       1      1      0     1     0   \n",
              "\n",
              "   cp_2  cp_3  fbs_0  fbs_1  restecg_0  restecg_1  restecg_2  exang_0  exang_1  \n",
              "0     0     1      0      1          1          0          0        1        0  \n",
              "1     1     0      1      0          0          1          0        1        0  \n",
              "2     0     0      1      0          1          0          0        1        0  \n",
              "3     0     0      1      0          0          1          0        1        0  \n",
              "4     0     0      1      0          0          1          0        0        1  "
            ],
            "text/html": [
              "\n",
              "  <div id=\"df-50e8a4b8-6c71-4808-aac9-0566d3470365\">\n",
              "    <div class=\"colab-df-container\">\n",
              "      <div>\n",
              "<style scoped>\n",
              "    .dataframe tbody tr th:only-of-type {\n",
              "        vertical-align: middle;\n",
              "    }\n",
              "\n",
              "    .dataframe tbody tr th {\n",
              "        vertical-align: top;\n",
              "    }\n",
              "\n",
              "    .dataframe thead th {\n",
              "        text-align: right;\n",
              "    }\n",
              "</style>\n",
              "<table border=\"1\" class=\"dataframe\">\n",
              "  <thead>\n",
              "    <tr style=\"text-align: right;\">\n",
              "      <th></th>\n",
              "      <th>age</th>\n",
              "      <th>trestbps</th>\n",
              "      <th>chol</th>\n",
              "      <th>thalach</th>\n",
              "      <th>oldpeak</th>\n",
              "      <th>target</th>\n",
              "      <th>sex_0</th>\n",
              "      <th>sex_1</th>\n",
              "      <th>cp_0</th>\n",
              "      <th>cp_1</th>\n",
              "      <th>cp_2</th>\n",
              "      <th>cp_3</th>\n",
              "      <th>fbs_0</th>\n",
              "      <th>fbs_1</th>\n",
              "      <th>restecg_0</th>\n",
              "      <th>restecg_1</th>\n",
              "      <th>restecg_2</th>\n",
              "      <th>exang_0</th>\n",
              "      <th>exang_1</th>\n",
              "    </tr>\n",
              "  </thead>\n",
              "  <tbody>\n",
              "    <tr>\n",
              "      <th>0</th>\n",
              "      <td>63</td>\n",
              "      <td>145</td>\n",
              "      <td>233</td>\n",
              "      <td>150</td>\n",
              "      <td>2.300</td>\n",
              "      <td>1</td>\n",
              "      <td>0</td>\n",
              "      <td>1</td>\n",
              "      <td>0</td>\n",
              "      <td>0</td>\n",
              "      <td>0</td>\n",
              "      <td>1</td>\n",
              "      <td>0</td>\n",
              "      <td>1</td>\n",
              "      <td>1</td>\n",
              "      <td>0</td>\n",
              "      <td>0</td>\n",
              "      <td>1</td>\n",
              "      <td>0</td>\n",
              "    </tr>\n",
              "    <tr>\n",
              "      <th>1</th>\n",
              "      <td>37</td>\n",
              "      <td>130</td>\n",
              "      <td>250</td>\n",
              "      <td>187</td>\n",
              "      <td>3.500</td>\n",
              "      <td>1</td>\n",
              "      <td>0</td>\n",
              "      <td>1</td>\n",
              "      <td>0</td>\n",
              "      <td>0</td>\n",
              "      <td>1</td>\n",
              "      <td>0</td>\n",
              "      <td>1</td>\n",
              "      <td>0</td>\n",
              "      <td>0</td>\n",
              "      <td>1</td>\n",
              "      <td>0</td>\n",
              "      <td>1</td>\n",
              "      <td>0</td>\n",
              "    </tr>\n",
              "    <tr>\n",
              "      <th>2</th>\n",
              "      <td>41</td>\n",
              "      <td>130</td>\n",
              "      <td>204</td>\n",
              "      <td>172</td>\n",
              "      <td>1.400</td>\n",
              "      <td>1</td>\n",
              "      <td>1</td>\n",
              "      <td>0</td>\n",
              "      <td>0</td>\n",
              "      <td>1</td>\n",
              "      <td>0</td>\n",
              "      <td>0</td>\n",
              "      <td>1</td>\n",
              "      <td>0</td>\n",
              "      <td>1</td>\n",
              "      <td>0</td>\n",
              "      <td>0</td>\n",
              "      <td>1</td>\n",
              "      <td>0</td>\n",
              "    </tr>\n",
              "    <tr>\n",
              "      <th>3</th>\n",
              "      <td>56</td>\n",
              "      <td>120</td>\n",
              "      <td>236</td>\n",
              "      <td>178</td>\n",
              "      <td>0.800</td>\n",
              "      <td>1</td>\n",
              "      <td>0</td>\n",
              "      <td>1</td>\n",
              "      <td>0</td>\n",
              "      <td>1</td>\n",
              "      <td>0</td>\n",
              "      <td>0</td>\n",
              "      <td>1</td>\n",
              "      <td>0</td>\n",
              "      <td>0</td>\n",
              "      <td>1</td>\n",
              "      <td>0</td>\n",
              "      <td>1</td>\n",
              "      <td>0</td>\n",
              "    </tr>\n",
              "    <tr>\n",
              "      <th>4</th>\n",
              "      <td>57</td>\n",
              "      <td>120</td>\n",
              "      <td>354</td>\n",
              "      <td>163</td>\n",
              "      <td>0.600</td>\n",
              "      <td>1</td>\n",
              "      <td>1</td>\n",
              "      <td>0</td>\n",
              "      <td>1</td>\n",
              "      <td>0</td>\n",
              "      <td>0</td>\n",
              "      <td>0</td>\n",
              "      <td>1</td>\n",
              "      <td>0</td>\n",
              "      <td>0</td>\n",
              "      <td>1</td>\n",
              "      <td>0</td>\n",
              "      <td>0</td>\n",
              "      <td>1</td>\n",
              "    </tr>\n",
              "  </tbody>\n",
              "</table>\n",
              "</div>\n",
              "      <button class=\"colab-df-convert\" onclick=\"convertToInteractive('df-50e8a4b8-6c71-4808-aac9-0566d3470365')\"\n",
              "              title=\"Convert this dataframe to an interactive table.\"\n",
              "              style=\"display:none;\">\n",
              "        \n",
              "  <svg xmlns=\"http://www.w3.org/2000/svg\" height=\"24px\"viewBox=\"0 0 24 24\"\n",
              "       width=\"24px\">\n",
              "    <path d=\"M0 0h24v24H0V0z\" fill=\"none\"/>\n",
              "    <path d=\"M18.56 5.44l.94 2.06.94-2.06 2.06-.94-2.06-.94-.94-2.06-.94 2.06-2.06.94zm-11 1L8.5 8.5l.94-2.06 2.06-.94-2.06-.94L8.5 2.5l-.94 2.06-2.06.94zm10 10l.94 2.06.94-2.06 2.06-.94-2.06-.94-.94-2.06-.94 2.06-2.06.94z\"/><path d=\"M17.41 7.96l-1.37-1.37c-.4-.4-.92-.59-1.43-.59-.52 0-1.04.2-1.43.59L10.3 9.45l-7.72 7.72c-.78.78-.78 2.05 0 2.83L4 21.41c.39.39.9.59 1.41.59.51 0 1.02-.2 1.41-.59l7.78-7.78 2.81-2.81c.8-.78.8-2.07 0-2.86zM5.41 20L4 18.59l7.72-7.72 1.47 1.35L5.41 20z\"/>\n",
              "  </svg>\n",
              "      </button>\n",
              "      \n",
              "  <style>\n",
              "    .colab-df-container {\n",
              "      display:flex;\n",
              "      flex-wrap:wrap;\n",
              "      gap: 12px;\n",
              "    }\n",
              "\n",
              "    .colab-df-convert {\n",
              "      background-color: #E8F0FE;\n",
              "      border: none;\n",
              "      border-radius: 50%;\n",
              "      cursor: pointer;\n",
              "      display: none;\n",
              "      fill: #1967D2;\n",
              "      height: 32px;\n",
              "      padding: 0 0 0 0;\n",
              "      width: 32px;\n",
              "    }\n",
              "\n",
              "    .colab-df-convert:hover {\n",
              "      background-color: #E2EBFA;\n",
              "      box-shadow: 0px 1px 2px rgba(60, 64, 67, 0.3), 0px 1px 3px 1px rgba(60, 64, 67, 0.15);\n",
              "      fill: #174EA6;\n",
              "    }\n",
              "\n",
              "    [theme=dark] .colab-df-convert {\n",
              "      background-color: #3B4455;\n",
              "      fill: #D2E3FC;\n",
              "    }\n",
              "\n",
              "    [theme=dark] .colab-df-convert:hover {\n",
              "      background-color: #434B5C;\n",
              "      box-shadow: 0px 1px 3px 1px rgba(0, 0, 0, 0.15);\n",
              "      filter: drop-shadow(0px 1px 2px rgba(0, 0, 0, 0.3));\n",
              "      fill: #FFFFFF;\n",
              "    }\n",
              "  </style>\n",
              "\n",
              "      <script>\n",
              "        const buttonEl =\n",
              "          document.querySelector('#df-50e8a4b8-6c71-4808-aac9-0566d3470365 button.colab-df-convert');\n",
              "        buttonEl.style.display =\n",
              "          google.colab.kernel.accessAllowed ? 'block' : 'none';\n",
              "\n",
              "        async function convertToInteractive(key) {\n",
              "          const element = document.querySelector('#df-50e8a4b8-6c71-4808-aac9-0566d3470365');\n",
              "          const dataTable =\n",
              "            await google.colab.kernel.invokeFunction('convertToInteractive',\n",
              "                                                     [key], {});\n",
              "          if (!dataTable) return;\n",
              "\n",
              "          const docLinkHtml = 'Like what you see? Visit the ' +\n",
              "            '<a target=\"_blank\" href=https://colab.research.google.com/notebooks/data_table.ipynb>data table notebook</a>'\n",
              "            + ' to learn more about interactive tables.';\n",
              "          element.innerHTML = '';\n",
              "          dataTable['output_type'] = 'display_data';\n",
              "          await google.colab.output.renderOutput(dataTable, element);\n",
              "          const docLink = document.createElement('div');\n",
              "          docLink.innerHTML = docLinkHtml;\n",
              "          element.appendChild(docLink);\n",
              "        }\n",
              "      </script>\n",
              "    </div>\n",
              "  </div>\n",
              "  "
            ]
          },
          "metadata": {},
          "execution_count": 105
        }
      ]
    },
    {
      "cell_type": "markdown",
      "source": [
        "Above is the final version of the data we'll be using throughout the Logistic Regression modeling."
      ],
      "metadata": {
        "id": "g4vjQoGNKOhA"
      }
    },
    {
      "cell_type": "code",
      "source": [
        "X= log_df.drop([\"target\"], axis=1)\n",
        "y= log_df[\"target\"]"
      ],
      "metadata": {
        "id": "xsr1adArtzTk",
        "execution": {
          "iopub.status.busy": "2022-07-31T16:42:34.566694Z",
          "iopub.execute_input": "2022-07-31T16:42:34.567225Z",
          "iopub.status.idle": "2022-07-31T16:42:34.573400Z",
          "shell.execute_reply.started": "2022-07-31T16:42:34.567189Z",
          "shell.execute_reply": "2022-07-31T16:42:34.572297Z"
        },
        "trusted": true
      },
      "execution_count": null,
      "outputs": []
    },
    {
      "cell_type": "markdown",
      "source": [
        "At first, \"stratify=y\" parameter was not used but after using it, the scores have increased as the proportions of values reflected in this parameter and of sample turns into the same by splitting."
      ],
      "metadata": {
        "id": "kz6EmSPHt2kF"
      }
    },
    {
      "cell_type": "code",
      "source": [
        "from sklearn.model_selection import train_test_split"
      ],
      "metadata": {
        "id": "QCteIC1OLZ3K"
      },
      "execution_count": null,
      "outputs": []
    },
    {
      "cell_type": "code",
      "source": [
        "X_train, X_test, y_train, y_test = train_test_split(X, y, test_size=0.2, stratify=y, random_state=10)"
      ],
      "metadata": {
        "id": "8edKdUKctzTk",
        "execution": {
          "iopub.status.busy": "2022-07-31T16:42:34.574802Z",
          "iopub.execute_input": "2022-07-31T16:42:34.576099Z",
          "iopub.status.idle": "2022-07-31T16:42:34.584330Z",
          "shell.execute_reply.started": "2022-07-31T16:42:34.576064Z",
          "shell.execute_reply": "2022-07-31T16:42:34.583361Z"
        },
        "trusted": true
      },
      "execution_count": null,
      "outputs": []
    },
    {
      "cell_type": "code",
      "source": [
        "from sklearn.linear_model import LogisticRegression"
      ],
      "metadata": {
        "id": "LFN9_ABJtzTk",
        "execution": {
          "iopub.status.busy": "2022-07-31T16:42:34.586790Z",
          "iopub.execute_input": "2022-07-31T16:42:34.587686Z",
          "iopub.status.idle": "2022-07-31T16:42:34.592260Z",
          "shell.execute_reply.started": "2022-07-31T16:42:34.587651Z",
          "shell.execute_reply": "2022-07-31T16:42:34.591293Z"
        },
        "trusted": true
      },
      "execution_count": null,
      "outputs": []
    },
    {
      "cell_type": "code",
      "source": [
        "log_model=LogisticRegression()\n",
        "log_model.fit(X_train, y_train)"
      ],
      "metadata": {
        "id": "QOlZFE9GtzTl",
        "outputId": "797f9ad6-625e-4816-886b-41f782ec9b0e",
        "execution": {
          "iopub.status.busy": "2022-07-31T16:42:34.593533Z",
          "iopub.execute_input": "2022-07-31T16:42:34.594177Z",
          "iopub.status.idle": "2022-07-31T16:42:34.620434Z",
          "shell.execute_reply.started": "2022-07-31T16:42:34.594142Z",
          "shell.execute_reply": "2022-07-31T16:42:34.619488Z"
        },
        "trusted": true,
        "colab": {
          "base_uri": "https://localhost:8080/",
          "height": 74
        }
      },
      "execution_count": null,
      "outputs": [
        {
          "output_type": "execute_result",
          "data": {
            "text/plain": [
              "LogisticRegression()"
            ],
            "text/html": [
              "<style>#sk-container-id-1 {color: black;background-color: white;}#sk-container-id-1 pre{padding: 0;}#sk-container-id-1 div.sk-toggleable {background-color: white;}#sk-container-id-1 label.sk-toggleable__label {cursor: pointer;display: block;width: 100%;margin-bottom: 0;padding: 0.3em;box-sizing: border-box;text-align: center;}#sk-container-id-1 label.sk-toggleable__label-arrow:before {content: \"▸\";float: left;margin-right: 0.25em;color: #696969;}#sk-container-id-1 label.sk-toggleable__label-arrow:hover:before {color: black;}#sk-container-id-1 div.sk-estimator:hover label.sk-toggleable__label-arrow:before {color: black;}#sk-container-id-1 div.sk-toggleable__content {max-height: 0;max-width: 0;overflow: hidden;text-align: left;background-color: #f0f8ff;}#sk-container-id-1 div.sk-toggleable__content pre {margin: 0.2em;color: black;border-radius: 0.25em;background-color: #f0f8ff;}#sk-container-id-1 input.sk-toggleable__control:checked~div.sk-toggleable__content {max-height: 200px;max-width: 100%;overflow: auto;}#sk-container-id-1 input.sk-toggleable__control:checked~label.sk-toggleable__label-arrow:before {content: \"▾\";}#sk-container-id-1 div.sk-estimator input.sk-toggleable__control:checked~label.sk-toggleable__label {background-color: #d4ebff;}#sk-container-id-1 div.sk-label input.sk-toggleable__control:checked~label.sk-toggleable__label {background-color: #d4ebff;}#sk-container-id-1 input.sk-hidden--visually {border: 0;clip: rect(1px 1px 1px 1px);clip: rect(1px, 1px, 1px, 1px);height: 1px;margin: -1px;overflow: hidden;padding: 0;position: absolute;width: 1px;}#sk-container-id-1 div.sk-estimator {font-family: monospace;background-color: #f0f8ff;border: 1px dotted black;border-radius: 0.25em;box-sizing: border-box;margin-bottom: 0.5em;}#sk-container-id-1 div.sk-estimator:hover {background-color: #d4ebff;}#sk-container-id-1 div.sk-parallel-item::after {content: \"\";width: 100%;border-bottom: 1px solid gray;flex-grow: 1;}#sk-container-id-1 div.sk-label:hover label.sk-toggleable__label {background-color: #d4ebff;}#sk-container-id-1 div.sk-serial::before {content: \"\";position: absolute;border-left: 1px solid gray;box-sizing: border-box;top: 0;bottom: 0;left: 50%;z-index: 0;}#sk-container-id-1 div.sk-serial {display: flex;flex-direction: column;align-items: center;background-color: white;padding-right: 0.2em;padding-left: 0.2em;position: relative;}#sk-container-id-1 div.sk-item {position: relative;z-index: 1;}#sk-container-id-1 div.sk-parallel {display: flex;align-items: stretch;justify-content: center;background-color: white;position: relative;}#sk-container-id-1 div.sk-item::before, #sk-container-id-1 div.sk-parallel-item::before {content: \"\";position: absolute;border-left: 1px solid gray;box-sizing: border-box;top: 0;bottom: 0;left: 50%;z-index: -1;}#sk-container-id-1 div.sk-parallel-item {display: flex;flex-direction: column;z-index: 1;position: relative;background-color: white;}#sk-container-id-1 div.sk-parallel-item:first-child::after {align-self: flex-end;width: 50%;}#sk-container-id-1 div.sk-parallel-item:last-child::after {align-self: flex-start;width: 50%;}#sk-container-id-1 div.sk-parallel-item:only-child::after {width: 0;}#sk-container-id-1 div.sk-dashed-wrapped {border: 1px dashed gray;margin: 0 0.4em 0.5em 0.4em;box-sizing: border-box;padding-bottom: 0.4em;background-color: white;}#sk-container-id-1 div.sk-label label {font-family: monospace;font-weight: bold;display: inline-block;line-height: 1.2em;}#sk-container-id-1 div.sk-label-container {text-align: center;}#sk-container-id-1 div.sk-container {/* jupyter's `normalize.less` sets `[hidden] { display: none; }` but bootstrap.min.css set `[hidden] { display: none !important; }` so we also need the `!important` here to be able to override the default hidden behavior on the sphinx rendered scikit-learn.org. See: https://github.com/scikit-learn/scikit-learn/issues/21755 */display: inline-block !important;position: relative;}#sk-container-id-1 div.sk-text-repr-fallback {display: none;}</style><div id=\"sk-container-id-1\" class=\"sk-top-container\"><div class=\"sk-text-repr-fallback\"><pre>LogisticRegression()</pre><b>In a Jupyter environment, please rerun this cell to show the HTML representation or trust the notebook. <br />On GitHub, the HTML representation is unable to render, please try loading this page with nbviewer.org.</b></div><div class=\"sk-container\" hidden><div class=\"sk-item\"><div class=\"sk-estimator sk-toggleable\"><input class=\"sk-toggleable__control sk-hidden--visually\" id=\"sk-estimator-id-1\" type=\"checkbox\" checked><label for=\"sk-estimator-id-1\" class=\"sk-toggleable__label sk-toggleable__label-arrow\">LogisticRegression</label><div class=\"sk-toggleable__content\"><pre>LogisticRegression()</pre></div></div></div></div></div>"
            ]
          },
          "metadata": {},
          "execution_count": 114
        }
      ]
    },
    {
      "cell_type": "markdown",
      "source": [
        "Following the result of first scores, it's time to tune the parameters and use grid search."
      ],
      "metadata": {
        "id": "gPUgyeU4ePBQ"
      }
    },
    {
      "cell_type": "code",
      "source": [
        "eval_metric(log_model, X_train, y_train, X_test, y_test)"
      ],
      "metadata": {
        "id": "xBPksBaCtzTm",
        "outputId": "57317178-2390-40d1-bb96-ae78cd2b1b66",
        "execution": {
          "iopub.status.busy": "2022-07-31T16:42:34.621837Z",
          "iopub.execute_input": "2022-07-31T16:42:34.622388Z",
          "iopub.status.idle": "2022-07-31T16:42:34.642340Z",
          "shell.execute_reply.started": "2022-07-31T16:42:34.622351Z",
          "shell.execute_reply": "2022-07-31T16:42:34.641400Z"
        },
        "trusted": true,
        "colab": {
          "base_uri": "https://localhost:8080/"
        }
      },
      "execution_count": null,
      "outputs": [
        {
          "output_type": "stream",
          "name": "stdout",
          "text": [
            "Test_Set\n",
            "confussion matrix\n",
            "[[24  4]\n",
            " [ 6 27]]\n",
            "              precision    recall  f1-score   support\n",
            "\n",
            "           0       0.80      0.86      0.83        28\n",
            "           1       0.87      0.82      0.84        33\n",
            "\n",
            "    accuracy                           0.84        61\n",
            "   macro avg       0.84      0.84      0.84        61\n",
            "weighted avg       0.84      0.84      0.84        61\n",
            "\n",
            "\n",
            "Train_Set\n",
            "confussion matrix\n",
            "[[ 82  28]\n",
            " [ 15 117]]\n",
            "              precision    recall  f1-score   support\n",
            "\n",
            "           0       0.85      0.75      0.79       110\n",
            "           1       0.81      0.89      0.84       132\n",
            "\n",
            "    accuracy                           0.82       242\n",
            "   macro avg       0.83      0.82      0.82       242\n",
            "weighted avg       0.82      0.82      0.82       242\n",
            "\n"
          ]
        }
      ]
    },
    {
      "cell_type": "code",
      "source": [
        "log_model=LogisticRegression( C=0.2, max_iter = 200, class_weight=\"balanced\")\n",
        "log_model.fit(X_train, y_train)\n",
        "eval_metric(log_model, X_train, y_train, X_test, y_test)"
      ],
      "metadata": {
        "id": "MZVh6r45tzTm",
        "outputId": "921cca6a-8e4b-43c3-8132-bf39d11c6118",
        "execution": {
          "iopub.status.busy": "2022-07-31T16:42:34.643605Z",
          "iopub.execute_input": "2022-07-31T16:42:34.644387Z",
          "iopub.status.idle": "2022-07-31T16:42:34.672211Z",
          "shell.execute_reply.started": "2022-07-31T16:42:34.644352Z",
          "shell.execute_reply": "2022-07-31T16:42:34.671339Z"
        },
        "trusted": true,
        "colab": {
          "base_uri": "https://localhost:8080/"
        }
      },
      "execution_count": null,
      "outputs": [
        {
          "output_type": "stream",
          "name": "stdout",
          "text": [
            "Test_Set\n",
            "confussion matrix\n",
            "[[24  4]\n",
            " [ 7 26]]\n",
            "              precision    recall  f1-score   support\n",
            "\n",
            "           0       0.77      0.86      0.81        28\n",
            "           1       0.87      0.79      0.83        33\n",
            "\n",
            "    accuracy                           0.82        61\n",
            "   macro avg       0.82      0.82      0.82        61\n",
            "weighted avg       0.82      0.82      0.82        61\n",
            "\n",
            "\n",
            "Train_Set\n",
            "confussion matrix\n",
            "[[ 84  26]\n",
            " [ 19 113]]\n",
            "              precision    recall  f1-score   support\n",
            "\n",
            "           0       0.82      0.76      0.79       110\n",
            "           1       0.81      0.86      0.83       132\n",
            "\n",
            "    accuracy                           0.81       242\n",
            "   macro avg       0.81      0.81      0.81       242\n",
            "weighted avg       0.81      0.81      0.81       242\n",
            "\n"
          ]
        }
      ]
    },
    {
      "cell_type": "markdown",
      "source": [
        "This model has been tuned several times, and these parameters are the best in terms of scores for the Logistic Regression model."
      ],
      "metadata": {
        "id": "IGlceEF1JLW1"
      }
    },
    {
      "cell_type": "code",
      "source": [
        "y_pred = log_model.predict(X_test)\n",
        "log_f1 = f1_score(y_test, y_pred)\n",
        "log_recall = recall_score(y_test, y_pred)\n",
        "log_auc = roc_auc_score(y_test, y_pred)"
      ],
      "metadata": {
        "id": "dMZTnPHncx8Q",
        "execution": {
          "iopub.status.busy": "2022-07-31T16:42:34.673723Z",
          "iopub.execute_input": "2022-07-31T16:42:34.674268Z",
          "iopub.status.idle": "2022-07-31T16:42:34.684969Z",
          "shell.execute_reply.started": "2022-07-31T16:42:34.674223Z",
          "shell.execute_reply": "2022-07-31T16:42:34.683992Z"
        },
        "trusted": true
      },
      "execution_count": null,
      "outputs": []
    },
    {
      "cell_type": "markdown",
      "source": [
        "### Grid Search for Logistic Regression (Hyperparameter Tuning)"
      ],
      "metadata": {
        "id": "G_07Cge4tzTn"
      }
    },
    {
      "cell_type": "code",
      "source": [
        "from sklearn.model_selection import GridSearchCV\n",
        "penalty = [\"l1\", \"l2\"]\n",
        "C = np.logspace(-1, 5, 10)\n",
        "max_iter = [100, 150, 200, 250, 300, 350, 400]\n",
        "param_grid = {\"penalty\" : penalty,\n",
        "             \"C\" : C,\n",
        "              \"max_iter\" : max_iter}"
      ],
      "metadata": {
        "id": "jgsI-_ILtzTn",
        "execution": {
          "iopub.status.busy": "2022-07-31T16:42:34.687959Z",
          "iopub.execute_input": "2022-07-31T16:42:34.688220Z",
          "iopub.status.idle": "2022-07-31T16:42:34.695413Z",
          "shell.execute_reply.started": "2022-07-31T16:42:34.688198Z",
          "shell.execute_reply": "2022-07-31T16:42:34.694526Z"
        },
        "trusted": true
      },
      "execution_count": null,
      "outputs": []
    },
    {
      "cell_type": "code",
      "source": [
        "log_grid_model = GridSearchCV(log_model, param_grid = param_grid, cv=5)"
      ],
      "metadata": {
        "id": "OJ5GSfSqtzTo",
        "execution": {
          "iopub.status.busy": "2022-07-31T16:42:34.696896Z",
          "iopub.execute_input": "2022-07-31T16:42:34.697645Z",
          "iopub.status.idle": "2022-07-31T16:42:34.703686Z",
          "shell.execute_reply.started": "2022-07-31T16:42:34.697606Z",
          "shell.execute_reply": "2022-07-31T16:42:34.702768Z"
        },
        "trusted": true
      },
      "execution_count": null,
      "outputs": []
    },
    {
      "cell_type": "code",
      "source": [
        "log_grid_model.fit(X_train,y_train)"
      ],
      "metadata": {
        "id": "XXOzgGFRtzTo",
        "outputId": "a67a14d9-db83-4b0c-92d6-55bd8f68ed22",
        "execution": {
          "iopub.status.busy": "2022-07-31T16:42:34.704769Z",
          "iopub.execute_input": "2022-07-31T16:42:34.706485Z",
          "iopub.status.idle": "2022-07-31T16:42:40.292115Z",
          "shell.execute_reply.started": "2022-07-31T16:42:34.706448Z",
          "shell.execute_reply": "2022-07-31T16:42:40.291129Z"
        },
        "trusted": true,
        "colab": {
          "base_uri": "https://localhost:8080/",
          "height": 117
        }
      },
      "execution_count": null,
      "outputs": [
        {
          "output_type": "execute_result",
          "data": {
            "text/plain": [
              "GridSearchCV(cv=5,\n",
              "             estimator=LogisticRegression(C=0.2, class_weight='balanced',\n",
              "                                          max_iter=200),\n",
              "             param_grid={'C': array([1.00000000e-01, 4.64158883e-01, 2.15443469e+00, 1.00000000e+01,\n",
              "       4.64158883e+01, 2.15443469e+02, 1.00000000e+03, 4.64158883e+03,\n",
              "       2.15443469e+04, 1.00000000e+05]),\n",
              "                         'max_iter': [100, 150, 200, 250, 300, 350, 400],\n",
              "                         'penalty': ['l1', 'l2']})"
            ],
            "text/html": [
              "<style>#sk-container-id-2 {color: black;background-color: white;}#sk-container-id-2 pre{padding: 0;}#sk-container-id-2 div.sk-toggleable {background-color: white;}#sk-container-id-2 label.sk-toggleable__label {cursor: pointer;display: block;width: 100%;margin-bottom: 0;padding: 0.3em;box-sizing: border-box;text-align: center;}#sk-container-id-2 label.sk-toggleable__label-arrow:before {content: \"▸\";float: left;margin-right: 0.25em;color: #696969;}#sk-container-id-2 label.sk-toggleable__label-arrow:hover:before {color: black;}#sk-container-id-2 div.sk-estimator:hover label.sk-toggleable__label-arrow:before {color: black;}#sk-container-id-2 div.sk-toggleable__content {max-height: 0;max-width: 0;overflow: hidden;text-align: left;background-color: #f0f8ff;}#sk-container-id-2 div.sk-toggleable__content pre {margin: 0.2em;color: black;border-radius: 0.25em;background-color: #f0f8ff;}#sk-container-id-2 input.sk-toggleable__control:checked~div.sk-toggleable__content {max-height: 200px;max-width: 100%;overflow: auto;}#sk-container-id-2 input.sk-toggleable__control:checked~label.sk-toggleable__label-arrow:before {content: \"▾\";}#sk-container-id-2 div.sk-estimator input.sk-toggleable__control:checked~label.sk-toggleable__label {background-color: #d4ebff;}#sk-container-id-2 div.sk-label input.sk-toggleable__control:checked~label.sk-toggleable__label {background-color: #d4ebff;}#sk-container-id-2 input.sk-hidden--visually {border: 0;clip: rect(1px 1px 1px 1px);clip: rect(1px, 1px, 1px, 1px);height: 1px;margin: -1px;overflow: hidden;padding: 0;position: absolute;width: 1px;}#sk-container-id-2 div.sk-estimator {font-family: monospace;background-color: #f0f8ff;border: 1px dotted black;border-radius: 0.25em;box-sizing: border-box;margin-bottom: 0.5em;}#sk-container-id-2 div.sk-estimator:hover {background-color: #d4ebff;}#sk-container-id-2 div.sk-parallel-item::after {content: \"\";width: 100%;border-bottom: 1px solid gray;flex-grow: 1;}#sk-container-id-2 div.sk-label:hover label.sk-toggleable__label {background-color: #d4ebff;}#sk-container-id-2 div.sk-serial::before {content: \"\";position: absolute;border-left: 1px solid gray;box-sizing: border-box;top: 0;bottom: 0;left: 50%;z-index: 0;}#sk-container-id-2 div.sk-serial {display: flex;flex-direction: column;align-items: center;background-color: white;padding-right: 0.2em;padding-left: 0.2em;position: relative;}#sk-container-id-2 div.sk-item {position: relative;z-index: 1;}#sk-container-id-2 div.sk-parallel {display: flex;align-items: stretch;justify-content: center;background-color: white;position: relative;}#sk-container-id-2 div.sk-item::before, #sk-container-id-2 div.sk-parallel-item::before {content: \"\";position: absolute;border-left: 1px solid gray;box-sizing: border-box;top: 0;bottom: 0;left: 50%;z-index: -1;}#sk-container-id-2 div.sk-parallel-item {display: flex;flex-direction: column;z-index: 1;position: relative;background-color: white;}#sk-container-id-2 div.sk-parallel-item:first-child::after {align-self: flex-end;width: 50%;}#sk-container-id-2 div.sk-parallel-item:last-child::after {align-self: flex-start;width: 50%;}#sk-container-id-2 div.sk-parallel-item:only-child::after {width: 0;}#sk-container-id-2 div.sk-dashed-wrapped {border: 1px dashed gray;margin: 0 0.4em 0.5em 0.4em;box-sizing: border-box;padding-bottom: 0.4em;background-color: white;}#sk-container-id-2 div.sk-label label {font-family: monospace;font-weight: bold;display: inline-block;line-height: 1.2em;}#sk-container-id-2 div.sk-label-container {text-align: center;}#sk-container-id-2 div.sk-container {/* jupyter's `normalize.less` sets `[hidden] { display: none; }` but bootstrap.min.css set `[hidden] { display: none !important; }` so we also need the `!important` here to be able to override the default hidden behavior on the sphinx rendered scikit-learn.org. See: https://github.com/scikit-learn/scikit-learn/issues/21755 */display: inline-block !important;position: relative;}#sk-container-id-2 div.sk-text-repr-fallback {display: none;}</style><div id=\"sk-container-id-2\" class=\"sk-top-container\"><div class=\"sk-text-repr-fallback\"><pre>GridSearchCV(cv=5,\n",
              "             estimator=LogisticRegression(C=0.2, class_weight=&#x27;balanced&#x27;,\n",
              "                                          max_iter=200),\n",
              "             param_grid={&#x27;C&#x27;: array([1.00000000e-01, 4.64158883e-01, 2.15443469e+00, 1.00000000e+01,\n",
              "       4.64158883e+01, 2.15443469e+02, 1.00000000e+03, 4.64158883e+03,\n",
              "       2.15443469e+04, 1.00000000e+05]),\n",
              "                         &#x27;max_iter&#x27;: [100, 150, 200, 250, 300, 350, 400],\n",
              "                         &#x27;penalty&#x27;: [&#x27;l1&#x27;, &#x27;l2&#x27;]})</pre><b>In a Jupyter environment, please rerun this cell to show the HTML representation or trust the notebook. <br />On GitHub, the HTML representation is unable to render, please try loading this page with nbviewer.org.</b></div><div class=\"sk-container\" hidden><div class=\"sk-item sk-dashed-wrapped\"><div class=\"sk-label-container\"><div class=\"sk-label sk-toggleable\"><input class=\"sk-toggleable__control sk-hidden--visually\" id=\"sk-estimator-id-2\" type=\"checkbox\" ><label for=\"sk-estimator-id-2\" class=\"sk-toggleable__label sk-toggleable__label-arrow\">GridSearchCV</label><div class=\"sk-toggleable__content\"><pre>GridSearchCV(cv=5,\n",
              "             estimator=LogisticRegression(C=0.2, class_weight=&#x27;balanced&#x27;,\n",
              "                                          max_iter=200),\n",
              "             param_grid={&#x27;C&#x27;: array([1.00000000e-01, 4.64158883e-01, 2.15443469e+00, 1.00000000e+01,\n",
              "       4.64158883e+01, 2.15443469e+02, 1.00000000e+03, 4.64158883e+03,\n",
              "       2.15443469e+04, 1.00000000e+05]),\n",
              "                         &#x27;max_iter&#x27;: [100, 150, 200, 250, 300, 350, 400],\n",
              "                         &#x27;penalty&#x27;: [&#x27;l1&#x27;, &#x27;l2&#x27;]})</pre></div></div></div><div class=\"sk-parallel\"><div class=\"sk-parallel-item\"><div class=\"sk-item\"><div class=\"sk-label-container\"><div class=\"sk-label sk-toggleable\"><input class=\"sk-toggleable__control sk-hidden--visually\" id=\"sk-estimator-id-3\" type=\"checkbox\" ><label for=\"sk-estimator-id-3\" class=\"sk-toggleable__label sk-toggleable__label-arrow\">estimator: LogisticRegression</label><div class=\"sk-toggleable__content\"><pre>LogisticRegression(C=0.2, class_weight=&#x27;balanced&#x27;, max_iter=200)</pre></div></div></div><div class=\"sk-serial\"><div class=\"sk-item\"><div class=\"sk-estimator sk-toggleable\"><input class=\"sk-toggleable__control sk-hidden--visually\" id=\"sk-estimator-id-4\" type=\"checkbox\" ><label for=\"sk-estimator-id-4\" class=\"sk-toggleable__label sk-toggleable__label-arrow\">LogisticRegression</label><div class=\"sk-toggleable__content\"><pre>LogisticRegression(C=0.2, class_weight=&#x27;balanced&#x27;, max_iter=200)</pre></div></div></div></div></div></div></div></div></div></div>"
            ]
          },
          "metadata": {},
          "execution_count": 138
        }
      ]
    },
    {
      "cell_type": "code",
      "source": [
        "log_grid_model.best_params_"
      ],
      "metadata": {
        "id": "PTmTa8aPtzTp",
        "outputId": "07e88b0d-ca76-4691-d5ce-2419a51da18d",
        "execution": {
          "iopub.status.busy": "2022-07-31T16:42:40.293408Z",
          "iopub.execute_input": "2022-07-31T16:42:40.294030Z",
          "iopub.status.idle": "2022-07-31T16:42:40.301218Z",
          "shell.execute_reply.started": "2022-07-31T16:42:40.293991Z",
          "shell.execute_reply": "2022-07-31T16:42:40.300014Z"
        },
        "trusted": true,
        "colab": {
          "base_uri": "https://localhost:8080/"
        }
      },
      "execution_count": null,
      "outputs": [
        {
          "output_type": "execute_result",
          "data": {
            "text/plain": [
              "{'C': 100000.0, 'max_iter': 350, 'penalty': 'l2'}"
            ]
          },
          "metadata": {},
          "execution_count": 139
        }
      ]
    },
    {
      "cell_type": "code",
      "source": [
        "eval_metric(log_grid_model, X_train, y_train, X_test, y_test)\n"
      ],
      "metadata": {
        "id": "jGB7_Ht5tzTq",
        "outputId": "d0f9caa0-5f93-47d4-e2df-2648130c2e9a",
        "execution": {
          "iopub.status.busy": "2022-07-31T16:42:40.302637Z",
          "iopub.execute_input": "2022-07-31T16:42:40.303406Z",
          "iopub.status.idle": "2022-07-31T16:42:40.323760Z",
          "shell.execute_reply.started": "2022-07-31T16:42:40.303369Z",
          "shell.execute_reply": "2022-07-31T16:42:40.322616Z"
        },
        "trusted": true,
        "colab": {
          "base_uri": "https://localhost:8080/"
        }
      },
      "execution_count": null,
      "outputs": [
        {
          "output_type": "stream",
          "name": "stdout",
          "text": [
            "Test_Set\n",
            "confussion matrix\n",
            "[[23  5]\n",
            " [ 9 24]]\n",
            "              precision    recall  f1-score   support\n",
            "\n",
            "           0       0.72      0.82      0.77        28\n",
            "           1       0.83      0.73      0.77        33\n",
            "\n",
            "    accuracy                           0.77        61\n",
            "   macro avg       0.77      0.77      0.77        61\n",
            "weighted avg       0.78      0.77      0.77        61\n",
            "\n",
            "\n",
            "Train_Set\n",
            "confussion matrix\n",
            "[[ 83  27]\n",
            " [ 18 114]]\n",
            "              precision    recall  f1-score   support\n",
            "\n",
            "           0       0.82      0.75      0.79       110\n",
            "           1       0.81      0.86      0.84       132\n",
            "\n",
            "    accuracy                           0.81       242\n",
            "   macro avg       0.82      0.81      0.81       242\n",
            "weighted avg       0.81      0.81      0.81       242\n",
            "\n"
          ]
        }
      ]
    },
    {
      "cell_type": "markdown",
      "source": [
        "This has been the best score since being used Logistic Regression. Now its precision-recall curve & Roc Curve will be displayed."
      ],
      "metadata": {
        "id": "NfNKlNPHKHoG"
      }
    },
    {
      "cell_type": "code",
      "source": [
        "#plot_precision_recall_curve(log_grid_model, X_test, y_test);  # Precision - Recall Curve"
      ],
      "metadata": {
        "id": "gElvFG-StzTq",
        "outputId": "05a858c1-4dc6-47be-ce72-3a7390ac2e19",
        "execution": {
          "iopub.status.busy": "2022-07-31T16:42:40.335259Z",
          "iopub.execute_input": "2022-07-31T16:42:40.335505Z",
          "iopub.status.idle": "2022-07-31T16:42:40.595272Z",
          "shell.execute_reply.started": "2022-07-31T16:42:40.335483Z",
          "shell.execute_reply": "2022-07-31T16:42:40.594183Z"
        },
        "trusted": true,
        "colab": {
          "base_uri": "https://localhost:8080/",
          "height": 171
        }
      },
      "execution_count": null,
      "outputs": [
        {
          "output_type": "error",
          "ename": "NameError",
          "evalue": "ignored",
          "traceback": [
            "\u001b[0;31m---------------------------------------------------------------------------\u001b[0m",
            "\u001b[0;31mNameError\u001b[0m                                 Traceback (most recent call last)",
            "\u001b[0;32m<ipython-input-146-1f1d627190d2>\u001b[0m in \u001b[0;36m<cell line: 1>\u001b[0;34m()\u001b[0m\n\u001b[0;32m----> 1\u001b[0;31m \u001b[0mplot_precision_recall_curve\u001b[0m\u001b[0;34m(\u001b[0m\u001b[0mlog_grid_model\u001b[0m\u001b[0;34m,\u001b[0m \u001b[0mX_test\u001b[0m\u001b[0;34m,\u001b[0m \u001b[0my_test\u001b[0m\u001b[0;34m)\u001b[0m\u001b[0;34m;\u001b[0m  \u001b[0;31m# Precision - Recall Curve\u001b[0m\u001b[0;34m\u001b[0m\u001b[0;34m\u001b[0m\u001b[0m\n\u001b[0m",
            "\u001b[0;31mNameError\u001b[0m: name 'plot_precision_recall_curve' is not defined"
          ]
        }
      ]
    },
    {
      "cell_type": "code",
      "source": [
        "#plot_roc_curve(log_grid_model, X_test, y_test);  # Roc curve"
      ],
      "metadata": {
        "id": "N7RxzEo3tzTr",
        "outputId": "fd8667c2-3174-44d3-a975-56967d399b37",
        "execution": {
          "iopub.status.busy": "2022-07-31T16:42:40.597301Z",
          "iopub.execute_input": "2022-07-31T16:42:40.597922Z",
          "iopub.status.idle": "2022-07-31T16:42:40.856518Z",
          "shell.execute_reply.started": "2022-07-31T16:42:40.597885Z",
          "shell.execute_reply": "2022-07-31T16:42:40.855407Z"
        },
        "trusted": true,
        "colab": {
          "base_uri": "https://localhost:8080/",
          "height": 171
        }
      },
      "execution_count": null,
      "outputs": [
        {
          "output_type": "error",
          "ename": "NameError",
          "evalue": "ignored",
          "traceback": [
            "\u001b[0;31m---------------------------------------------------------------------------\u001b[0m",
            "\u001b[0;31mNameError\u001b[0m                                 Traceback (most recent call last)",
            "\u001b[0;32m<ipython-input-147-f41dd56c33b3>\u001b[0m in \u001b[0;36m<cell line: 1>\u001b[0;34m()\u001b[0m\n\u001b[0;32m----> 1\u001b[0;31m \u001b[0mplot_roc_curve\u001b[0m\u001b[0;34m(\u001b[0m\u001b[0mlog_grid_model\u001b[0m\u001b[0;34m,\u001b[0m \u001b[0mX_test\u001b[0m\u001b[0;34m,\u001b[0m \u001b[0my_test\u001b[0m\u001b[0;34m)\u001b[0m\u001b[0;34m;\u001b[0m  \u001b[0;31m# Roc curve\u001b[0m\u001b[0;34m\u001b[0m\u001b[0;34m\u001b[0m\u001b[0m\n\u001b[0m",
            "\u001b[0;31mNameError\u001b[0m: name 'plot_roc_curve' is not defined"
          ]
        }
      ]
    },
    {
      "cell_type": "code",
      "source": [
        "y_pred = log_grid_model.predict(X_test)\n",
        "log_rec_neg = recall_score(y_test, y_pred, average = None)\n",
        "log_f1_neg = f1_score(y_test, y_pred, average = None)"
      ],
      "metadata": {
        "id": "c-Mr_XUrtzTs",
        "execution": {
          "iopub.status.busy": "2022-07-31T16:42:40.857939Z",
          "iopub.execute_input": "2022-07-31T16:42:40.858487Z",
          "iopub.status.idle": "2022-07-31T16:42:40.869108Z",
          "shell.execute_reply.started": "2022-07-31T16:42:40.858446Z",
          "shell.execute_reply": "2022-07-31T16:42:40.868138Z"
        },
        "trusted": true
      },
      "execution_count": null,
      "outputs": []
    },
    {
      "cell_type": "markdown",
      "source": [
        "## Random Forest"
      ],
      "metadata": {
        "id": "-7ALMq51tzTu"
      }
    },
    {
      "cell_type": "markdown",
      "source": [
        "The other model that will be used is Random Forest that represents bagging method. This method has been more resistant to overfitting than Decision Tree. While some decisions have been combined by a decision tree,several decision trees have been combined by a random forest. Thus, decision tree works well on large datasets rapidly. But since our dataset is not too large we used Random Forest here rather than Decision tree."
      ],
      "metadata": {
        "id": "dQHFa6RKXeqp"
      }
    },
    {
      "cell_type": "markdown",
      "source": [
        "### Preprocessing"
      ],
      "metadata": {
        "id": "MIFoxxyvtzTu"
      }
    },
    {
      "cell_type": "markdown",
      "source": [
        "Since tree-based models like Random Forest doesn't need scaling and get dummies, the original data has been used here."
      ],
      "metadata": {
        "id": "dmHlyvXxfDGQ"
      }
    },
    {
      "cell_type": "code",
      "source": [
        "X= df.drop([\"target\"], axis=1)\n",
        "y= df[\"target\"]"
      ],
      "metadata": {
        "id": "As1rp19GtzTv",
        "execution": {
          "iopub.status.busy": "2022-07-31T16:42:40.871044Z",
          "iopub.execute_input": "2022-07-31T16:42:40.871430Z",
          "iopub.status.idle": "2022-07-31T16:42:40.878568Z",
          "shell.execute_reply.started": "2022-07-31T16:42:40.871376Z",
          "shell.execute_reply": "2022-07-31T16:42:40.877300Z"
        },
        "trusted": true
      },
      "execution_count": null,
      "outputs": []
    },
    {
      "cell_type": "code",
      "source": [
        "X_train, X_test, y_train, y_test = train_test_split(X, y, test_size=0.2, stratify=y,  random_state=10)"
      ],
      "metadata": {
        "id": "g04GbbUttzTv",
        "execution": {
          "iopub.status.busy": "2022-07-31T16:42:40.880093Z",
          "iopub.execute_input": "2022-07-31T16:42:40.880696Z",
          "iopub.status.idle": "2022-07-31T16:42:40.891198Z",
          "shell.execute_reply.started": "2022-07-31T16:42:40.880656Z",
          "shell.execute_reply": "2022-07-31T16:42:40.890204Z"
        },
        "trusted": true
      },
      "execution_count": null,
      "outputs": []
    },
    {
      "cell_type": "code",
      "source": [
        "from sklearn.ensemble import RandomForestClassifier"
      ],
      "metadata": {
        "id": "SyrOD8sNtzTw",
        "execution": {
          "iopub.status.busy": "2022-07-31T16:42:40.892774Z",
          "iopub.execute_input": "2022-07-31T16:42:40.893880Z",
          "iopub.status.idle": "2022-07-31T16:42:41.088536Z",
          "shell.execute_reply.started": "2022-07-31T16:42:40.893817Z",
          "shell.execute_reply": "2022-07-31T16:42:41.087461Z"
        },
        "trusted": true
      },
      "execution_count": null,
      "outputs": []
    },
    {
      "cell_type": "code",
      "source": [
        "rf_model = RandomForestClassifier(random_state=10)\n",
        "rf_model.fit(X_train,y_train)\n",
        "eval_metric(rf_model, X_train, y_train, X_test, y_test)\n",
        "# before tuning\n",
        "# As we see, there is overfitting. Now I will try to decrease it by tuning the hyperparameters."
      ],
      "metadata": {
        "id": "_69hcQhUtzTw",
        "outputId": "8a58706c-6723-4346-927e-cc13073a53c6",
        "execution": {
          "iopub.status.busy": "2022-07-31T16:42:41.089844Z",
          "iopub.execute_input": "2022-07-31T16:42:41.091354Z",
          "iopub.status.idle": "2022-07-31T16:42:41.414955Z",
          "shell.execute_reply.started": "2022-07-31T16:42:41.091316Z",
          "shell.execute_reply": "2022-07-31T16:42:41.413997Z"
        },
        "trusted": true,
        "colab": {
          "base_uri": "https://localhost:8080/"
        }
      },
      "execution_count": null,
      "outputs": [
        {
          "output_type": "stream",
          "name": "stdout",
          "text": [
            "Test_Set\n",
            "confussion matrix\n",
            "[[24  4]\n",
            " [ 7 26]]\n",
            "              precision    recall  f1-score   support\n",
            "\n",
            "           0       0.77      0.86      0.81        28\n",
            "           1       0.87      0.79      0.83        33\n",
            "\n",
            "    accuracy                           0.82        61\n",
            "   macro avg       0.82      0.82      0.82        61\n",
            "weighted avg       0.82      0.82      0.82        61\n",
            "\n",
            "\n",
            "Train_Set\n",
            "confussion matrix\n",
            "[[110   0]\n",
            " [  0 132]]\n",
            "              precision    recall  f1-score   support\n",
            "\n",
            "           0       1.00      1.00      1.00       110\n",
            "           1       1.00      1.00      1.00       132\n",
            "\n",
            "    accuracy                           1.00       242\n",
            "   macro avg       1.00      1.00      1.00       242\n",
            "weighted avg       1.00      1.00      1.00       242\n",
            "\n"
          ]
        }
      ]
    },
    {
      "cell_type": "code",
      "source": [
        "rf_model = RandomForestClassifier(class_weight=\"balanced\",max_depth=2, random_state=10)\n",
        "rf_model.fit(X_train,y_train)\n",
        "eval_metric(rf_model, X_train, y_train, X_test, y_test)\n",
        "# After tuning many times manually, for the random forest model, these parameters gave the best scores. Now I will display its precision-recall curve and Roc Curve."
      ],
      "metadata": {
        "id": "VuKzNbPOtzTx",
        "outputId": "346226b8-cf6e-4839-ddf6-67c2d562dbc3",
        "execution": {
          "iopub.status.busy": "2022-07-31T16:42:41.419658Z",
          "iopub.execute_input": "2022-07-31T16:42:41.422483Z",
          "iopub.status.idle": "2022-07-31T16:42:41.727484Z",
          "shell.execute_reply.started": "2022-07-31T16:42:41.422443Z",
          "shell.execute_reply": "2022-07-31T16:42:41.726439Z"
        },
        "trusted": true,
        "colab": {
          "base_uri": "https://localhost:8080/"
        }
      },
      "execution_count": null,
      "outputs": [
        {
          "output_type": "stream",
          "name": "stdout",
          "text": [
            "Test_Set\n",
            "confussion matrix\n",
            "[[23  5]\n",
            " [10 23]]\n",
            "              precision    recall  f1-score   support\n",
            "\n",
            "           0       0.70      0.82      0.75        28\n",
            "           1       0.82      0.70      0.75        33\n",
            "\n",
            "    accuracy                           0.75        61\n",
            "   macro avg       0.76      0.76      0.75        61\n",
            "weighted avg       0.76      0.75      0.75        61\n",
            "\n",
            "\n",
            "Train_Set\n",
            "confussion matrix\n",
            "[[ 80  30]\n",
            " [ 20 112]]\n",
            "              precision    recall  f1-score   support\n",
            "\n",
            "           0       0.80      0.73      0.76       110\n",
            "           1       0.79      0.85      0.82       132\n",
            "\n",
            "    accuracy                           0.79       242\n",
            "   macro avg       0.79      0.79      0.79       242\n",
            "weighted avg       0.79      0.79      0.79       242\n",
            "\n"
          ]
        }
      ]
    },
    {
      "cell_type": "code",
      "source": [
        "y_pred = rf_model.predict(X_test)\n",
        "rf_f1 = f1_score(y_test, y_pred)\n",
        "rf_recall = recall_score(y_test, y_pred)\n",
        "rf_auc = roc_auc_score(y_test, y_pred)"
      ],
      "metadata": {
        "id": "GrRGmuthchfI",
        "execution": {
          "iopub.status.busy": "2022-07-31T16:42:41.729249Z",
          "iopub.execute_input": "2022-07-31T16:42:41.729813Z",
          "iopub.status.idle": "2022-07-31T16:42:41.762657Z",
          "shell.execute_reply.started": "2022-07-31T16:42:41.729776Z",
          "shell.execute_reply": "2022-07-31T16:42:41.761645Z"
        },
        "trusted": true
      },
      "execution_count": null,
      "outputs": []
    },
    {
      "cell_type": "code",
      "source": [
        "#plot_precision_recall_curve(rf_model, X_test, y_test);  # Precision - Recall Curve"
      ],
      "metadata": {
        "id": "Lx40kNgftzTx",
        "outputId": "6382c7da-48f8-499f-8a9c-e4dfab14954a",
        "execution": {
          "iopub.status.busy": "2022-07-31T16:42:41.767099Z",
          "iopub.execute_input": "2022-07-31T16:42:41.769438Z",
          "iopub.status.idle": "2022-07-31T16:42:42.188337Z",
          "shell.execute_reply.started": "2022-07-31T16:42:41.769399Z",
          "shell.execute_reply": "2022-07-31T16:42:42.187217Z"
        },
        "trusted": true,
        "colab": {
          "base_uri": "https://localhost:8080/",
          "height": 171
        }
      },
      "execution_count": null,
      "outputs": [
        {
          "output_type": "error",
          "ename": "NameError",
          "evalue": "ignored",
          "traceback": [
            "\u001b[0;31m---------------------------------------------------------------------------\u001b[0m",
            "\u001b[0;31mNameError\u001b[0m                                 Traceback (most recent call last)",
            "\u001b[0;32m<ipython-input-149-91f597182feb>\u001b[0m in \u001b[0;36m<cell line: 1>\u001b[0;34m()\u001b[0m\n\u001b[0;32m----> 1\u001b[0;31m \u001b[0mplot_precision_recall_curve\u001b[0m\u001b[0;34m(\u001b[0m\u001b[0mrf_model\u001b[0m\u001b[0;34m,\u001b[0m \u001b[0mX_test\u001b[0m\u001b[0;34m,\u001b[0m \u001b[0my_test\u001b[0m\u001b[0;34m)\u001b[0m\u001b[0;34m;\u001b[0m  \u001b[0;31m# Precision - Recall Curve\u001b[0m\u001b[0;34m\u001b[0m\u001b[0;34m\u001b[0m\u001b[0m\n\u001b[0m",
            "\u001b[0;31mNameError\u001b[0m: name 'plot_precision_recall_curve' is not defined"
          ]
        }
      ]
    },
    {
      "cell_type": "code",
      "source": [
        "#plot_roc_curve(rf_model, X_test, y_test);"
      ],
      "metadata": {
        "id": "duta7M89tzTy",
        "outputId": "b53fa209-db9d-46ef-c743-b52f28de902d",
        "execution": {
          "iopub.status.busy": "2022-07-31T16:42:42.192658Z",
          "iopub.execute_input": "2022-07-31T16:42:42.194915Z",
          "iopub.status.idle": "2022-07-31T16:42:42.531989Z",
          "shell.execute_reply.started": "2022-07-31T16:42:42.194876Z",
          "shell.execute_reply": "2022-07-31T16:42:42.530866Z"
        },
        "trusted": true,
        "colab": {
          "base_uri": "https://localhost:8080/",
          "height": 171
        }
      },
      "execution_count": null,
      "outputs": [
        {
          "output_type": "error",
          "ename": "NameError",
          "evalue": "ignored",
          "traceback": [
            "\u001b[0;31m---------------------------------------------------------------------------\u001b[0m",
            "\u001b[0;31mNameError\u001b[0m                                 Traceback (most recent call last)",
            "\u001b[0;32m<ipython-input-134-1147993bb3ea>\u001b[0m in \u001b[0;36m<cell line: 1>\u001b[0;34m()\u001b[0m\n\u001b[0;32m----> 1\u001b[0;31m \u001b[0mplot_roc_curve\u001b[0m\u001b[0;34m(\u001b[0m\u001b[0mrf_model\u001b[0m\u001b[0;34m,\u001b[0m \u001b[0mX_test\u001b[0m\u001b[0;34m,\u001b[0m \u001b[0my_test\u001b[0m\u001b[0;34m)\u001b[0m\u001b[0;34m;\u001b[0m\u001b[0;34m\u001b[0m\u001b[0;34m\u001b[0m\u001b[0m\n\u001b[0m",
            "\u001b[0;31mNameError\u001b[0m: name 'plot_roc_curve' is not defined"
          ]
        }
      ]
    },
    {
      "cell_type": "markdown",
      "source": [
        "### Grid Search for Random Forest (Hyperparameter Tuning)"
      ],
      "metadata": {
        "id": "Il476nrotzTy"
      }
    },
    {
      "cell_type": "markdown",
      "source": [
        "Now I will apply grid search to the Random Forest model."
      ],
      "metadata": {
        "id": "cdu5efDTgsLt"
      }
    },
    {
      "cell_type": "code",
      "source": [
        "param_grid = {'n_estimators':[50, 64, 100, 128, 200, 300],\n",
        "              'criterion': [ \"gini\", \"entropy\"],\n",
        "             'max_features':[2, 3, 4, \"auto\"],\n",
        "             'max_depth':[2,3, 5, 7],\n",
        "             'min_samples_split':[2, 5, 8]}"
      ],
      "metadata": {
        "id": "wCKCHIV5tzTz",
        "execution": {
          "iopub.status.busy": "2022-07-31T16:42:42.533673Z",
          "iopub.execute_input": "2022-07-31T16:42:42.534034Z",
          "iopub.status.idle": "2022-07-31T16:42:42.543112Z",
          "shell.execute_reply.started": "2022-07-31T16:42:42.533998Z",
          "shell.execute_reply": "2022-07-31T16:42:42.541972Z"
        },
        "trusted": true
      },
      "execution_count": null,
      "outputs": []
    },
    {
      "cell_type": "code",
      "source": [
        "model = RandomForestClassifier(class_weight = \"balanced\", random_state=101)\n",
        "rf_grid_model = GridSearchCV(model, param_grid, scoring = \"f1\").fit(X_train, y_train)"
      ],
      "metadata": {
        "id": "Y5I6nKaYtzTz",
        "execution": {
          "iopub.status.busy": "2022-07-31T16:42:42.544724Z",
          "iopub.execute_input": "2022-07-31T16:42:42.546125Z",
          "iopub.status.idle": "2022-07-31T16:53:51.080368Z",
          "shell.execute_reply.started": "2022-07-31T16:42:42.546077Z",
          "shell.execute_reply": "2022-07-31T16:53:51.079352Z"
        },
        "trusted": true
      },
      "execution_count": null,
      "outputs": []
    },
    {
      "cell_type": "code",
      "source": [
        "rf_grid_model.best_params_"
      ],
      "metadata": {
        "id": "L7qNKXzotzT0",
        "outputId": "1d0e63db-3907-4e71-c6bf-460b6db16dde",
        "execution": {
          "iopub.status.busy": "2022-07-31T16:53:51.081843Z",
          "iopub.execute_input": "2022-07-31T16:53:51.082229Z",
          "iopub.status.idle": "2022-07-31T16:53:51.090160Z",
          "shell.execute_reply.started": "2022-07-31T16:53:51.082195Z",
          "shell.execute_reply": "2022-07-31T16:53:51.088640Z"
        },
        "trusted": true,
        "colab": {
          "base_uri": "https://localhost:8080/"
        }
      },
      "execution_count": null,
      "outputs": [
        {
          "output_type": "execute_result",
          "data": {
            "text/plain": [
              "{'criterion': 'gini',\n",
              " 'max_depth': 7,\n",
              " 'max_features': 2,\n",
              " 'min_samples_split': 2,\n",
              " 'n_estimators': 128}"
            ]
          },
          "metadata": {},
          "execution_count": 152
        }
      ]
    },
    {
      "cell_type": "code",
      "source": [
        "eval_metric(rf_grid_model, X_train, y_train, X_test, y_test)"
      ],
      "metadata": {
        "id": "ENmm8_t8tzT0",
        "outputId": "3228cd27-e88f-416f-da96-91ee05b8a09c",
        "execution": {
          "iopub.status.busy": "2022-07-31T16:53:51.091505Z",
          "iopub.execute_input": "2022-07-31T16:53:51.092016Z",
          "iopub.status.idle": "2022-07-31T16:53:51.158536Z",
          "shell.execute_reply.started": "2022-07-31T16:53:51.091980Z",
          "shell.execute_reply": "2022-07-31T16:53:51.157552Z"
        },
        "trusted": true,
        "colab": {
          "base_uri": "https://localhost:8080/"
        }
      },
      "execution_count": null,
      "outputs": [
        {
          "output_type": "stream",
          "name": "stdout",
          "text": [
            "Test_Set\n",
            "confussion matrix\n",
            "[[24  4]\n",
            " [ 7 26]]\n",
            "              precision    recall  f1-score   support\n",
            "\n",
            "           0       0.77      0.86      0.81        28\n",
            "           1       0.87      0.79      0.83        33\n",
            "\n",
            "    accuracy                           0.82        61\n",
            "   macro avg       0.82      0.82      0.82        61\n",
            "weighted avg       0.82      0.82      0.82        61\n",
            "\n",
            "\n",
            "Train_Set\n",
            "confussion matrix\n",
            "[[103   7]\n",
            " [  1 131]]\n",
            "              precision    recall  f1-score   support\n",
            "\n",
            "           0       0.99      0.94      0.96       110\n",
            "           1       0.95      0.99      0.97       132\n",
            "\n",
            "    accuracy                           0.97       242\n",
            "   macro avg       0.97      0.96      0.97       242\n",
            "weighted avg       0.97      0.97      0.97       242\n",
            "\n"
          ]
        }
      ]
    },
    {
      "cell_type": "markdown",
      "source": [
        "## GradientBoosting"
      ],
      "metadata": {
        "execution": {
          "iopub.status.busy": "2022-06-25T20:06:42.862496Z",
          "iopub.execute_input": "2022-06-25T20:06:42.863441Z",
          "iopub.status.idle": "2022-06-25T20:06:42.868329Z",
          "shell.execute_reply.started": "2022-06-25T20:06:42.863399Z",
          "shell.execute_reply": "2022-06-25T20:06:42.867215Z"
        },
        "id": "4nSd-16ltzT5"
      }
    },
    {
      "cell_type": "markdown",
      "source": [
        "Our third model will be Gradient Boosting. Since Gradient boosting is a boosting model and focuses on the differences of the prediction and ground truth, this model has been chosen for comparison."
      ],
      "metadata": {
        "id": "w9i9hXiBZ7Zs"
      }
    },
    {
      "cell_type": "code",
      "source": [
        "from sklearn.ensemble import GradientBoostingClassifier"
      ],
      "metadata": {
        "id": "lEshN_0StzT6",
        "execution": {
          "iopub.status.busy": "2022-07-31T16:53:51.159622Z",
          "iopub.execute_input": "2022-07-31T16:53:51.159923Z",
          "iopub.status.idle": "2022-07-31T16:53:51.165625Z",
          "shell.execute_reply.started": "2022-07-31T16:53:51.159891Z",
          "shell.execute_reply": "2022-07-31T16:53:51.164686Z"
        },
        "trusted": true
      },
      "execution_count": null,
      "outputs": []
    },
    {
      "cell_type": "code",
      "source": [
        "grad_model = GradientBoostingClassifier(random_state=10)\n",
        "grad_model.fit(X_train, y_train)\n",
        "eval_metric(grad_model, X_train, y_train, X_test, y_test)"
      ],
      "metadata": {
        "id": "vzc4wjZctzT7",
        "outputId": "c783d295-1b92-479c-a157-2e50c76031ef",
        "execution": {
          "iopub.status.busy": "2022-07-31T16:53:51.167149Z",
          "iopub.execute_input": "2022-07-31T16:53:51.168248Z",
          "iopub.status.idle": "2022-07-31T16:53:51.270451Z",
          "shell.execute_reply.started": "2022-07-31T16:53:51.168197Z",
          "shell.execute_reply": "2022-07-31T16:53:51.269431Z"
        },
        "trusted": true,
        "colab": {
          "base_uri": "https://localhost:8080/"
        }
      },
      "execution_count": null,
      "outputs": [
        {
          "output_type": "stream",
          "name": "stdout",
          "text": [
            "Test_Set\n",
            "confussion matrix\n",
            "[[22  6]\n",
            " [ 5 28]]\n",
            "              precision    recall  f1-score   support\n",
            "\n",
            "           0       0.81      0.79      0.80        28\n",
            "           1       0.82      0.85      0.84        33\n",
            "\n",
            "    accuracy                           0.82        61\n",
            "   macro avg       0.82      0.82      0.82        61\n",
            "weighted avg       0.82      0.82      0.82        61\n",
            "\n",
            "\n",
            "Train_Set\n",
            "confussion matrix\n",
            "[[108   2]\n",
            " [  1 131]]\n",
            "              precision    recall  f1-score   support\n",
            "\n",
            "           0       0.99      0.98      0.99       110\n",
            "           1       0.98      0.99      0.99       132\n",
            "\n",
            "    accuracy                           0.99       242\n",
            "   macro avg       0.99      0.99      0.99       242\n",
            "weighted avg       0.99      0.99      0.99       242\n",
            "\n"
          ]
        }
      ]
    },
    {
      "cell_type": "markdown",
      "source": [
        "### Grid Search for Gradient Boosting (Hyperparamater Tuning)"
      ],
      "metadata": {
        "id": "1aHIKQRCtzT9"
      }
    },
    {
      "cell_type": "code",
      "source": [
        "param_grid = {\"n_estimators\":[100, 200, 300],\n",
        "              \"subsample\":[0.5, 1],\n",
        "              \"max_features\" : [None, 2, 3, 4],\n",
        "              \"learning_rate\": [0.001, 0.01, 0.1],\n",
        "              'max_depth':[3,4,5,6]}"
      ],
      "metadata": {
        "id": "hLsJO9i5tzT-",
        "execution": {
          "iopub.status.busy": "2022-07-31T16:53:51.272155Z",
          "iopub.execute_input": "2022-07-31T16:53:51.272621Z",
          "iopub.status.idle": "2022-07-31T16:53:51.278431Z",
          "shell.execute_reply.started": "2022-07-31T16:53:51.272581Z",
          "shell.execute_reply": "2022-07-31T16:53:51.277294Z"
        },
        "trusted": true
      },
      "execution_count": null,
      "outputs": []
    },
    {
      "cell_type": "code",
      "source": [
        "gb_model = GradientBoostingClassifier(random_state=10)"
      ],
      "metadata": {
        "id": "0oFeqNmytzT-",
        "execution": {
          "iopub.status.busy": "2022-07-31T16:53:51.279745Z",
          "iopub.execute_input": "2022-07-31T16:53:51.280353Z",
          "iopub.status.idle": "2022-07-31T16:53:51.288158Z",
          "shell.execute_reply.started": "2022-07-31T16:53:51.280309Z",
          "shell.execute_reply": "2022-07-31T16:53:51.287114Z"
        },
        "trusted": true
      },
      "execution_count": null,
      "outputs": []
    },
    {
      "cell_type": "code",
      "source": [
        "grid = GridSearchCV(gb_model, param_grid, scoring = \"f1\").fit(X_train, y_train)"
      ],
      "metadata": {
        "id": "5M8IzT5KtzT_",
        "execution": {
          "iopub.status.busy": "2022-07-31T16:53:51.289538Z",
          "iopub.execute_input": "2022-07-31T16:53:51.290212Z",
          "iopub.status.idle": "2022-07-31T16:59:01.388309Z",
          "shell.execute_reply.started": "2022-07-31T16:53:51.290173Z",
          "shell.execute_reply": "2022-07-31T16:59:01.387369Z"
        },
        "trusted": true
      },
      "execution_count": null,
      "outputs": []
    },
    {
      "cell_type": "code",
      "source": [
        "grid.best_params_"
      ],
      "metadata": {
        "id": "HjUo_68otzUA",
        "outputId": "21ab2560-06a3-427a-e519-188b9fa2706a",
        "execution": {
          "iopub.status.busy": "2022-07-31T16:59:01.389757Z",
          "iopub.execute_input": "2022-07-31T16:59:01.390082Z",
          "iopub.status.idle": "2022-07-31T16:59:01.397998Z",
          "shell.execute_reply.started": "2022-07-31T16:59:01.390048Z",
          "shell.execute_reply": "2022-07-31T16:59:01.397124Z"
        },
        "trusted": true,
        "colab": {
          "base_uri": "https://localhost:8080/"
        }
      },
      "execution_count": null,
      "outputs": [
        {
          "output_type": "execute_result",
          "data": {
            "text/plain": [
              "{'learning_rate': 0.01,\n",
              " 'max_depth': 3,\n",
              " 'max_features': 3,\n",
              " 'n_estimators': 100,\n",
              " 'subsample': 0.5}"
            ]
          },
          "metadata": {},
          "execution_count": 160
        }
      ]
    },
    {
      "cell_type": "code",
      "source": [
        "eval_metric(grid, X_train, y_train, X_test, y_test)"
      ],
      "metadata": {
        "id": "XPE-Hf2JtzUB",
        "outputId": "02741c58-f160-4b3f-f51f-098388342b25",
        "execution": {
          "iopub.status.busy": "2022-07-31T16:59:01.399496Z",
          "iopub.execute_input": "2022-07-31T16:59:01.400179Z",
          "iopub.status.idle": "2022-07-31T16:59:01.422640Z",
          "shell.execute_reply.started": "2022-07-31T16:59:01.400142Z",
          "shell.execute_reply": "2022-07-31T16:59:01.421503Z"
        },
        "trusted": true,
        "colab": {
          "base_uri": "https://localhost:8080/"
        }
      },
      "execution_count": null,
      "outputs": [
        {
          "output_type": "stream",
          "name": "stdout",
          "text": [
            "Test_Set\n",
            "confussion matrix\n",
            "[[24  4]\n",
            " [ 6 27]]\n",
            "              precision    recall  f1-score   support\n",
            "\n",
            "           0       0.80      0.86      0.83        28\n",
            "           1       0.87      0.82      0.84        33\n",
            "\n",
            "    accuracy                           0.84        61\n",
            "   macro avg       0.84      0.84      0.84        61\n",
            "weighted avg       0.84      0.84      0.84        61\n",
            "\n",
            "\n",
            "Train_Set\n",
            "confussion matrix\n",
            "[[ 83  27]\n",
            " [  7 125]]\n",
            "              precision    recall  f1-score   support\n",
            "\n",
            "           0       0.92      0.75      0.83       110\n",
            "           1       0.82      0.95      0.88       132\n",
            "\n",
            "    accuracy                           0.86       242\n",
            "   macro avg       0.87      0.85      0.86       242\n",
            "weighted avg       0.87      0.86      0.86       242\n",
            "\n"
          ]
        }
      ]
    },
    {
      "cell_type": "code",
      "source": [
        "gb_model = GradientBoostingClassifier(random_state=10, learning_rate= 0.02, max_depth= 2, max_features= 6,\n",
        "                                      n_estimators= 200, subsample= 0.2)\n",
        "gb_model.fit(X_train, y_train)\n",
        "eval_metric(gb_model, X_train, y_train, X_test, y_test)\n",
        "# After Grid search, I tuned the model manually and got better scores."
      ],
      "metadata": {
        "id": "z1ZgQlENtzUB",
        "outputId": "7de9586c-a53b-4ecd-d060-54740e0e351b",
        "execution": {
          "iopub.status.busy": "2022-07-31T16:59:01.424259Z",
          "iopub.execute_input": "2022-07-31T16:59:01.424590Z",
          "iopub.status.idle": "2022-07-31T16:59:01.558269Z",
          "shell.execute_reply.started": "2022-07-31T16:59:01.424557Z",
          "shell.execute_reply": "2022-07-31T16:59:01.557242Z"
        },
        "trusted": true,
        "colab": {
          "base_uri": "https://localhost:8080/"
        }
      },
      "execution_count": null,
      "outputs": [
        {
          "output_type": "stream",
          "name": "stdout",
          "text": [
            "Test_Set\n",
            "confussion matrix\n",
            "[[24  4]\n",
            " [ 6 27]]\n",
            "              precision    recall  f1-score   support\n",
            "\n",
            "           0       0.80      0.86      0.83        28\n",
            "           1       0.87      0.82      0.84        33\n",
            "\n",
            "    accuracy                           0.84        61\n",
            "   macro avg       0.84      0.84      0.84        61\n",
            "weighted avg       0.84      0.84      0.84        61\n",
            "\n",
            "\n",
            "Train_Set\n",
            "confussion matrix\n",
            "[[ 87  23]\n",
            " [ 14 118]]\n",
            "              precision    recall  f1-score   support\n",
            "\n",
            "           0       0.86      0.79      0.82       110\n",
            "           1       0.84      0.89      0.86       132\n",
            "\n",
            "    accuracy                           0.85       242\n",
            "   macro avg       0.85      0.84      0.84       242\n",
            "weighted avg       0.85      0.85      0.85       242\n",
            "\n"
          ]
        }
      ]
    },
    {
      "cell_type": "code",
      "source": [
        "#plot_precision_recall_curve(gb_model, X_test, y_test);"
      ],
      "metadata": {
        "id": "MvpdfEEpkDmj",
        "outputId": "804a5acc-1ba4-4284-e573-624c861e5a39",
        "execution": {
          "iopub.status.busy": "2022-07-31T16:59:01.559687Z",
          "iopub.execute_input": "2022-07-31T16:59:01.560028Z",
          "iopub.status.idle": "2022-07-31T16:59:01.823276Z",
          "shell.execute_reply.started": "2022-07-31T16:59:01.559994Z",
          "shell.execute_reply": "2022-07-31T16:59:01.822170Z"
        },
        "trusted": true,
        "colab": {
          "base_uri": "https://localhost:8080/",
          "height": 171
        }
      },
      "execution_count": null,
      "outputs": [
        {
          "output_type": "error",
          "ename": "NameError",
          "evalue": "ignored",
          "traceback": [
            "\u001b[0;31m---------------------------------------------------------------------------\u001b[0m",
            "\u001b[0;31mNameError\u001b[0m                                 Traceback (most recent call last)",
            "\u001b[0;32m<ipython-input-162-dacc25498349>\u001b[0m in \u001b[0;36m<cell line: 1>\u001b[0;34m()\u001b[0m\n\u001b[0;32m----> 1\u001b[0;31m \u001b[0mplot_precision_recall_curve\u001b[0m\u001b[0;34m(\u001b[0m\u001b[0mgb_model\u001b[0m\u001b[0;34m,\u001b[0m \u001b[0mX_test\u001b[0m\u001b[0;34m,\u001b[0m \u001b[0my_test\u001b[0m\u001b[0;34m)\u001b[0m\u001b[0;34m;\u001b[0m\u001b[0;34m\u001b[0m\u001b[0;34m\u001b[0m\u001b[0m\n\u001b[0m",
            "\u001b[0;31mNameError\u001b[0m: name 'plot_precision_recall_curve' is not defined"
          ]
        }
      ]
    },
    {
      "cell_type": "code",
      "source": [
        "#plot_roc_curve(gb_model, X_test, y_test);  # Roc curve"
      ],
      "metadata": {
        "id": "6C3N1KYeBpTN",
        "execution": {
          "iopub.status.busy": "2022-07-31T16:59:01.826163Z",
          "iopub.execute_input": "2022-07-31T16:59:01.826470Z",
          "iopub.status.idle": "2022-07-31T16:59:02.083805Z",
          "shell.execute_reply.started": "2022-07-31T16:59:01.826444Z",
          "shell.execute_reply": "2022-07-31T16:59:02.082918Z"
        },
        "trusted": true
      },
      "execution_count": null,
      "outputs": []
    },
    {
      "cell_type": "code",
      "source": [
        "y_pred = gb_model.predict(X_test)\n",
        "gb_f1 = f1_score(y_test, y_pred)\n",
        "gb_recall = recall_score(y_test, y_pred)\n",
        "gb_auc = roc_auc_score(y_test, y_pred)"
      ],
      "metadata": {
        "id": "T_fP4V-dtzUC",
        "execution": {
          "iopub.status.busy": "2022-07-31T16:59:02.085359Z",
          "iopub.execute_input": "2022-07-31T16:59:02.085955Z",
          "iopub.status.idle": "2022-07-31T16:59:02.097767Z",
          "shell.execute_reply.started": "2022-07-31T16:59:02.085915Z",
          "shell.execute_reply": "2022-07-31T16:59:02.096570Z"
        },
        "trusted": true
      },
      "execution_count": null,
      "outputs": []
    },
    {
      "cell_type": "markdown",
      "source": [
        "## XG Boost"
      ],
      "metadata": {
        "id": "pLAJkzDhtzUE"
      }
    },
    {
      "cell_type": "code",
      "source": [
        "from xgboost import XGBClassifier"
      ],
      "metadata": {
        "id": "fT2RIq6ltzUE",
        "execution": {
          "iopub.status.busy": "2022-07-31T16:59:02.099692Z",
          "iopub.execute_input": "2022-07-31T16:59:02.100434Z",
          "iopub.status.idle": "2022-07-31T16:59:02.190015Z",
          "shell.execute_reply.started": "2022-07-31T16:59:02.100397Z",
          "shell.execute_reply": "2022-07-31T16:59:02.189199Z"
        },
        "trusted": true
      },
      "execution_count": null,
      "outputs": []
    },
    {
      "cell_type": "code",
      "source": [
        "xgb = XGBClassifier(random_state=10).fit(X_train, y_train)\n",
        "eval_metric(xgb, X_train, y_train, X_test, y_test)\n",
        "# before tuning"
      ],
      "metadata": {
        "id": "L9CM3ygJtzUF",
        "outputId": "014cbb24-9264-43a8-ad14-323793eddb6f",
        "execution": {
          "iopub.status.busy": "2022-07-31T16:59:02.191459Z",
          "iopub.execute_input": "2022-07-31T16:59:02.191815Z",
          "iopub.status.idle": "2022-07-31T16:59:04.791832Z",
          "shell.execute_reply.started": "2022-07-31T16:59:02.191779Z",
          "shell.execute_reply": "2022-07-31T16:59:04.791099Z"
        },
        "trusted": true,
        "colab": {
          "base_uri": "https://localhost:8080/"
        }
      },
      "execution_count": null,
      "outputs": [
        {
          "output_type": "stream",
          "name": "stdout",
          "text": [
            "Test_Set\n",
            "confussion matrix\n",
            "[[20  8]\n",
            " [ 6 27]]\n",
            "              precision    recall  f1-score   support\n",
            "\n",
            "           0       0.77      0.71      0.74        28\n",
            "           1       0.77      0.82      0.79        33\n",
            "\n",
            "    accuracy                           0.77        61\n",
            "   macro avg       0.77      0.77      0.77        61\n",
            "weighted avg       0.77      0.77      0.77        61\n",
            "\n",
            "\n",
            "Train_Set\n",
            "confussion matrix\n",
            "[[110   0]\n",
            " [  0 132]]\n",
            "              precision    recall  f1-score   support\n",
            "\n",
            "           0       1.00      1.00      1.00       110\n",
            "           1       1.00      1.00      1.00       132\n",
            "\n",
            "    accuracy                           1.00       242\n",
            "   macro avg       1.00      1.00      1.00       242\n",
            "weighted avg       1.00      1.00      1.00       242\n",
            "\n"
          ]
        }
      ]
    },
    {
      "cell_type": "markdown",
      "source": [
        "There is overfitting for the model. I will tune it."
      ],
      "metadata": {
        "id": "gE4deWDckXgC"
      }
    },
    {
      "cell_type": "code",
      "source": [
        "xgb = XGBClassifier(random_state=10, max_depth=2, learning_rate=0.1, scale_pos_weight=3, subsample=0.1).fit(X_train, y_train)\n",
        "eval_metric(xgb, X_train, y_train, X_test, y_test)\n",
        "# after tuning"
      ],
      "metadata": {
        "id": "65ZHTV70tzUF",
        "outputId": "c7b463be-0e97-4eb1-ed85-f58e885b0923",
        "execution": {
          "iopub.status.busy": "2022-07-31T16:59:04.794791Z",
          "iopub.execute_input": "2022-07-31T16:59:04.795061Z",
          "iopub.status.idle": "2022-07-31T16:59:04.843064Z",
          "shell.execute_reply.started": "2022-07-31T16:59:04.795035Z",
          "shell.execute_reply": "2022-07-31T16:59:04.842381Z"
        },
        "trusted": true,
        "colab": {
          "base_uri": "https://localhost:8080/"
        }
      },
      "execution_count": null,
      "outputs": [
        {
          "output_type": "stream",
          "name": "stdout",
          "text": [
            "Test_Set\n",
            "confussion matrix\n",
            "[[16 12]\n",
            " [ 5 28]]\n",
            "              precision    recall  f1-score   support\n",
            "\n",
            "           0       0.76      0.57      0.65        28\n",
            "           1       0.70      0.85      0.77        33\n",
            "\n",
            "    accuracy                           0.72        61\n",
            "   macro avg       0.73      0.71      0.71        61\n",
            "weighted avg       0.73      0.72      0.71        61\n",
            "\n",
            "\n",
            "Train_Set\n",
            "confussion matrix\n",
            "[[ 76  34]\n",
            " [  8 124]]\n",
            "              precision    recall  f1-score   support\n",
            "\n",
            "           0       0.90      0.69      0.78       110\n",
            "           1       0.78      0.94      0.86       132\n",
            "\n",
            "    accuracy                           0.83       242\n",
            "   macro avg       0.84      0.82      0.82       242\n",
            "weighted avg       0.84      0.83      0.82       242\n",
            "\n"
          ]
        }
      ]
    },
    {
      "cell_type": "markdown",
      "source": [
        "### Grid Search for XG Boost ( Hyperparameter Tuning)\n"
      ],
      "metadata": {
        "id": "gbopQrTStzUG"
      }
    },
    {
      "cell_type": "code",
      "source": [
        "param_grid = {\"n_estimators\":[50, 100, 200, 250],\n",
        "              'max_depth':[4,6,8],\n",
        "              \"learning_rate\": [0.1, 0.2],\n",
        "              \"subsample\":[0.5, 1, 1.5],\n",
        "              \"colsample_bytree\":[0.5,0.7, 1]}"
      ],
      "metadata": {
        "id": "6qa1f3LitzUG",
        "execution": {
          "iopub.status.busy": "2022-07-31T16:59:04.846273Z",
          "iopub.execute_input": "2022-07-31T16:59:04.847326Z",
          "iopub.status.idle": "2022-07-31T16:59:04.852597Z",
          "shell.execute_reply.started": "2022-07-31T16:59:04.847288Z",
          "shell.execute_reply": "2022-07-31T16:59:04.851572Z"
        },
        "trusted": true
      },
      "execution_count": null,
      "outputs": []
    },
    {
      "cell_type": "code",
      "source": [
        "xgb_model = XGBClassifier(random_state=10)"
      ],
      "metadata": {
        "id": "XRNUyMINtzUH",
        "execution": {
          "iopub.status.busy": "2022-07-31T16:59:04.853885Z",
          "iopub.execute_input": "2022-07-31T16:59:04.854361Z",
          "iopub.status.idle": "2022-07-31T16:59:04.862106Z",
          "shell.execute_reply.started": "2022-07-31T16:59:04.854324Z",
          "shell.execute_reply": "2022-07-31T16:59:04.861178Z"
        },
        "trusted": true
      },
      "execution_count": null,
      "outputs": []
    },
    {
      "cell_type": "code",
      "source": [
        "xgb_grid = GridSearchCV(xgb_model, param_grid, scoring = \"f1\").fit(X_train, y_train)"
      ],
      "metadata": {
        "id": "330Ql8HatzUH",
        "execution": {
          "iopub.status.busy": "2022-07-31T16:59:04.863634Z",
          "iopub.execute_input": "2022-07-31T16:59:04.864340Z",
          "iopub.status.idle": "2022-07-31T16:59:48.496284Z",
          "shell.execute_reply.started": "2022-07-31T16:59:04.864300Z",
          "shell.execute_reply": "2022-07-31T16:59:48.495532Z"
        },
        "trusted": true
      },
      "execution_count": null,
      "outputs": []
    },
    {
      "cell_type": "code",
      "source": [
        "xgb_grid.best_params_"
      ],
      "metadata": {
        "id": "0guJ0vHZtzUH",
        "outputId": "210f4a0e-f122-49fc-d17b-ca999d01c358",
        "execution": {
          "iopub.status.busy": "2022-07-31T16:59:48.497599Z",
          "iopub.execute_input": "2022-07-31T16:59:48.498131Z",
          "iopub.status.idle": "2022-07-31T16:59:48.505947Z",
          "shell.execute_reply.started": "2022-07-31T16:59:48.498095Z",
          "shell.execute_reply": "2022-07-31T16:59:48.505213Z"
        },
        "trusted": true,
        "colab": {
          "base_uri": "https://localhost:8080/"
        }
      },
      "execution_count": null,
      "outputs": [
        {
          "output_type": "execute_result",
          "data": {
            "text/plain": [
              "{'colsample_bytree': 0.7,\n",
              " 'learning_rate': 0.2,\n",
              " 'max_depth': 4,\n",
              " 'n_estimators': 100,\n",
              " 'subsample': 0.5}"
            ]
          },
          "metadata": {},
          "execution_count": 170
        }
      ]
    },
    {
      "cell_type": "code",
      "source": [
        "eval_metric(xgb_grid, X_train, y_train, X_test, y_test)"
      ],
      "metadata": {
        "id": "q4Unu_IztzUI",
        "outputId": "8a61c81a-b7ee-49a1-9f16-2f85b4cd0623",
        "execution": {
          "iopub.status.busy": "2022-07-31T16:59:48.507307Z",
          "iopub.execute_input": "2022-07-31T16:59:48.509242Z",
          "iopub.status.idle": "2022-07-31T16:59:48.532740Z",
          "shell.execute_reply.started": "2022-07-31T16:59:48.509198Z",
          "shell.execute_reply": "2022-07-31T16:59:48.531970Z"
        },
        "trusted": true,
        "colab": {
          "base_uri": "https://localhost:8080/"
        }
      },
      "execution_count": null,
      "outputs": [
        {
          "output_type": "stream",
          "name": "stdout",
          "text": [
            "Test_Set\n",
            "confussion matrix\n",
            "[[21  7]\n",
            " [ 6 27]]\n",
            "              precision    recall  f1-score   support\n",
            "\n",
            "           0       0.78      0.75      0.76        28\n",
            "           1       0.79      0.82      0.81        33\n",
            "\n",
            "    accuracy                           0.79        61\n",
            "   macro avg       0.79      0.78      0.78        61\n",
            "weighted avg       0.79      0.79      0.79        61\n",
            "\n",
            "\n",
            "Train_Set\n",
            "confussion matrix\n",
            "[[108   2]\n",
            " [  0 132]]\n",
            "              precision    recall  f1-score   support\n",
            "\n",
            "           0       1.00      0.98      0.99       110\n",
            "           1       0.99      1.00      0.99       132\n",
            "\n",
            "    accuracy                           0.99       242\n",
            "   macro avg       0.99      0.99      0.99       242\n",
            "weighted avg       0.99      0.99      0.99       242\n",
            "\n"
          ]
        }
      ]
    },
    {
      "cell_type": "code",
      "source": [
        "#plot_precision_recall_curve(xgb_grid, X_test, y_test);"
      ],
      "metadata": {
        "id": "nFTaTOgxkJCg",
        "outputId": "99888bad-b629-41a7-c49e-8d30a772a735",
        "execution": {
          "iopub.status.busy": "2022-07-31T16:59:48.533987Z",
          "iopub.execute_input": "2022-07-31T16:59:48.534513Z",
          "iopub.status.idle": "2022-07-31T16:59:48.791383Z",
          "shell.execute_reply.started": "2022-07-31T16:59:48.534480Z",
          "shell.execute_reply": "2022-07-31T16:59:48.790510Z"
        },
        "trusted": true,
        "colab": {
          "base_uri": "https://localhost:8080/",
          "height": 171
        }
      },
      "execution_count": null,
      "outputs": [
        {
          "output_type": "error",
          "ename": "NameError",
          "evalue": "ignored",
          "traceback": [
            "\u001b[0;31m---------------------------------------------------------------------------\u001b[0m",
            "\u001b[0;31mNameError\u001b[0m                                 Traceback (most recent call last)",
            "\u001b[0;32m<ipython-input-172-e5f37fdeefc2>\u001b[0m in \u001b[0;36m<cell line: 1>\u001b[0;34m()\u001b[0m\n\u001b[0;32m----> 1\u001b[0;31m \u001b[0mplot_precision_recall_curve\u001b[0m\u001b[0;34m(\u001b[0m\u001b[0mxgb_grid\u001b[0m\u001b[0;34m,\u001b[0m \u001b[0mX_test\u001b[0m\u001b[0;34m,\u001b[0m \u001b[0my_test\u001b[0m\u001b[0;34m)\u001b[0m\u001b[0;34m;\u001b[0m\u001b[0;34m\u001b[0m\u001b[0;34m\u001b[0m\u001b[0m\n\u001b[0m",
            "\u001b[0;31mNameError\u001b[0m: name 'plot_precision_recall_curve' is not defined"
          ]
        }
      ]
    },
    {
      "cell_type": "code",
      "source": [
        "#plot_roc_curve(xgb_grid, X_test, y_test);  # Roc curve"
      ],
      "metadata": {
        "id": "PbEnykZdB061",
        "execution": {
          "iopub.status.busy": "2022-07-31T16:59:48.792887Z",
          "iopub.execute_input": "2022-07-31T16:59:48.793246Z",
          "iopub.status.idle": "2022-07-31T16:59:49.054648Z",
          "shell.execute_reply.started": "2022-07-31T16:59:48.793197Z",
          "shell.execute_reply": "2022-07-31T16:59:49.053683Z"
        },
        "trusted": true
      },
      "execution_count": null,
      "outputs": []
    },
    {
      "cell_type": "markdown",
      "source": [
        "For XG boost, the model manually tuned gave better scores than the grid search model. Therefore, we saved its' scores."
      ],
      "metadata": {
        "id": "yh1VGezzhlaN"
      }
    },
    {
      "cell_type": "code",
      "source": [
        "y_pred = xgb.predict(X_test)\n",
        "xgb_f1 = f1_score(y_test, y_pred)\n",
        "xgb_recall = recall_score(y_test, y_pred)\n",
        "xgb_auc = roc_auc_score(y_test, y_pred)"
      ],
      "metadata": {
        "id": "H419bLGyIETU",
        "execution": {
          "iopub.status.busy": "2022-07-31T16:59:49.056067Z",
          "iopub.execute_input": "2022-07-31T16:59:49.057800Z",
          "iopub.status.idle": "2022-07-31T16:59:49.069703Z",
          "shell.execute_reply.started": "2022-07-31T16:59:49.057759Z",
          "shell.execute_reply": "2022-07-31T16:59:49.068890Z"
        },
        "trusted": true
      },
      "execution_count": null,
      "outputs": []
    },
    {
      "cell_type": "markdown",
      "source": [
        "# Comparing Different Models"
      ],
      "metadata": {
        "id": "ii2962kLImGg"
      }
    },
    {
      "cell_type": "code",
      "source": [
        "compare = pd.DataFrame({\"Model\": [\"Logistic Regression\", \"Random Forest\", \"GradientBoost\", \"XGBoost\"],\n",
        "\n",
        "                        \"F1\": [log_f1, rf_f1, gb_f1, xgb_f1],\n",
        "                        \"Recall\": [log_recall, rf_recall, gb_recall, xgb_recall],\n",
        "                        \"ROC_AUC\": [log_auc, rf_auc, gb_auc, xgb_auc]})\n",
        "\n",
        "def labels(ax):\n",
        "    for p in ax.patches:\n",
        "        width = p.get_width()\n",
        "        ax.text(width,\n",
        "                p.get_y() + p.get_height() / 2,\n",
        "                '{:1.3f}'.format(width),\n",
        "                ha = 'left',\n",
        "                va = 'center')\n",
        "\n",
        "plt.figure(figsize=(12,11))\n",
        "plt.subplot(311)\n",
        "compare = compare.sort_values(by=\"F1\", ascending=False)\n",
        "ax=sns.barplot(x=\"F1\", y=\"Model\", data=compare, palette=\"ch:8.3,.6,dark=.6\")\n",
        "labels(ax)\n",
        "\n",
        "plt.subplot(312)\n",
        "compare = compare.sort_values(by=\"Recall\", ascending=False)\n",
        "ax=sns.barplot(x=\"Recall\", y=\"Model\", data=compare, palette=\"ch:8.3,.6,dark=.5\")\n",
        "labels(ax)\n",
        "\n",
        "plt.subplot(313)\n",
        "compare = compare.sort_values(by=\"ROC_AUC\", ascending=False)\n",
        "ax=sns.barplot(x=\"ROC_AUC\", y=\"Model\", data=compare, palette=\"ch:8.3,.6,dark=.6\")\n",
        "labels(ax)\n",
        "plt.show()"
      ],
      "metadata": {
        "id": "2XPoB83tIpXG",
        "outputId": "f8c713f4-7ce2-4103-d847-a2ccf4a3f173",
        "execution": {
          "iopub.status.busy": "2022-07-31T16:59:49.071407Z",
          "iopub.execute_input": "2022-07-31T16:59:49.071946Z",
          "iopub.status.idle": "2022-07-31T16:59:49.727725Z",
          "shell.execute_reply.started": "2022-07-31T16:59:49.071917Z",
          "shell.execute_reply": "2022-07-31T16:59:49.726758Z"
        },
        "trusted": true,
        "colab": {
          "base_uri": "https://localhost:8080/",
          "height": 624
        }
      },
      "execution_count": null,
      "outputs": [
        {
          "output_type": "display_data",
          "data": {
            "text/plain": [
              "<Figure size 1200x1100 with 3 Axes>"
            ],
            "image/png": "[encoded data removed]"
          },
          "metadata": {}
        }
      ]
    },
    {
      "cell_type": "markdown",
      "source": [
        "## Final Model"
      ],
      "metadata": {
        "id": "xx0r7UB_tzUI"
      }
    },
    {
      "cell_type": "markdown",
      "source": [
        "The final model has been created with its best parameters using Pipeline."
      ],
      "metadata": {
        "id": "lrTlea_1g1hQ"
      }
    },
    {
      "cell_type": "code",
      "source": [
        "from sklearn.pipeline import Pipeline"
      ],
      "metadata": {
        "id": "BQpgCLBLtzUJ",
        "execution": {
          "iopub.status.busy": "2022-07-31T16:59:49.728740Z",
          "iopub.execute_input": "2022-07-31T16:59:49.729090Z",
          "iopub.status.idle": "2022-07-31T16:59:49.734413Z",
          "shell.execute_reply.started": "2022-07-31T16:59:49.729055Z",
          "shell.execute_reply": "2022-07-31T16:59:49.733399Z"
        },
        "trusted": true
      },
      "execution_count": null,
      "outputs": []
    },
    {
      "cell_type": "code",
      "source": [
        "model_pipeline = Pipeline([('classifier', LogisticRegression(C=0.2, max_iter = 200, class_weight=\"balanced\"))])\n",
        "model_pipeline.fit(X_train, y_train)"
      ],
      "metadata": {
        "id": "QxWiW2j8tzUK",
        "outputId": "95a330e7-b50b-42b2-f8c2-5e3a55ff552e",
        "execution": {
          "iopub.status.busy": "2022-07-31T16:59:49.736048Z",
          "iopub.execute_input": "2022-07-31T16:59:49.736902Z",
          "iopub.status.idle": "2022-07-31T16:59:49.814848Z",
          "shell.execute_reply.started": "2022-07-31T16:59:49.736806Z",
          "shell.execute_reply": "2022-07-31T16:59:49.813881Z"
        },
        "trusted": true,
        "colab": {
          "base_uri": "https://localhost:8080/",
          "height": 172
        }
      },
      "execution_count": null,
      "outputs": [
        {
          "output_type": "execute_result",
          "data": {
            "text/plain": [
              "Pipeline(steps=[('classifier',\n",
              "                 LogisticRegression(C=0.2, class_weight='balanced',\n",
              "                                    max_iter=200))])"
            ],
            "text/html": [
              "<style>#sk-container-id-3 {color: black;background-color: white;}#sk-container-id-3 pre{padding: 0;}#sk-container-id-3 div.sk-toggleable {background-color: white;}#sk-container-id-3 label.sk-toggleable__label {cursor: pointer;display: block;width: 100%;margin-bottom: 0;padding: 0.3em;box-sizing: border-box;text-align: center;}#sk-container-id-3 label.sk-toggleable__label-arrow:before {content: \"▸\";float: left;margin-right: 0.25em;color: #696969;}#sk-container-id-3 label.sk-toggleable__label-arrow:hover:before {color: black;}#sk-container-id-3 div.sk-estimator:hover label.sk-toggleable__label-arrow:before {color: black;}#sk-container-id-3 div.sk-toggleable__content {max-height: 0;max-width: 0;overflow: hidden;text-align: left;background-color: #f0f8ff;}#sk-container-id-3 div.sk-toggleable__content pre {margin: 0.2em;color: black;border-radius: 0.25em;background-color: #f0f8ff;}#sk-container-id-3 input.sk-toggleable__control:checked~div.sk-toggleable__content {max-height: 200px;max-width: 100%;overflow: auto;}#sk-container-id-3 input.sk-toggleable__control:checked~label.sk-toggleable__label-arrow:before {content: \"▾\";}#sk-container-id-3 div.sk-estimator input.sk-toggleable__control:checked~label.sk-toggleable__label {background-color: #d4ebff;}#sk-container-id-3 div.sk-label input.sk-toggleable__control:checked~label.sk-toggleable__label {background-color: #d4ebff;}#sk-container-id-3 input.sk-hidden--visually {border: 0;clip: rect(1px 1px 1px 1px);clip: rect(1px, 1px, 1px, 1px);height: 1px;margin: -1px;overflow: hidden;padding: 0;position: absolute;width: 1px;}#sk-container-id-3 div.sk-estimator {font-family: monospace;background-color: #f0f8ff;border: 1px dotted black;border-radius: 0.25em;box-sizing: border-box;margin-bottom: 0.5em;}#sk-container-id-3 div.sk-estimator:hover {background-color: #d4ebff;}#sk-container-id-3 div.sk-parallel-item::after {content: \"\";width: 100%;border-bottom: 1px solid gray;flex-grow: 1;}#sk-container-id-3 div.sk-label:hover label.sk-toggleable__label {background-color: #d4ebff;}#sk-container-id-3 div.sk-serial::before {content: \"\";position: absolute;border-left: 1px solid gray;box-sizing: border-box;top: 0;bottom: 0;left: 50%;z-index: 0;}#sk-container-id-3 div.sk-serial {display: flex;flex-direction: column;align-items: center;background-color: white;padding-right: 0.2em;padding-left: 0.2em;position: relative;}#sk-container-id-3 div.sk-item {position: relative;z-index: 1;}#sk-container-id-3 div.sk-parallel {display: flex;align-items: stretch;justify-content: center;background-color: white;position: relative;}#sk-container-id-3 div.sk-item::before, #sk-container-id-3 div.sk-parallel-item::before {content: \"\";position: absolute;border-left: 1px solid gray;box-sizing: border-box;top: 0;bottom: 0;left: 50%;z-index: -1;}#sk-container-id-3 div.sk-parallel-item {display: flex;flex-direction: column;z-index: 1;position: relative;background-color: white;}#sk-container-id-3 div.sk-parallel-item:first-child::after {align-self: flex-end;width: 50%;}#sk-container-id-3 div.sk-parallel-item:last-child::after {align-self: flex-start;width: 50%;}#sk-container-id-3 div.sk-parallel-item:only-child::after {width: 0;}#sk-container-id-3 div.sk-dashed-wrapped {border: 1px dashed gray;margin: 0 0.4em 0.5em 0.4em;box-sizing: border-box;padding-bottom: 0.4em;background-color: white;}#sk-container-id-3 div.sk-label label {font-family: monospace;font-weight: bold;display: inline-block;line-height: 1.2em;}#sk-container-id-3 div.sk-label-container {text-align: center;}#sk-container-id-3 div.sk-container {/* jupyter's `normalize.less` sets `[hidden] { display: none; }` but bootstrap.min.css set `[hidden] { display: none !important; }` so we also need the `!important` here to be able to override the default hidden behavior on the sphinx rendered scikit-learn.org. See: https://github.com/scikit-learn/scikit-learn/issues/21755 */display: inline-block !important;position: relative;}#sk-container-id-3 div.sk-text-repr-fallback {display: none;}</style><div id=\"sk-container-id-3\" class=\"sk-top-container\"><div class=\"sk-text-repr-fallback\"><pre>Pipeline(steps=[(&#x27;classifier&#x27;,\n",
              "                 LogisticRegression(C=0.2, class_weight=&#x27;balanced&#x27;,\n",
              "                                    max_iter=200))])</pre><b>In a Jupyter environment, please rerun this cell to show the HTML representation or trust the notebook. <br />On GitHub, the HTML representation is unable to render, please try loading this page with nbviewer.org.</b></div><div class=\"sk-container\" hidden><div class=\"sk-item sk-dashed-wrapped\"><div class=\"sk-label-container\"><div class=\"sk-label sk-toggleable\"><input class=\"sk-toggleable__control sk-hidden--visually\" id=\"sk-estimator-id-5\" type=\"checkbox\" ><label for=\"sk-estimator-id-5\" class=\"sk-toggleable__label sk-toggleable__label-arrow\">Pipeline</label><div class=\"sk-toggleable__content\"><pre>Pipeline(steps=[(&#x27;classifier&#x27;,\n",
              "                 LogisticRegression(C=0.2, class_weight=&#x27;balanced&#x27;,\n",
              "                                    max_iter=200))])</pre></div></div></div><div class=\"sk-serial\"><div class=\"sk-item\"><div class=\"sk-estimator sk-toggleable\"><input class=\"sk-toggleable__control sk-hidden--visually\" id=\"sk-estimator-id-6\" type=\"checkbox\" ><label for=\"sk-estimator-id-6\" class=\"sk-toggleable__label sk-toggleable__label-arrow\">LogisticRegression</label><div class=\"sk-toggleable__content\"><pre>LogisticRegression(C=0.2, class_weight=&#x27;balanced&#x27;, max_iter=200)</pre></div></div></div></div></div></div></div>"
            ]
          },
          "metadata": {},
          "execution_count": 176
        }
      ]
    }
  ]
}